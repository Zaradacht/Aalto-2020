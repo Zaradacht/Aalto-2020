{
 "cells": [
  {
   "cell_type": "markdown",
   "metadata": {
    "deletable": false,
    "editable": false,
    "nbgrader": {
     "cell_type": "markdown",
     "checksum": "0cebdfae10013d8a6ecd01a6067bb0e4",
     "grade": false,
     "grade_id": "cell-bdc2c3e9281cbcf7",
     "locked": true,
     "schema_version": 3,
     "solution": false,
     "task": false
    }
   },
   "source": [
    "<div class=\"alert alert-block alert-info\">\n",
    "<b>Number of points for this notebook:</b> 4\n",
    "<br>\n",
    "<b>Deadline:</b> April 20, 2020 (Monday). 23:00\n",
    "</div>\n",
    "\n",
    "# Exercise 7. Graph neural networks. Recurrent relational network\n",
    "\n",
    "The goal of this exercise is to get familiar with graph neural networks.\n",
    "\n",
    "We will implement a simplified version of the recurrent relational network proposed in [this paper](http://papers.nips.cc/paper/7597-recurrent-relational-networks.pdf)."
   ]
  },
  {
   "cell_type": "code",
   "execution_count": 1,
   "metadata": {},
   "outputs": [],
   "source": [
    "skip_training = False  # Set this flag to True before validation and submission"
   ]
  },
  {
   "cell_type": "code",
   "execution_count": 2,
   "metadata": {
    "deletable": false,
    "editable": false,
    "nbgrader": {
     "cell_type": "code",
     "checksum": "165a01ef494feb7adc44522e39794f71",
     "grade": true,
     "grade_id": "cell-f455db2a64cfbc10",
     "locked": true,
     "points": 0,
     "schema_version": 3,
     "solution": false,
     "task": false
    }
   },
   "outputs": [],
   "source": [
    "# During evaluation, this cell sets skip_training to True\n",
    "# skip_training = True"
   ]
  },
  {
   "cell_type": "code",
   "execution_count": 3,
   "metadata": {},
   "outputs": [],
   "source": [
    "import time\n",
    "import torch\n",
    "import numpy as np\n",
    "import matplotlib.pyplot as plt\n",
    "\n",
    "import torch.nn as nn\n",
    "import torch.nn.functional as F\n",
    "import torch.optim as optim\n",
    "from torch.utils.data import TensorDataset, DataLoader\n",
    "\n",
    "import tools\n",
    "import tests"
   ]
  },
  {
   "cell_type": "code",
   "execution_count": 4,
   "metadata": {},
   "outputs": [
    {
     "name": "stdout",
     "output_type": "stream",
     "text": [
      "The data directory is /coursedata\n"
     ]
    }
   ],
   "source": [
    "# When running on your own computer, you can specify the data directory by:\n",
    "# data_dir = tools.select_data_dir('/your/local/data/directory')\n",
    "data_dir = tools.select_data_dir()"
   ]
  },
  {
   "cell_type": "code",
   "execution_count": 5,
   "metadata": {},
   "outputs": [],
   "source": [
    "# Select the device for training (use GPU if you have one)\n",
    "#device = torch.device('cuda:0')\n",
    "device = torch.device('cpu')"
   ]
  },
  {
   "cell_type": "code",
   "execution_count": 6,
   "metadata": {
    "deletable": false,
    "editable": false,
    "nbgrader": {
     "cell_type": "code",
     "checksum": "c000e09278f7a11b4e0ec6c55586f179",
     "grade": false,
     "grade_id": "cell-dbefffd6c1ecd0e6",
     "locked": true,
     "schema_version": 3,
     "solution": false,
     "task": false
    }
   },
   "outputs": [],
   "source": [
    "if skip_training:\n",
    "    # The models are always evaluated on CPU\n",
    "    device = torch.device(\"cpu\")"
   ]
  },
  {
   "cell_type": "markdown",
   "metadata": {
    "deletable": false,
    "editable": false,
    "nbgrader": {
     "cell_type": "markdown",
     "checksum": "94ff585d623e04d102c3c10b5db7b007",
     "grade": false,
     "grade_id": "cell-0a18248531b242c1",
     "locked": true,
     "schema_version": 3,
     "solution": false,
     "task": false
    }
   },
   "source": [
    "# Data\n",
    "\n",
    "The dataset is a set of sudoku puzzles with solutions obtained from [here](https://github.com/locuslab/SATNet)."
   ]
  },
  {
   "cell_type": "code",
   "execution_count": 7,
   "metadata": {
    "deletable": false,
    "editable": false,
    "nbgrader": {
     "cell_type": "code",
     "checksum": "dd73ac621312a3d8a78f419b3fca1cdf",
     "grade": false,
     "grade_id": "cell-52fd7fdb88c05e1e",
     "locked": true,
     "schema_version": 3,
     "solution": false,
     "task": false
    }
   },
   "outputs": [
    {
     "name": "stdout",
     "output_type": "stream",
     "text": [
      "torch.Size([81, 9]) torch.Size([81])\n"
     ]
    }
   ],
   "source": [
    "import data\n",
    "trainset = data.Sudoku(data_dir, train=True)\n",
    "testset = data.Sudoku(data_dir, train=False)\n",
    "\n",
    "x, y = trainset[0]\n",
    "print(x.shape, y.shape)"
   ]
  },
  {
   "cell_type": "markdown",
   "metadata": {
    "deletable": false,
    "editable": false,
    "nbgrader": {
     "cell_type": "markdown",
     "checksum": "64a0bbff6d55d8c116ee56ffe1519387",
     "grade": false,
     "grade_id": "cell-bfa379ded9e81dfd",
     "locked": true,
     "schema_version": 3,
     "solution": false,
     "task": false
    }
   },
   "source": [
    "We can visualize the data in the following way."
   ]
  },
  {
   "cell_type": "code",
   "execution_count": 8,
   "metadata": {
    "deletable": false,
    "editable": false,
    "nbgrader": {
     "cell_type": "code",
     "checksum": "ff65b8023528777e754d64da0b829040",
     "grade": false,
     "grade_id": "cell-e2ec662ae3e456cf",
     "locked": true,
     "schema_version": 3,
     "solution": false,
     "task": false
    }
   },
   "outputs": [],
   "source": [
    "def sudoku_to_labels(x):\n",
    "    \"\"\"Convert one-hot coded sudoku puzzles to labels. -1 corresponds to missing labels.\n",
    "    \n",
    "    Args:\n",
    "      x of shape (n_rows=9, n_colums=9, n_digits=9): Tensor with a sudoku board. The digits are one-hot coded.\n",
    "                  Cells with unknown digits have all zeros along the third dimension.\n",
    "    \"\"\"\n",
    "    assert x.shape == torch.Size([9, 9, 9]), \"Wrong shape {}\".format(x.shape)\n",
    "    is_filled = x.sum(dim=2)\n",
    "    y = x.argmax(dim=2)\n",
    "    y[~is_filled.bool()] = -1\n",
    "    return y"
   ]
  },
  {
   "cell_type": "code",
   "execution_count": 9,
   "metadata": {
    "deletable": false,
    "editable": false,
    "nbgrader": {
     "cell_type": "code",
     "checksum": "bbec24d9865256c37ebb9cdd850ba994",
     "grade": false,
     "grade_id": "cell-f65b460624d547c2",
     "locked": true,
     "schema_version": 3,
     "solution": false,
     "task": false
    }
   },
   "outputs": [
    {
     "name": "stdout",
     "output_type": "stream",
     "text": [
      "tensor([[ 5,  6, -1, -1, -1, -1, -1, -1,  4],\n",
      "        [-1, -1,  2, -1,  3, -1, -1,  7,  1],\n",
      "        [-1,  3, -1, -1, -1,  4,  0,  2,  5],\n",
      "        [-1, -1, -1,  6,  2, -1, -1,  8, -1],\n",
      "        [ 2, -1,  3,  1, -1,  5, -1,  6, -1],\n",
      "        [-1, -1,  0, -1,  8, -1,  5, -1, -1],\n",
      "        [ 4, -1,  8, -1, -1,  7, -1, -1, -1],\n",
      "        [-1, -1, -1,  8,  4, -1,  1, -1,  7],\n",
      "        [-1, -1, -1,  0,  1,  6,  3, -1, -1]])\n"
     ]
    }
   ],
   "source": [
    "print(sudoku_to_labels(x.view(9, 9, 9)))"
   ]
  },
  {
   "cell_type": "code",
   "execution_count": 10,
   "metadata": {
    "deletable": false,
    "editable": false,
    "nbgrader": {
     "cell_type": "code",
     "checksum": "7b67d8b0b725f17eeb7367b2d043cdad",
     "grade": false,
     "grade_id": "cell-97be4a389937532c",
     "locked": true,
     "schema_version": 3,
     "solution": false,
     "task": false
    }
   },
   "outputs": [
    {
     "data": {
      "image/png": "[encoded data removed]",
      "text/plain": [
       "<Figure size 504x504 with 1 Axes>"
      ]
     },
     "metadata": {
      "needs_background": "light"
     },
     "output_type": "display_data"
    }
   ],
   "source": [
    "tools.draw_sudoku(x.view(9, 9, 9), logits=False)"
   ]
  },
  {
   "cell_type": "markdown",
   "metadata": {
    "deletable": false,
    "editable": false,
    "nbgrader": {
     "cell_type": "markdown",
     "checksum": "08d294b37a7ee625627538b69d76409d",
     "grade": false,
     "grade_id": "cell-eb45c36fad255047",
     "locked": true,
     "schema_version": 3,
     "solution": false,
     "task": false
    }
   },
   "source": [
    "## Graph\n",
    "\n",
    "We describe each sudoku puzzle as a graph in which each node corresponds to one of the 9*9=81 cells in the puzzle. Each node is connected to 8+8+8-4=20 other nodes:\n",
    "* 8 nodes that correspond to other cells in the same row\n",
    "* 8 nodes that correspond to other cells in the same column\n",
    "* 8 nodes that correspond to other cells in the same $3\\times 3$ box\n",
    "* 4 cells appear both in a $3\\times 3$ box and in the same row or column.\n",
    "\n",
    "In this exercise, we decribe a graph as a set of edges. Each edge is a pair (`src_id`, `dst_id`) where `src_id` is the id of the source node and `dst_id` is the id of the destination node. In the cell below, your task is to describe such a graph by producing two lists:\n",
    "* a list of source node ids `src_id` of all edges\n",
    "* a list of destination node ids `dst_id` of all edges\n",
    "\n",
    "Note: Our tests assume that node ids are between 0 and 80. Please follow this convention."
   ]
  },
  {
   "cell_type": "code",
   "execution_count": 11,
   "metadata": {
    "deletable": false,
    "nbgrader": {
     "cell_type": "code",
     "checksum": "4077620ddab623a5dfc8520783ef7dce",
     "grade": false,
     "grade_id": "sudoku_edges",
     "locked": false,
     "schema_version": 3,
     "solution": true,
     "task": false
    }
   },
   "outputs": [],
   "source": [
    "def sudoku_edges():\n",
    "    \"\"\"Generate edges of the graph describing the sudoku puzzle.\n",
    "    \n",
    "    Returns:\n",
    "      src_ids: LongTensor of length 1620 with source node ids of all the edges in the graph.\n",
    "      dst_ids: LongTensor of length 1620 with destination node ids of all the edges in the graph\n",
    "    \n",
    "    Note: Our tests assume that node ids are between 0 and 80. Please follow this convention.\n",
    "    \"\"\"\n",
    "    # YOUR CODE HERE\n",
    "    field = torch.arange(81, dtype=torch.long).view(9,9)\n",
    "    src_ids = torch.zeros(20,dtype=torch.long)\n",
    "    br = bc = r = c = 0\n",
    "    dst_ids = torch.unique(torch.cat((field[r], field[:,c] , field[br:br+3,bc:bc+3].flatten())))\n",
    "    dst_ids = dst_ids[dst_ids != 0]\n",
    "    for r in range(9):\n",
    "        for c in range(9):\n",
    "            i = (r*9+c)\n",
    "            br = int(r/3)*3\n",
    "            bc = int(c/3)*3\n",
    "            if i == 0: continue\n",
    "            src_ids = torch.cat((src_ids, torch.ones(20,dtype=torch.long)*i),0)\n",
    "            new_dst = torch.unique(torch.cat((field[r], field[:,c] , field[br:br+3,bc:bc+3].flatten() ),0))\n",
    "            new_dst = new_dst[new_dst!=i] \n",
    "            dst_ids = torch.cat((dst_ids, new_dst),0)\n",
    "    return src_ids, dst_ids"
   ]
  },
  {
   "cell_type": "code",
   "execution_count": 12,
   "metadata": {
    "deletable": false,
    "editable": false,
    "nbgrader": {
     "cell_type": "code",
     "checksum": "34cae234fbd66c08bf5f4e17d820f122",
     "grade": true,
     "grade_id": "test_sudoku_edges",
     "locked": true,
     "points": 1,
     "schema_version": 3,
     "solution": false,
     "task": false
    }
   },
   "outputs": [
    {
     "name": "stdout",
     "output_type": "stream",
     "text": [
      "Number of edges in each sudoku graph: 1620\n"
     ]
    }
   ],
   "source": [
    "sudoku_src_ids, sudoku_dst_ids = sudoku_edges()\n",
    "print('Number of edges in each sudoku graph: %d' % len(sudoku_src_ids))\n",
    "assert sudoku_src_ids.dtype == torch.long and sudoku_dst_ids.dtype == torch.long\n",
    "assert len(sudoku_src_ids) == len(sudoku_dst_ids), \"The number of source and destination nodes should be same.\"\n",
    "assert len(sudoku_src_ids) == 1620, \"Wrong number of edges ({}), expected: 1620\".format(len(sudoku_src_ids))\n",
    "assert min(sudoku_src_ids) == 0 and max(sudoku_src_ids) == 80, \"Node ids should be between 0 and 80\"\n",
    "assert min(sudoku_dst_ids) == 0 and max(sudoku_dst_ids) == 80, \"Node ids should be between 0 and 80\""
   ]
  },
  {
   "cell_type": "markdown",
   "metadata": {
    "deletable": false,
    "editable": false,
    "nbgrader": {
     "cell_type": "markdown",
     "checksum": "0e6210824ccbc9d82db0050c7003ce26",
     "grade": false,
     "grade_id": "cell-6853a7c321a2b836",
     "locked": true,
     "schema_version": 3,
     "solution": false,
     "task": false
    }
   },
   "source": [
    "## Custom data loader\n",
    "\n",
    "We first create a custom data loader to process a mini-batch of graphs (in parallel) to compute the derivatives wrt the parameters of the graph neural network. To do that, **we transform a mini-batch of graphs to one large graph without interconnecting edges.** We do this using a custom collate function that you need to implement in the cell below."
   ]
  },
  {
   "cell_type": "code",
   "execution_count": 13,
   "metadata": {
    "deletable": false,
    "nbgrader": {
     "cell_type": "code",
     "checksum": "960275138d827d05bfedc11ce288a5e2",
     "grade": false,
     "grade_id": "cell-e6452aa2777d9e21",
     "locked": false,
     "schema_version": 3,
     "solution": true,
     "task": false
    }
   },
   "outputs": [],
   "source": [
    "def collate(list_of_samples):\n",
    "    \"\"\"Merges a list of samples to form a mini-batch.\n",
    "\n",
    "    Args:\n",
    "      list_of_samples is a list of tuples (inputs, targets),\n",
    "          inputs of shape (n_nodes, 9): Inputs to each node in the graph. Inputs are one-hot coded digits\n",
    "              in the sudoku puzzle. A missing digit is encoded with all zeros. n_nodes=81 for the sudoku graph.\n",
    "          targets of shape (n_nodes): A LongTensor of targets (correct digits in the sudoku puzzle).\n",
    "\n",
    "    Returns:\n",
    "      inputs of shape (batch_size*n_nodes, 9): Inputs to each node in the graph. Inputs are one-hot coded digits\n",
    "          in the sudoku puzzle. A missing digit is encoded with all zeros. n_nodes=81 for the sudoku graph.\n",
    "      targets of shape (batch_size*n_nodes): A LongTensor of targets (correct digits in the sudoku puzzle).\n",
    "      src_ids: LongTensor of source node ids for each edge in the large graph. The source ids should be between\n",
    "          0 and batch_size * 1620.\n",
    "      dst_ids: LongTensor of destination node ids for each edge in the large graph. The destination ids should be\n",
    "          between 0 and batch_size * 1620.\n",
    "    \"\"\"\n",
    "    # YOUR CODE HERE\n",
    "    inputs ,targets = zip(*list_of_samples)\n",
    "    bs = len(inputs)\n",
    "    inputs = torch.cat(inputs,0)\n",
    "    targets = torch.cat(targets,0)\n",
    "    s_ids, d_ids = sudoku_edges()\n",
    "    src_ids, dst_ids = s_ids.clone(), d_ids.clone()\n",
    "    for i in range(1,bs):\n",
    "        src_ids = torch.cat((src_ids,i*81+s_ids),0)\n",
    "        dst_ids = torch.cat((dst_ids,i*81+d_ids),0)\n",
    "    return inputs, targets, src_ids, dst_ids"
   ]
  },
  {
   "cell_type": "code",
   "execution_count": 14,
   "metadata": {
    "deletable": false,
    "editable": false,
    "nbgrader": {
     "cell_type": "code",
     "checksum": "3707026bb0be2ad18b17cdeb98313c55",
     "grade": false,
     "grade_id": "cell-4ab2b243c07d8d74",
     "locked": true,
     "schema_version": 3,
     "solution": false,
     "task": false
    }
   },
   "outputs": [
    {
     "name": "stdout",
     "output_type": "stream",
     "text": [
      "Success\n"
     ]
    }
   ],
   "source": [
    "def test_collate_shapes():\n",
    "    batch_size = 2\n",
    "    n_nodes = 81\n",
    "    inputs, targets, src_ids, dst_ids = collate([trainset[0], trainset[1]])\n",
    "    assert inputs.shape == torch.Size([batch_size*n_nodes, 9]), f\"Bad inputs.shape: {inputs.shape}\"\n",
    "    assert targets.shape == torch.Size([batch_size*n_nodes]), f\"Bad targets.shape: {targets.shape}\"\n",
    "    assert src_ids.shape == torch.Size([batch_size*1620]), f\"Bad src_ids.shape: {src_ids.shape}\"\n",
    "    assert dst_ids.shape == torch.Size([batch_size*1620]), f\"Bad dst_ids.shape: {dst_ids.shape}\"\n",
    "    assert min(src_ids) == 0 and max(src_ids) == batch_size*81-1\n",
    "    assert min(dst_ids) == 0 and max(dst_ids) == batch_size*81-1\n",
    "    print('Success')\n",
    "\n",
    "test_collate_shapes()"
   ]
  },
  {
   "cell_type": "code",
   "execution_count": 15,
   "metadata": {
    "deletable": false,
    "editable": false,
    "nbgrader": {
     "cell_type": "code",
     "checksum": "4769d712febf06f14101011cc65d4f57",
     "grade": false,
     "grade_id": "cell-db00541498ac6acf",
     "locked": true,
     "schema_version": 3,
     "solution": false,
     "task": false
    }
   },
   "outputs": [],
   "source": [
    "trainloader = DataLoader(trainset, batch_size=16, collate_fn=collate)\n",
    "testloader = DataLoader(testset, batch_size=16, collate_fn=collate)"
   ]
  },
  {
   "cell_type": "markdown",
   "metadata": {
    "deletable": false,
    "editable": false,
    "nbgrader": {
     "cell_type": "markdown",
     "checksum": "7578146bc19036c0826b350a6af6e32c",
     "grade": false,
     "grade_id": "cell-e03d97e4ed3350c0",
     "locked": true,
     "schema_version": 3,
     "solution": false,
     "task": false
    }
   },
   "source": [
    "<img src=\"recurrent_rn.png\" width=300 style=\"float: right;\">\n",
    "\n",
    "# Graph neural network\n",
    "\n",
    "You need to implement a graph neural network in the cell below. Its forward function consists of `n_iters` iterations with the following steps:\n",
    "* For each node, compute the messages from all its neighbors using the message network (see description below).\n",
    "* For each node, aggregate (by summation) all the messages sent by its neighbors. You may find it useful to use function [`index_add_`](https://pytorch.org/docs/stable/tensors.html#torch.Tensor.index_add_) for that.\n",
    "* The aggregated messages are concatenated with the node inputs to form the inputs of the gated recurrent units (GRUs) whose states represent the states of the nodes. The node inputs are one-hot coded digits 1-9 of the sudoku puzzle, a missing digit is encoded with all zeros. \n",
    "* The states of the GRUs are updated using the standard GRU computations.\n",
    "* The states of each graph node are linearly combined to compute the output of the corresponding node at the current iteration.\n",
    "\n",
    "**Note that since we combine all graphs in the mini-batch into a single graph using `collate()` function, we do not need to care about batches in our implementation of GNN.**\n",
    "\n",
    "\n",
    "### Message network\n",
    "\n",
    "* All messages are computed with the same message network (shared parameters).\n",
    "* The message network takes as inputs the features of the source node and the features of the destination node and produces a vector with `n_edge_features`.\n",
    "* We used as the message network a multilayer perceptron (MLP) network with the following architecture:\n",
    "  * hidden layer with 96 neurons and ReLU nonlinearity\n",
    "  * hidden layer with 96 neurons and ReLU nonlinearity\n",
    "  * output layer with `n_edge_features` output features.\n",
    "* **Important:** Our tests assume that the message network is defined as an attribute called `msg_net`, that is it can be accessed as follows:\n",
    "```\n",
    "gnn = GNN()\n",
    "print(gnn.msg_net)\n",
    "```"
   ]
  },
  {
   "cell_type": "code",
   "execution_count": 16,
   "metadata": {
    "deletable": false,
    "nbgrader": {
     "cell_type": "code",
     "checksum": "380031a1cdb3b9f3802523ea06044814",
     "grade": false,
     "grade_id": "GNN",
     "locked": false,
     "schema_version": 3,
     "solution": true,
     "task": false
    }
   },
   "outputs": [],
   "source": [
    "class GNN(nn.Module):\n",
    "    def __init__(self, n_iters=7, n_node_features=10, n_node_inputs=9, n_edge_features=11, n_node_outputs=9):\n",
    "        \"\"\"\n",
    "        Args:\n",
    "          n_iters: Number of graph iterations.\n",
    "          n_node_features: Number of features in the states of each node.\n",
    "          n_node_inputs: Number of inputs to each graph node (on each graph iteration).\n",
    "          n_edge_features: Number of features in the messages sent along the edges of the graph (produced\n",
    "              by the message network).\n",
    "          n_node_outputs: Number of outputs produced by at each node of the graph.\n",
    "        \"\"\"\n",
    "        super(GNN, self).__init__()\n",
    "        \n",
    "        self.n_iters = n_iters\n",
    "        self.n_node_features = n_node_features\n",
    "        self.n_node_inputs = n_node_inputs\n",
    "        self.n_edge_features = n_edge_features\n",
    "        self.n_node_outputs = n_node_outputs\n",
    "        \n",
    "        # YOUR CODE HERE\n",
    "        super(GNN, self).__init__()\n",
    "        \n",
    "        self.n_iters = n_iters\n",
    "        self.n_node_features = n_node_features\n",
    "        self.n_node_inputs = n_node_inputs\n",
    "        self.n_edge_features = n_edge_features\n",
    "        self.n_node_outputs = n_node_outputs\n",
    "        \n",
    "        # YOUR CODE HERE\n",
    "        self.pre_net = nn.Linear(n_node_inputs,self.n_node_features)     \n",
    "        # self.embedding = nn.Embedding(self.n_node_inputs,self.n_node_features)\n",
    "        self.msg_net = nn.Sequential(\n",
    "            nn.Linear(2*self.n_node_features,96),\n",
    "            nn.ReLU(),\n",
    "            nn.Linear(96, 96),\n",
    "            nn.ReLU(),\n",
    "            nn.Linear(96, self.n_edge_features),\n",
    "            nn.ReLU(),\n",
    "        )\n",
    "        self.gru_1 = nn.GRUCell(2*self.n_node_features, self.n_node_features)\n",
    "        self.out_net = nn.Linear(self.n_node_features,self.n_node_outputs)\n",
    "\n",
    "    def forward(self, node_inputs, src_ids, dst_ids):\n",
    "        \"\"\"\n",
    "        Args:\n",
    "          node_inputs of shape (n_nodes, n_node_inputs): Tensor of inputs to every node of the graph.\n",
    "          src_ids of shape (n_edges): Indices of source nodes of every edge.\n",
    "          dst_ids of shape (n_edges): Indices of destination nodes of every edge.\n",
    "          \n",
    "        Returns:\n",
    "          outputs of shape (n_iters, n_nodes, n_node_outputs): Outputs of all the nodes at every iteration of the\n",
    "              graph neural network.\n",
    "        \"\"\"\n",
    "        # YOUR CODE HERE\n",
    "        n_nodes = node_inputs.size(0)\n",
    "        outputs = torch.zeros((self.n_iters ,n_nodes ,self.n_node_outputs),dtype=torch.float,device=node_inputs.device)\n",
    "        \n",
    "        x = self.pre_net(node_inputs)\n",
    "        hidden = torch.zeros((n_nodes, self.n_node_features)).to(node_inputs.device)\n",
    "        for iter in range(self.n_iters):\n",
    "            edges = torch.cat((x[src_ids],x[dst_ids]),1) # (edges, 2*features)\n",
    "            edge_features = self.msg_net(edges) #  (edges, edge_features)\n",
    "\n",
    "            edge_messages = torch.zeros((n_nodes, self.n_edge_features), device=node_inputs.device)\n",
    "            received_messages = edge_messages.index_add(0, dst_ids, edge_features) # (nodes, edge_features)\n",
    "\n",
    "            inputs = torch.cat((node_inputs, received_messages),dim=1)\n",
    "            hidden = self.gru_1(inputs, hidden)\n",
    "            x = hidden.clone()\n",
    "            outputs[iter]= self.out_net(hidden)\n",
    "        return outputs"
   ]
  },
  {
   "cell_type": "code",
   "execution_count": 17,
   "metadata": {
    "deletable": false,
    "editable": false,
    "nbgrader": {
     "cell_type": "code",
     "checksum": "ba83789d568c16e73add8dc76670ad98",
     "grade": false,
     "grade_id": "cell-11a931a6dc00b460",
     "locked": true,
     "schema_version": 3,
     "solution": false,
     "task": false
    }
   },
   "outputs": [
    {
     "name": "stdout",
     "output_type": "stream",
     "text": [
      "Success\n"
     ]
    }
   ],
   "source": [
    "# Shape tests of the message network\n",
    "def test_GNN_msg_net():\n",
    "    src_ids, dst_ids = sudoku_edges()\n",
    "    src_ids, dst_ids = torch.LongTensor(src_ids), torch.LongTensor(dst_ids)\n",
    "    n_nodes = 81\n",
    "    n_edges = len(src_ids)\n",
    "    n_node_features = 5\n",
    "    n_edge_features = 6\n",
    "\n",
    "    gnn = GNN(n_iters=7, n_node_features=n_node_features, n_edge_features=n_edge_features)\n",
    "    msg_net_inputs = torch.zeros(n_edges, 2*n_node_features)\n",
    "    assert hasattr(gnn, 'msg_net'), \"Cannot find the message network.\"\n",
    "    messages = gnn.msg_net(msg_net_inputs)  # [n_edges, n_edge_features]\n",
    "    assert messages.shape == torch.Size([n_edges, n_edge_features]), f\"Bad messages.shape: {messages.shape}\"\n",
    "    print('Success')\n",
    "\n",
    "test_GNN_msg_net()"
   ]
  },
  {
   "cell_type": "code",
   "execution_count": 18,
   "metadata": {
    "deletable": false,
    "editable": false,
    "nbgrader": {
     "cell_type": "code",
     "checksum": "82daac8447833ccfcb74b45fb82b6e76",
     "grade": false,
     "grade_id": "cell-6e6ddbc2c5573e68",
     "locked": true,
     "schema_version": 3,
     "solution": false,
     "task": false
    }
   },
   "outputs": [
    {
     "name": "stdout",
     "output_type": "stream",
     "text": [
      "Success\n"
     ]
    }
   ],
   "source": [
    "# Shape tests\n",
    "def test_GNN_shape():\n",
    "    src_ids, dst_ids = sudoku_edges()\n",
    "    src_ids, dst_ids = torch.LongTensor(src_ids), torch.LongTensor(dst_ids)\n",
    "    n_nodes = 81\n",
    "\n",
    "    gnn = GNN(n_iters=7)\n",
    "    node_inputs = torch.zeros([n_nodes, 9])\n",
    "    outputs = gnn(node_inputs, src_ids, dst_ids)  # [n_iters, batch*n_nodes, 9]\n",
    "    assert outputs.shape == torch.Size([gnn.n_iters, n_nodes, 9]), f\"Bad outputs.shape: {outputs.shape}\"\n",
    "    print('Success')\n",
    "\n",
    "test_GNN_shape()"
   ]
  },
  {
   "cell_type": "code",
   "execution_count": 19,
   "metadata": {
    "deletable": false,
    "editable": false,
    "nbgrader": {
     "cell_type": "code",
     "checksum": "6a303c209d0189af564510b63013c883",
     "grade": true,
     "grade_id": "test_GNN",
     "locked": true,
     "points": 1,
     "schema_version": 3,
     "solution": false,
     "task": false
    }
   },
   "outputs": [
    {
     "name": "stdout",
     "output_type": "stream",
     "text": [
      "outputs:\n",
      " tensor([[[ 0.0000,  0.0498],\n",
      "         [ 0.0000,  0.2311],\n",
      "         [ 0.0000,  0.3581]],\n",
      "\n",
      "        [[-0.0012,  0.0736],\n",
      "         [-0.0058,  0.3434],\n",
      "         [-0.0089,  0.5360]]])\n",
      "expected:\n",
      " tensor([[[ 0.0000,  0.0498],\n",
      "         [ 0.0000,  0.2311],\n",
      "         [ 0.0000,  0.3581]],\n",
      "\n",
      "        [[-0.0012,  0.0736],\n",
      "         [-0.0058,  0.3434],\n",
      "         [-0.0089,  0.5360]]])\n",
      "Success\n"
     ]
    }
   ],
   "source": [
    "# Test of the forward function\n",
    "tests.test_GNN_forward(GNN)"
   ]
  },
  {
   "cell_type": "markdown",
   "metadata": {
    "deletable": false,
    "editable": false,
    "nbgrader": {
     "cell_type": "markdown",
     "checksum": "d1bd48c6aa150d63000c006bdea924c6",
     "grade": false,
     "grade_id": "cell-7ade147639f9842c",
     "locked": true,
     "schema_version": 3,
     "solution": false,
     "task": false
    }
   },
   "source": [
    "## Train the network"
   ]
  },
  {
   "cell_type": "markdown",
   "metadata": {
    "deletable": false,
    "editable": false,
    "nbgrader": {
     "cell_type": "markdown",
     "checksum": "c9d9eb5aa6874ce9ed806494adefd69f",
     "grade": false,
     "grade_id": "cell-329b929c7fb52923",
     "locked": true,
     "schema_version": 3,
     "solution": false,
     "task": false
    }
   },
   "source": [
    "### Training loop\n",
    "\n",
    "Your task is to implement the training loop. The recommended hyperparameters:\n",
    "* Adam optimizer with learning rate 0.001\n",
    "* 30 epochs is usually enough for training to converge.\n",
    "* The loss should be the mean of the classification losses computed at **every** GNN iteration. This way you encourage the GNN to find the correct solution with as few iterations as possible.\n",
    "\n",
    "Hints:\n",
    "* The training loss at convergence can reach 0.25. The classification loss computed after the **last** GNN iteration should be close to 0.\n",
    "* The fraction of solved test puzzles is usually close to 1 (we will use the threshold of 0.93 in the tests).\n",
    "* We recommend you to track the fraction of solved puzzles in the test set using the function below."
   ]
  },
  {
   "cell_type": "code",
   "execution_count": 20,
   "metadata": {
    "deletable": false,
    "editable": false,
    "nbgrader": {
     "cell_type": "code",
     "checksum": "f136befec210d74c77cdb29f0be2b953",
     "grade": false,
     "grade_id": "cell-1a6cd2d477b9cf68",
     "locked": true,
     "schema_version": 3,
     "solution": false,
     "task": false
    }
   },
   "outputs": [
    {
     "data": {
      "text/plain": [
       "GNN(\n",
       "  (pre_net): Linear(in_features=9, out_features=10, bias=True)\n",
       "  (msg_net): Sequential(\n",
       "    (0): Linear(in_features=20, out_features=96, bias=True)\n",
       "    (1): ReLU()\n",
       "    (2): Linear(in_features=96, out_features=96, bias=True)\n",
       "    (3): ReLU()\n",
       "    (4): Linear(in_features=96, out_features=11, bias=True)\n",
       "    (5): ReLU()\n",
       "  )\n",
       "  (gru_1): GRUCell(20, 10)\n",
       "  (out_net): Linear(in_features=10, out_features=9, bias=True)\n",
       ")"
      ]
     },
     "execution_count": 20,
     "metadata": {},
     "output_type": "execute_result"
    }
   ],
   "source": [
    "# Create network\n",
    "gnn = GNN()\n",
    "gnn.to(device)"
   ]
  },
  {
   "cell_type": "code",
   "execution_count": 21,
   "metadata": {
    "deletable": false,
    "editable": false,
    "nbgrader": {
     "cell_type": "code",
     "checksum": "070a0e968197e35da0c9caf76e5aa35d",
     "grade": false,
     "grade_id": "cell-22f6f3447eba7ab0",
     "locked": true,
     "schema_version": 3,
     "solution": false,
     "task": false
    }
   },
   "outputs": [],
   "source": [
    "def fraction_of_solved_puzzles(gnn, testloader):\n",
    "    with torch.no_grad():\n",
    "        n_test = 0\n",
    "        n_test_solved = 0\n",
    "        for i, (inputs, targets, src_ids, dst_ids) in enumerate(testloader):\n",
    "            # inputs is [n_nodes, 9*9, 9]\n",
    "            # targets is [n_nodes]\n",
    "            batch_size = inputs.size(0) // 81\n",
    "            inputs, targets = inputs.to(device), targets.to(device)\n",
    "            src_ids, dst_ids = src_ids.to(device), dst_ids.to(device)\n",
    "\n",
    "            outputs = gnn(inputs, src_ids, dst_ids)  # [n_iters, batch*n_nodes, 9]\n",
    "            solution = outputs.view(gnn.n_iters, batch_size, 9, 9, 9)\n",
    "\n",
    "            final_solution = solution[-1].argmax(dim=3)\n",
    "            solved = (final_solution.view(-1, 81) == targets.view(batch_size, 81)).all(dim=1)\n",
    "            n_test += solved.size(0)\n",
    "            n_test_solved += solved.sum().item()\n",
    "            return n_test_solved / n_test"
   ]
  },
  {
   "cell_type": "code",
   "execution_count": null,
   "metadata": {
    "deletable": false,
    "nbgrader": {
     "cell_type": "code",
     "checksum": "cc19846a8d8839a111f004d38b6dc7af",
     "grade": false,
     "grade_id": "training_loop",
     "locked": false,
     "schema_version": 3,
     "solution": true,
     "task": false
    }
   },
   "outputs": [
    {
     "name": "stdout",
     "output_type": "stream",
     "text": [
      "[1,   500] loss: 13.940 puzzles solved: 0.00\n",
      "last loss: 0.9700223207473755\n",
      "[2,   500] loss: 6.303 puzzles solved: 0.06\n",
      "last loss: 0.23699022829532623\n",
      "[3,   500] loss: 3.415 puzzles solved: 0.44\n",
      "last loss: 0.08971036970615387\n"
     ]
    }
   ],
   "source": [
    "# Implement the training loop here\n",
    "optimizer = torch.optim.Adam(params=gnn.parameters(), lr=0.001)\n",
    "if not skip_training:\n",
    "    # YOUR CODE HERE\n",
    "    for epoch in range(30):\n",
    "        running_loss = 0.0\n",
    "        for i, batch in enumerate(trainloader):\n",
    "            optimizer.zero_grad()\n",
    "\n",
    "            inputs, targets, src_ids, dst_ids = batch\n",
    "            inputs, targets, src_ids, dst_ids = \\\n",
    "                inputs.to(device), targets.to(device), src_ids.to(device), dst_ids.to(device)\n",
    "\n",
    "            y = gnn(inputs, src_ids, dst_ids)\n",
    "\n",
    "            loss = 0\n",
    "            for j in range(y.size(0)):\n",
    "                loss += F.nll_loss(F.log_softmax(y[j],dim=-1), targets)\n",
    "            loss = loss / y.size(0)\n",
    "            loss.backward()\n",
    "\n",
    "            optimizer.step()\n",
    "\n",
    "            running_loss += loss.item()\n",
    "            if i % 500 == 499:  # print every 200 mini-batches\n",
    "                print('[%d, %5d] loss: %.3f puzzles solved: %.2f' %\n",
    "                      (epoch + 1, i + 1, running_loss / 50, fraction_of_solved_puzzles(gnn, testloader)))\n",
    "                running_loss = 0.0\n",
    "                print('last loss: {}'.format(F.nll_loss(F.log_softmax(y[-1],dim=-1), targets)))"
   ]
  },
  {
   "cell_type": "code",
   "execution_count": null,
   "metadata": {
    "deletable": false,
    "editable": false,
    "nbgrader": {
     "cell_type": "code",
     "checksum": "35a9ba58ab03188089a30d64e8c4bdaa",
     "grade": false,
     "grade_id": "cell-7b664d9672add5d3",
     "locked": true,
     "schema_version": 3,
     "solution": false,
     "task": false
    }
   },
   "outputs": [],
   "source": [
    "# Save the model to disk (the pth-files will be submitted automatically together with your notebook)\n",
    "if not skip_training:\n",
    "    tools.save_model(gnn, '7_gnn.pth')\n",
    "else:\n",
    "    gnn = GNN()\n",
    "    tools.load_model(gnn, '7_gnn.pth', device)"
   ]
  },
  {
   "cell_type": "markdown",
   "metadata": {
    "deletable": false,
    "editable": false,
    "nbgrader": {
     "cell_type": "markdown",
     "checksum": "3612e3450979bdecf32aae43ff0b434f",
     "grade": false,
     "grade_id": "cell-3f1e85b8a2af78bb",
     "locked": true,
     "schema_version": 3,
     "solution": false,
     "task": false
    }
   },
   "source": [
    "## Evaluate the trained model"
   ]
  },
  {
   "cell_type": "code",
   "execution_count": null,
   "metadata": {
    "deletable": false,
    "editable": false,
    "nbgrader": {
     "cell_type": "code",
     "checksum": "73435e67216769af33707a90cf811590",
     "grade": false,
     "grade_id": "cell-32f91b6a282d0245",
     "locked": true,
     "schema_version": 3,
     "solution": false,
     "task": false
    }
   },
   "outputs": [],
   "source": [
    "# Get graph iterations for some test puzzles\n",
    "with torch.no_grad():\n",
    "    inputs, targets, src_ids, dst_ids = iter(testloader).next()\n",
    "    inputs, targets = inputs.to(device), targets.to(device)\n",
    "    src_ids, dst_ids = src_ids.to(device), dst_ids.to(device)\n",
    "\n",
    "    batch_size = inputs.size(0) // 81\n",
    "    outputs = gnn(inputs, src_ids, dst_ids)  # [n_iters, n_nodes, 9]\n",
    "\n",
    "    solution = outputs.view(gnn.n_iters, batch_size, 9, 9, 9)\n",
    "    final_solution = solution[-1].argmax(dim=3)\n",
    "    print('Solved puzzles in the current mini-batch:')\n",
    "    print((final_solution.view(-1, 81) == targets.view(batch_size, 81)).all(dim=1))"
   ]
  },
  {
   "cell_type": "code",
   "execution_count": null,
   "metadata": {
    "deletable": false,
    "editable": false,
    "nbgrader": {
     "cell_type": "code",
     "checksum": "92d62e9db18cb4f608d557bf65ce095f",
     "grade": false,
     "grade_id": "cell-f26db64afdc81028",
     "locked": true,
     "schema_version": 3,
     "solution": false,
     "task": false
    }
   },
   "outputs": [],
   "source": [
    "# Visualize graph iteration for one of the puzzles\n",
    "ix = 0\n",
    "for i in range(gnn.n_iters):\n",
    "    tools.draw_sudoku(solution[i, 0], logits=True)"
   ]
  },
  {
   "cell_type": "code",
   "execution_count": null,
   "metadata": {
    "deletable": false,
    "editable": false,
    "nbgrader": {
     "cell_type": "code",
     "checksum": "f49a402b83410a7447bbd7f21aa3da6d",
     "grade": true,
     "grade_id": "accuracy",
     "locked": true,
     "points": 2,
     "schema_version": 3,
     "solution": false,
     "task": false
    }
   },
   "outputs": [],
   "source": [
    "fraction_solved = fraction_of_solved_puzzles(gnn, testloader)\n",
    "assert fraction_solved > .93, \"Poor accuracy ({:.3f})\".format(fraction_solved)\n",
    "print('Success')"
   ]
  },
  {
   "cell_type": "markdown",
   "metadata": {
    "deletable": false,
    "editable": false,
    "nbgrader": {
     "cell_type": "markdown",
     "checksum": "d10aa730c1337214854a67435aa8b2b5",
     "grade": false,
     "grade_id": "cell-0bc01d506d94ba01",
     "locked": true,
     "schema_version": 3,
     "solution": false,
     "task": false
    }
   },
   "source": [
    "<div class=\"alert alert-block alert-info\">\n",
    "<b>Conclusions</b>\n",
    "</div>\n",
    "\n",
    "In this exercise, we learned how to train a simple graph neural network."
   ]
  }
 ],
 "metadata": {
  "kernelspec": {
   "display_name": "Python 3",
   "language": "python",
   "name": "python3"
  },
  "language_info": {
   "codemirror_mode": {
    "name": "ipython",
    "version": 3
   },
   "file_extension": ".py",
   "mimetype": "text/x-python",
   "name": "python",
   "nbconvert_exporter": "python",
   "pygments_lexer": "ipython3",
   "version": "3.7.3"
  },
  "varInspector": {
   "cols": {
    "lenName": 16,
    "lenType": 16,
    "lenVar": 40
   },
   "kernels_config": {
    "python": {
     "delete_cmd_postfix": "",
     "delete_cmd_prefix": "del ",
     "library": "var_list.py",
     "varRefreshCmd": "print(var_dic_list())"
    },
    "r": {
     "delete_cmd_postfix": ") ",
     "delete_cmd_prefix": "rm(",
     "library": "var_list.r",
     "varRefreshCmd": "cat(var_dic_list()) "
    }
   },
   "types_to_exclude": [
    "module",
    "function",
    "builtin_function_or_method",
    "instance",
    "_Feature"
   ],
   "window_display": false
  }
 },
 "nbformat": 4,
 "nbformat_minor": 2
}
