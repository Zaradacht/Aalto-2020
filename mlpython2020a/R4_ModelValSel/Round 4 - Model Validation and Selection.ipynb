{
 "cells": [
  {
   "cell_type": "markdown",
   "metadata": {
    "deletable": false,
    "editable": false,
    "nbgrader": {
     "cell_type": "markdown",
     "checksum": "06fcedb3154428f6f8b5a2ef2670c28f",
     "grade": false,
     "grade_id": "cell-97da75c1d52f0687",
     "locked": true,
     "schema_version": 3,
     "solution": false,
     "task": false
    }
   },
   "source": [
    "# Machine Learning with Python - Model Validation and Selection\n",
    "\n",
    "## Introduction\n",
    "\n",
    "In the previous rounds you have implemented machine learning (ML) methods by combining particular choices for\n",
    "\n",
    "* data points, their features and labels, \n",
    "* a hypothesis space (of predictor functions) \n",
    "* and a loss function that measures the quality of a particular predictor function out of the hypothesis space. \n",
    "\n",
    "ML algorithms are optimization methods that try to find (or learn) the best predictor out of the hypothesis space by minimizing the average loss (training error) over some labeled data points (the training data)."
   ]
  },
  {
   "cell_type": "markdown",
   "metadata": {
    "deletable": false,
    "editable": false,
    "nbgrader": {
     "cell_type": "markdown",
     "checksum": "7ce5556c66ed592e5386dabc14e90346",
     "grade": false,
     "grade_id": "cell-85d7ef6fc6ff2a13",
     "locked": true,
     "schema_version": 3,
     "solution": false,
     "task": false
    }
   },
   "source": [
    "The code snippet below read in some data points $(x^{(i)},y^{(i)})$, for $i=1,2,\\ldots$, which are characterized by a scalar feature $x^{(i)}$ and a numeric label $y^{(i)}$. "
   ]
  },
  {
   "cell_type": "code",
   "execution_count": 1,
   "metadata": {
    "deletable": false,
    "editable": false,
    "nbgrader": {
     "cell_type": "code",
     "checksum": "c06825c762f86f341205ed07a3b07d43",
     "grade": false,
     "grade_id": "cell-d1aa568825aa58d9",
     "locked": true,
     "schema_version": 3,
     "solution": false,
     "task": false
    }
   },
   "outputs": [
    {
     "data": {
      "image/png": "[encoded data removed]",
      "text/plain": [
       "<Figure size 576x288 with 1 Axes>"
      ]
     },
     "metadata": {
      "needs_background": "light"
     },
     "output_type": "display_data"
    },
    {
     "name": "stdout",
     "output_type": "stream",
     "text": [
      "total number of labeled data points =  20\n"
     ]
    }
   ],
   "source": [
    "# Load the dataset and store data and labels in variables\n",
    "from sklearn import datasets # import datasets fomr sklearn\n",
    "# the library matplotlib.pyplot provides functions for plotting data \n",
    "import matplotlib.pyplot as plt      # import library matplotlib.pyplot as plt\n",
    "# the package \"PolynomialFeatures\" allows to transform a single scalar feature x \n",
    "# into several features given by the powers x^{0},x^{1},x^{2}, ... \n",
    "from sklearn.preprocessing import PolynomialFeatures\n",
    "# package \"LinearRegression\" provides methods to fit a linear predictor to \n",
    "# given data points (training data)\n",
    "from sklearn.linear_model import LinearRegression\n",
    "\n",
    "import numpy as np \n",
    "\n",
    "# load the toy dataset \"linnerud\" provide by the \"sklearn\" package\n",
    "linnerud = datasets.load_linnerud()\n",
    "# read in the exercise parameters (nr. of chinups ..) for each athlete\n",
    "Exercise = linnerud['data']\n",
    "# read in the physiological (weight ...) paramters for each athlete\n",
    "Physio = linnerud['target']\n",
    "\n",
    "x = Physio[:,0] \n",
    "# convert Lbs to Kg\n",
    "x = x*0.453 \n",
    "# we use number of chinups as label and store them (for all athletes) in numpy array y\n",
    "y = Exercise[:,0] \n",
    "\n",
    "fig1, axes1 = plt.subplots(1, 1, figsize=(8, 4))\n",
    "axes1.scatter(x, y,label=\"labeled data points\")\n",
    "axes1.set_ylabel('label ' + r'$y$')\n",
    "axes1.set_xlabel('feature ' + r'$x$')\n",
    "plt.legend()\n",
    "plt.show()\n",
    "\n",
    "m_total = y.shape[0] \n",
    "print (\"total number of labeled data points = \", m_total)"
   ]
  },
  {
   "cell_type": "markdown",
   "metadata": {
    "deletable": false,
    "editable": false,
    "nbgrader": {
     "cell_type": "markdown",
     "checksum": "8fcecd479e11ba76d4b1cc8c6dcfd237",
     "grade": false,
     "grade_id": "cell-8fd784a728ac00b0",
     "locked": true,
     "schema_version": 3,
     "solution": false,
     "task": false
    }
   },
   "source": [
    "Let us try to find a good predictor for the label $y$ of a data point using a polynomial $h(x)=w_{1}+w_{2}x+w_{3}x^{2}+\\ldots+w_{r+1}x^{r}$ with some fixed maximum degree $r$ (e.g., $r=4$). The maximum degree $r$ is a measure for the complexity of the hypothesis space given by all polynomials of maximum degree $r$.\n",
    "The larger we choose $r$, the more complex is resulting hypothesis space. In order to find a good predictor we tune the weights $w_{0},w_{1},\\ldots$ to make the average prediction error on a training set as small as possible. Let us pick three data points for the training set. "
   ]
  },
  {
   "cell_type": "code",
   "execution_count": 2,
   "metadata": {
    "deletable": false,
    "editable": false,
    "nbgrader": {
     "cell_type": "code",
     "checksum": "ffc31a5ceb7c1ea8bca6865cd6e3d77a",
     "grade": false,
     "grade_id": "cell-2601ad49c9617b02",
     "locked": true,
     "schema_version": 3,
     "solution": false,
     "task": false
    }
   },
   "outputs": [
    {
     "data": {
      "image/png": "[encoded data removed]",
      "text/plain": [
       "<Figure size 576x288 with 1 Axes>"
      ]
     },
     "metadata": {
      "needs_background": "light"
     },
     "output_type": "display_data"
    }
   ],
   "source": [
    "# we use some datapoints as the training set \n",
    "\n",
    "fig2, axes2 = plt.subplots(1, 1, figsize=(8, 4))\n",
    "\n",
    "\n",
    "# choose three indices of data points that will be used \n",
    "# as training set \n",
    "training_set = [m_total-1,m_total-3,m_total-6]\n",
    "# create a dummy numpy array \"dmy\" which will be used to \n",
    "# select data points in the training set and those outside the training set \n",
    "dmy = np.zeros((m_total,1)) \n",
    "# set entries corresponding to training data to 10 \n",
    "dmy[training_set] = 10 \n",
    "\n",
    "x=x.reshape(-1,1)\n",
    "y=y.reshape(-1,1)\n",
    "\n",
    "# choose all data points for which the correpsonding entry of \n",
    "# the numpy array \"dmy\" is larger than 5\n",
    "x_train = x[dmy>5]\n",
    "y_train = y[dmy>5]\n",
    "# choose data points for which corresponding entry of numpy \n",
    "# array \"dmy\" is smaller than 5 (these are indices that are not in training set)\n",
    "x_val = x[dmy<5]\n",
    "y_val = y[dmy<5]\n",
    "# plot labeled data points which are not in training set\n",
    "axes2.scatter(x_val, y_val,label=\"labeled data points\")\n",
    "# plot labeled data points which are in the training set \n",
    "axes2.scatter(x_train, y_train, s=400,marker=r'$\\times$', label=\"training set\")\n",
    "\n",
    "axes2.set_ylabel('label ' + r'$y$')\n",
    "axes2.set_xlabel('feature ' + r'$x$')\n",
    "\n",
    "plt.legend(loc='upper right')\n",
    "plt.show()"
   ]
  },
  {
   "cell_type": "markdown",
   "metadata": {
    "deletable": false,
    "editable": false,
    "nbgrader": {
     "cell_type": "markdown",
     "checksum": "3c6cd2aad01a068a4866a703056cb531",
     "grade": false,
     "grade_id": "cell-46af00bfd04c2706",
     "locked": true,
     "schema_version": 3,
     "solution": false,
     "task": false
    }
   },
   "source": [
    "Using three data points (marked by crosses in the above plot) as a training set, we learn (find) the best predictor out the hypothesis space \n",
    "\n",
    "$$ \\mathcal{H} = \\{ h(x) = w_{0}+w_{1}x+w_{2}x^2+w_{3}x^3+w_{4}x^{4} \\mbox{ with tunable weights } w_{0},\\ldots,w_{4} \\in \\mathbb{R} \\}.$$\n",
    "\n",
    "The code snippet below uses the Python library 'scikit-learn' to find weights $w_{0},\\ldots,w_{4}$ such that the average sqaured prediction error $\\big(h\\big(x^{(i)}\\big) - y^{(i)}\\big)^{2}$ on the three training data points is minimal. We denote the predictor obtained by these optimal weights as $h^{(\\rm opt)}(x)$. "
   ]
  },
  {
   "cell_type": "code",
   "execution_count": 3,
   "metadata": {
    "deletable": false,
    "editable": false,
    "nbgrader": {
     "cell_type": "code",
     "checksum": "e89820d96d619d0a8548495ef0b3f8c3",
     "grade": false,
     "grade_id": "cell-7be1c2de8fb89d1c",
     "locked": true,
     "schema_version": 3,
     "solution": false,
     "task": false
    }
   },
   "outputs": [
    {
     "data": {
      "image/png": "[encoded data removed]",
      "text/plain": [
       "<Figure size 576x288 with 1 Axes>"
      ]
     },
     "metadata": {
      "needs_background": "light"
     },
     "output_type": "display_data"
    }
   ],
   "source": [
    "fig3, axes3 = plt.subplots(1, 1, figsize=(8, 4))\n",
    "axes3.scatter(x_val, y_val,label=\"validation set\")\n",
    "\n",
    "training_set = [m_total-1,m_total-3,m_total-6]\n",
    "x_train = x[training_set]\n",
    "y_train = y[training_set]\n",
    "axes3.scatter(x_train, y_train, s=400,marker=r'$\\times$', label=\"training set\")\n",
    "\n",
    "axes3.set_ylabel('label ' + r'$y$')\n",
    "axes3.set_xlabel('feature ' + r'$x$')\n",
    "\n",
    "# choose best predictor out of the hypothesis space given by all \n",
    "# polynomials h(x) = w_1 + w_2*x ... + w5*x^4 of maximum degree 4 \n",
    "\n",
    "poly = PolynomialFeatures(degree = 4) \n",
    "# transform scalar feature x to a feature vector [x^0 x^1 ... x^4]\n",
    "X_poly = poly.fit_transform(x_train.reshape(-1,1)) \n",
    "# we can now use linear regression using the transformed feature vectors \n",
    "lin2 = LinearRegression() \n",
    "# compute optimal weights to minimize training error \n",
    "lin2.fit(X_poly, y_train) \n",
    "\n",
    "# plot the resulting \"optimal\" predictor (having minimum training error) \n",
    "\n",
    "grid_of_x_vals = np.linspace(60, 90, num=100)\n",
    "X_poly_grid = poly.fit_transform(grid_of_x_vals.reshape(-1,1)) \n",
    "axes3.plot(grid_of_x_vals, lin2.predict(X_poly_grid), color = 'red',label=\"optimal predictor\")\n",
    "\n",
    "plt.legend(loc='upper right')\n",
    "plt.show()"
   ]
  },
  {
   "cell_type": "markdown",
   "metadata": {
    "deletable": false,
    "editable": false,
    "nbgrader": {
     "cell_type": "markdown",
     "checksum": "b82639018b0aa5c65e8d29e79baab4d5",
     "grade": false,
     "grade_id": "cell-b5608ed9b712d8e5",
     "locked": true,
     "schema_version": 3,
     "solution": false,
     "task": false
    }
   },
   "source": [
    "The above figure shows that the learnt predictor $h^{(\\rm opt)}(x)$ (the red curve) almost perfectly fits the training data (organge crosses). The average loss of $h^{(\\rm opt)}(x)$ incurred on the three training data points is essentially zero. However, according to the above figure, the predictor $h^{(\\rm opt)}(x)$ incurs a rather large prediction error on the data points (blue dots) which are not used for training (orange crosses). \n",
    "\n",
    "The key idea of validation is to try out a predictor, which has been found by minimizing its training error, on different data points which are not part of the training data. In the above figure, we can use the prediction error incurred for the data points marked by blue dots to validate the predictor $h^{(\\rm opt)}$. "
   ]
  },
  {
   "cell_type": "markdown",
   "metadata": {
    "deletable": false,
    "editable": false,
    "nbgrader": {
     "cell_type": "markdown",
     "checksum": "7fc7a30c37ca8db1440e930ae7a81470",
     "grade": false,
     "grade_id": "cell-49483a7aad5aa158",
     "locked": true,
     "schema_version": 3,
     "solution": false,
     "task": false
    }
   },
   "source": [
    "## Learning goals\n",
    "\n",
    "\n",
    "In this round you will learn a simple but powerful approach for choosing a \"good\" hypothesis space out of a set of alternatives. In particular, you will \n",
    "\n",
    "* learn that the training error is a poor quality measure for a hypothesis space \n",
    "* learn that the validation error is a more useful quality measure for a hypothesis space \n",
    "* learn how to choose between different hypothesis spaces (models) using the validation error\n",
    "* learn about regularization as a soft variant of model selection. \n",
    "\n",
    "## Background Material \n",
    "\n",
    "* [Video lecture](https://www.youtube.com/watch?v=MyBSkmUeIEs) of Prof. Andrew Ng on model validation and selection\n",
    "* [Short video](https://www.youtube.com/watch?v=TIgfjmp-4BA) on K-Fold Cross validation from Udacity\n",
    "* [Video lecture](https://www.youtube.com/watch?v=KvtGD37Rm5I) of Prof. Andrew Ng on regularization\n",
    "* Chapter 2; Chapter 6; Chapter 7 of this [tutorial](https://arxiv.org/abs/1805.05052)  "
   ]
  },
  {
   "cell_type": "markdown",
   "metadata": {
    "deletable": false,
    "editable": false,
    "nbgrader": {
     "cell_type": "markdown",
     "checksum": "fb8ff97b3fbb7cb80000a146f4f9da66",
     "grade": false,
     "grade_id": "cell-90c66bf37e8ad022",
     "locked": true,
     "schema_version": 3,
     "solution": false,
     "task": false
    }
   },
   "source": [
    "\n",
    "## What is model validation?\n",
    "\n",
    "Assume we want to predict a numeric label (quantitiy of interest) $y \\in \\mathbb{R}$ based on some features $\\mathbf{x}=(x_{1},\\ldots,x_{n}) \\in \\mathbb{R}^{n}$ of a data point. In order to learn a good predictor $h(\\mathbf{x}$, we can use some data points $\\mathbb{X} = \\{ \\big( \\mathbf{x}^{(i)},y^{(i)}\\big)\\}$ for which we have determined the true label value $y^{(i)}$. Each data point in the training data $\\mathbb{X}$ is characterized by features $\\mathbf{x}^{(i)}$ and a label (quantity of interest) $y^{(i)}$. \n",
    "\n",
    "Consider a predictor $h(\\mathbf{x})$ which works extremely well on the dataset $\\mathbb{X}$,\n",
    "\\begin{equation}\n",
    "\\sum_{\\big(\\mathbf{x}^{(i)},y^{(i)}\\big) \\in \\mathbb{X}}\\big(y^{(i)} - \\underbrace{h(\\mathbf{x}^{(i)})}_{= \\hat{y}^{(i)}}\\big)^{2}\\approx 0.\n",
    "\\end{equation}\n",
    "\n",
    "Even if the predictor $h(\\mathbf{x})$ does exceptionally well on the data set $\\mathbb{X}$, we can not be sure that the method will work well on new data points (different from the data points in $\\mathbb{X}$). \n",
    "This is particularly true for ML methods that allow for highly complicated predictor functions $h(\\mathbf{x})$. Examples of highly complicated predictor functions are linear functions $h(\\mathbf{x}) = \\mathbf{w}^{T} \\mathbf{x} = \\sum_{r=1}^{n} x_{r} w_{r}$ using a large number of features $x_{1},\\ldots,x_{n}$ (the number $n$ of features is a measure of the complexity of the space of linear functions). It can be shown that if the number of features linear predictors on data points with $n$ features allows to perfectly fit any set of $m$ labels $y^{(i)}$ whenever $m \\leq n$. \n",
    "\n",
    "Another example for a vast hypothesis space is given by the set of all predictor functions that can be represented by a given deep neural network structure with billions of adjustable weights (each edge has one weight $w$ that can be tuned). When using an extremely large hypothesis space $\\mathcal{H}$, it is very likely that just by chance one finds a predictor function $h(\\cdot) \\in \\mathcal{H}$ that perfectly fits (reproduces) a given set of labeled data points (unless this dataset is VERY large). \n",
    "\n",
    "ML methods that perform well on training data due to memorization of the training data do not pick up any intrinsic relation between features $\\mathbf{x}$ and label $y$. Such an ML method merely overfits the training data and will not be able to **generalize well** to new data. \n",
    "\n",
    "In order to detect overfitting we need to implement some form of **validation**. The idea behind validation is quite simple: \n",
    "\n",
    "**Split the available labeled data points $\\mathbb{X}$ into two different subsets, a training set $\\mathbb{X}^{(t)}$ of size $m_{t}$ and a validation set $\\mathbb{X}^{(v)}$ of size $m_{v}$.** \n",
    "\n",
    "<img src=\"../../../coursedata/R4_ModelValSel/SplitValTrain.jpg\" alt=\"Drawing\" style=\"width: 600px;\"/>"
   ]
  },
  {
   "cell_type": "markdown",
   "metadata": {
    "deletable": false,
    "editable": false,
    "nbgrader": {
     "cell_type": "markdown",
     "checksum": "2bd693cbb54ea1b269da1329d2b3c978",
     "grade": false,
     "grade_id": "cell-714536d18e8f3dff",
     "locked": true,
     "schema_version": 3,
     "solution": false,
     "task": false
    }
   },
   "source": [
    "<a id='splitTestandValidationfunction'></a>\n",
    "<div class=\" alert alert-info\">\n",
    "<b>Demo.</b> Split Data into Training and Validation Set.\n",
    "\n",
    "The code snippet below creates a synthetic dataset of $m$ datapoints $(\\mathbf{x}^{(i)},y^{(i)})$. Each data point is characterized by the feature vector $\\mathbf{x}^{(i)}=\\big(x^{(i)}_{1},\\ldots,x_{n}^{(i)}\\big)^{T} \\in \\mathbb{R}^{n}$ and a numeric label $y^{(i)} \\in \\mathbb{R}$. The feature vectors are stored in the rows of the matrix $\\mathbf{X}\\in \\mathbb{R}^{m \\times n}$. The labels are collected into the vector $\\mathbf{y}=\\big(y^{(1)},\\ldots,y^{(m)}\\big)^{T} \\in \\mathbb{R}^{m}$. \n",
    "\n",
    "The Python library `scikit-learn` provides the function \n",
    "\n",
    "`X_train, X_test, y_train, y_test=train_test_split(X, y, test_size=0.2, random_state=2)` \n",
    "\n",
    "which can be used to split a dataset into training and validation set. The function reads in the feature vectors in the numpy array `X` of shape ($m,n$) and the labels in the numpy array `y` of shape ($m,1$). \n",
    "\n",
    "The function returns numpy arrays `X_train` of shape ($m_{t},n$), `X_val`of shape ($m_{v},n$), `y_train` of shape ($m_{t},1$) and `y_val` of shape ($m_{v},1$). The input parameter `test_size` specifies the relative size $m_{v}/m$ of the validation set. When using `test_size=0.2`, $20 \\%$ of the original data points are used for the validation set and the and the remaining $80 \\%$ in the training set.\n",
    "\n",
    "[Scikit-learn documentation of train_test_split](https://scikit-learn.org/stable/modules/generated/sklearn.model_selection.train_test_split.html)\n",
    "</div>"
   ]
  },
  {
   "cell_type": "code",
   "execution_count": 4,
   "metadata": {
    "deletable": false,
    "editable": false,
    "nbgrader": {
     "cell_type": "code",
     "checksum": "68b4732d1eddb52a06691fe2bd6f5540",
     "grade": false,
     "grade_id": "cell-b8b4f6fb62eef46b",
     "locked": true,
     "schema_version": 3,
     "solution": false,
     "task": false
    }
   },
   "outputs": [
    {
     "data": {
      "image/png": "[encoded data removed]",
      "text/plain": [
       "<Figure size 864x720 with 2 Axes>"
      ]
     },
     "metadata": {
      "needs_background": "light"
     },
     "output_type": "display_data"
    }
   ],
   "source": [
    "# Import libraries\n",
    "from sklearn.preprocessing import StandardScaler\n",
    "from sklearn.datasets import load_boston\n",
    "import matplotlib.pyplot as plt\n",
    "import pandas as pd\n",
    "import numpy as np\n",
    "from sklearn.model_selection import train_test_split    # Import train_test_split function\n",
    "from sklearn import metrics\n",
    "\n",
    "m = 20    # Number of data points\n",
    "n = 10    # Number of features\n",
    "\n",
    "np.random.seed(4)    # Set random seed for reproducability\n",
    "\n",
    "X = np.random.randn(m,n)    # create feature vectors using random numbers\n",
    "y = np.random.randn(m,1)    # create labels using random numbers \n",
    "X_train, X_val, y_train, y_val = train_test_split(X, y, test_size=0.2, random_state=2)  # Split dataset with 80% training and 20% test\n",
    "\n",
    "plt.rc('legend', fontsize=14)    #  Set font size for legends\n",
    "plt.rc('axes', labelsize=14)    #  Set font size for axis labels\n",
    "\n",
    "fig, axes = plt.subplots(2, 1, figsize=(12,10))    # Create figure with two subplots\n",
    "axes[0].set_title('Scatterplot of the entire dataset and the separate training and validation sets', fontsize=16)\n",
    "\n",
    "axes[0].scatter(X[:, 0], X[:, 1], c='g',marker ='x', s=80, label='original dataset')  # Scatter plot of the original dataset\n",
    "axes[0].legend(loc='best')    # Set legend and set it in the best (automatically determined) position\n",
    "axes[0].set_xlabel(r'feature $x_1$')    # Set the label of the x-axis\n",
    "axes[0].set_ylabel(r'feature $x_2$')    # Set the label of the y-axis\n",
    "\n",
    "axes[1].scatter(X_train[:, 0], X_train[:, 1], c='g',marker ='o', s=80, label='training set')  # Scatter plot of the training set\n",
    "axes[1].scatter(X_val[:, 0], X_val[:, 1], c='brown',marker ='s', s=80, label='validation set')  # Scatter plot of the validation set\n",
    "axes[1].legend(loc='best')    # Set legend and set it in the best (automatically determined) position\n",
    "axes[1].set_xlabel(r'feature $x_1$')    # Set the label of the x-axis\n",
    "axes[1].set_ylabel(r'feature $x_2$')    # Set the label of the y-axis\n",
    "\n",
    "fig.show()"
   ]
  },
  {
   "cell_type": "markdown",
   "metadata": {
    "deletable": false,
    "editable": false,
    "nbgrader": {
     "cell_type": "markdown",
     "checksum": "312f0a6b16974ac489d1bc29ce3a19c2",
     "grade": false,
     "grade_id": "cell-d82c01565964839f",
     "locked": true,
     "schema_version": 3,
     "solution": false,
     "task": false
    }
   },
   "source": [
    "The training set $\\mathbb{X}^{(t)}$ is used to learn the optimal predictor $h_{\\rm opt} \\in \\mathcal{H}$ out of the hypothesis space: \n",
    "\\begin{equation} \n",
    "h_{\\rm opt}  = {\\rm argmin}_{h \\in \\mathcal{H}} \\sum_{\\big(\\mathbf{x}^{(i)},y^{(i)}\\big) \\in \\mathbb{X}^{(t)}} \\big(y^{(i)} - \\underbrace{h(\\mathbf{x}^{(i)})}_{= \\hat{y}^{(i)}}\\big)^{2}. \n",
    "\\end{equation} \n",
    "The minimum objective value of this optimization problem is the **training error** \n",
    "\\begin{equation}\n",
    "E_{\\rm train} = (1/m_{t}) \\sum_{\\big(\\mathbf{x}^{(i)},y^{(i)}\\big) \\in \\mathbb{X}^{(t)}} \\big(y^{(i)} - h_{\\rm opt}(\\mathbf{x}^{(i)})\\big)^{2}.\n",
    "\\end{equation} \n",
    "Note that the training error $E_{\\rm train}$ measures the performance of the predictor $h_{\\rm opt}$ on the same data points $\\mathbb{X}^{(t)}$ which have been used to tune (learn) $h_{\\rm opt}$. Therefore, the training error $E_{\\rm train}$ is too **optimistic** as an estimate for the average error (or loss) of $h_{\\rm opt}$ on new data points which are different from $\\mathbb{X}^{(t)}$. \n",
    "\n",
    "To estimate the error incurred by $h_{\\rm opt}$ on new data points, we calculate the average loss incurred by $h_{\\rm opt}$ on the validation set $\\mathbb{X}^{(v)}$. This yields the **validation error**\n",
    "\\begin{equation}\n",
    "E_{\\rm val} = (1/m_{v}) \\sum_{\\big(\\mathbf{x}^{(i)},y^{(i)}\\big) \\in \\mathbb{X}^{(v)}} \\big(y^{(i)} - h_{\\rm opt}(\\mathbf{x}^{(i)})\\big)^{2}. \n",
    "\\end{equation}\n",
    "The validation error $E_{\\rm val}$ is a much better estimate for the average error (or loss) of the predictor $h_{\\rm opt}$. \n",
    "\n",
    "The training error $E_{\\rm train}$ provides a quality measure for the particular predictor $h_{\\rm opt}$. In contrast, the validation error $E_{\\rm val}$ provides a quality measure for the entire hypothesis space $\\mathcal{H}$. Therefore, we can use the validation error for **model selection**. We choose the best hypothesis space $\\mathcal{H}$ out of a set of alternative hypothesis spaces $\\mathcal{H}^{(1)},\\mathcal{H}^{(2)},\\ldots$ according to the corresponding validation errors $E_{\\rm val}(1),E_{\\rm val}(2),\\ldots$."
   ]
  },
  {
   "cell_type": "markdown",
   "metadata": {
    "deletable": false,
    "editable": false,
    "nbgrader": {
     "cell_type": "markdown",
     "checksum": "2e5a02df5ed903c595d7de97ec55b680",
     "grade": false,
     "grade_id": "cell-de358afd2c4fac99",
     "locked": true,
     "schema_version": 3,
     "solution": false,
     "task": false
    }
   },
   "source": [
    "## The Problem \n",
    "\n",
    "Model validation and selection is best understood by working through a particular example. To this end, we revisit the problem of predicting the grayscale value $y$ of a pixel in an aerial photograph. In **Round 2 - Regression**, we have formalized the grayscale value prediction as an ML problem with\n",
    "\n",
    "1. **data points** which represent pixels in the photograph. Each data point is characterized by features $\\mathbf{x} = (x_{1},\\ldots,x_{n}) \\in \\mathbb{R}^{n}$. Moreover, we define the grayscale value of the pixel as the label $y$ of the data point. \n",
    "\n",
    "2. a **hypothesis space** $\\mathcal{H}$ consisting of predictor functions $h: \\mathbb{R}^{n} \\rightarrow \\mathbb{R}$ from features $\\mathbf{x} \\in \\mathbb{R}^{n}$ to a predicted price $\\hat{y}=h(\\mathbf{x})\\in \\mathbb{R}$ and \n",
    "\n",
    "3. a **loss function**, such as squared error loss, which measures the quality of a predictor."
   ]
  },
  {
   "cell_type": "markdown",
   "metadata": {
    "deletable": false,
    "editable": false,
    "nbgrader": {
     "cell_type": "markdown",
     "checksum": "33f44c0e6775d5ff8a9066aab1a7a1a4",
     "grade": false,
     "grade_id": "cell-3d2949507bb9fa14",
     "locked": true,
     "schema_version": 3,
     "solution": false,
     "task": false
    }
   },
   "source": [
    "<a id='handsondata'></a>\n",
    "<div class=\" alert alert-info\">\n",
    "<p><b>Demo.</b> Loading the Data.</p>\n",
    "    \n",
    "The following code snippet defines a function `X,y = GetFeaturesLabels(m,n)` which reads in the features and labels of pixels which are not corrupted (not fully black). The input parameters are the number `m` of data points and the number `n` of features to be used for each data point. The function returns a matrix $\\mathbf{X}$ and vector $\\mathbf{y}$. \n",
    "\n",
    "The features $\\mathbf{x}^{(i)}$ of data points are stored in the rows of the numpy array `X` (of shape (m,n)) and the corresponding grayscale values $y^{(i)}$ in the numpy array `y` (of shape (m,1)). The two arrays represent the feature matrix $\\mathbf{X} = \\begin{pmatrix} \\mathbf{x}^{(1)} & \\ldots & \\mathbf{x}^{(m)} \\end{pmatrix}^{T}$ and the label vector $\\mathbf{y} = \\big( y^{(1)}, \\ldots, y^{(m)} \\big)^{T}$. \n",
    "\n",
    "</div>"
   ]
  },
  {
   "cell_type": "code",
   "execution_count": 5,
   "metadata": {
    "deletable": false,
    "editable": false,
    "nbgrader": {
     "cell_type": "code",
     "checksum": "b9f41eccd909c69442df0735251fafcd",
     "grade": false,
     "grade_id": "cell-711d85b7cf810763",
     "locked": true,
     "schema_version": 3,
     "solution": false,
     "task": false
    }
   },
   "outputs": [],
   "source": [
    "# import \"Pandas\" library/package (and use shorthand \"pd\" for the package) \n",
    "# Pandas provides functions for loading (storing) data from (to) files\n",
    "import pandas as pd  \n",
    "import cv2\n",
    "from matplotlib import pyplot as plt \n",
    "from IPython.display import display, HTML\n",
    "import numpy as np   \n",
    "import random\n",
    "from sklearn.preprocessing import StandardScaler\n",
    "\n",
    "def GetFeaturesLabels(m=10, n=10):\n",
    "\n",
    "    corrupted = '/coursedata/R2_Regression/SomePhotoCorrupted.bmp'    # File path of the aerial photo\n",
    "\n",
    "    photo = cv2.imread(corrupted, 0)    # Load image in grayscale (flag=0)    \n",
    "    photo = cv2.resize(photo, (100, 100))    # Resize image to 100x100\n",
    "       \n",
    "    img_width, img_height = photo.shape    # Get image width and height\n",
    "    \n",
    "    # define size of neighorhood which is used to characterize a pixel\n",
    "    wp = 2\n",
    "    hp = 2\n",
    "    \n",
    "    # determine \"uncorroputed pixels\" by finding those pixels with grayscale value larger than 0\n",
    "    good_idx = np.where(photo > 0)\n",
    "    \n",
    "    # avoid pixels close to the boundary since we cannot find neighouring pixels for them \n",
    "    rows = np.clip(good_idx[0], wp, img_height - wp)\n",
    "    cols = np.clip(good_idx[1], hp, img_width - hp)\n",
    "    \n",
    "    # the function cv2.imread() returns an array of grayscale values 0...255 stored as integers \n",
    "    # it will be convenient to convert the integers to floating point numbers \n",
    "    # this allows us to work with grayscale values as real numbers \n",
    "    photo = photo.astype(float)\n",
    "    \n",
    "    sample_size = rows.shape[0]\n",
    "    \n",
    "    # augment image in Data with stripes such that we can also define neighborhoods of border pixels \n",
    "    tmp = np.vstack((np.zeros((wp, img_width)), photo, np.zeros((wp, img_width))))\n",
    "    augmented = np.hstack((np.zeros((2*wp + img_height, hp)), tmp, np.zeros((2*wp + img_height, hp))))\n",
    "\n",
    "    # construct features X for and label vector y for training \n",
    "    x1 = np.zeros((sample_size, 1))\n",
    "    y = np.zeros((sample_size, 1))\n",
    " \n",
    "    for iter_datapoint in range(m): \n",
    "        row_tmp = rows[iter_datapoint] + wp\n",
    "        col_tmp = cols[iter_datapoint] + hp\n",
    "        # the feature of a data point (pixel) is the average gray level of the neighborhoud \n",
    "        x1[iter_datapoint] = np.sum(augmented[(row_tmp-wp):(row_tmp), (col_tmp-hp):(col_tmp + hp + 1)]) / (wp*(2*hp + 1))\n",
    "        y[iter_datapoint] = augmented[row_tmp, col_tmp]\n",
    "\n",
    "    x1 = x1[0:m]\n",
    "    np.random.seed(30)    # Set random seed\n",
    "    # lets add some \"extra features\" here \n",
    "    X = np.hstack((x1, np.random.randn(n,m).T)) \n",
    "    \n",
    "    X = X[:,0:n] \n",
    "    y = y[0:m]\n",
    "    \n",
    "    return X, y"
   ]
  },
  {
   "cell_type": "markdown",
   "metadata": {
    "deletable": false,
    "editable": false,
    "nbgrader": {
     "cell_type": "markdown",
     "checksum": "ddee4e3a314ded81df753f13aa004a9b",
     "grade": false,
     "grade_id": "cell-ddfcf8b06137c570",
     "locked": true,
     "schema_version": 3,
     "solution": false,
     "task": false
    }
   },
   "source": [
    "## Linear Predictors \n",
    "\n",
    "To predict the grayscale value $y$ of a pixel based on the first $r$ features (or characteristics) $\\mathbf{x}=(x_{1},\\ldots,x_{r})^{T} \\in \\mathbb{R}^{r}$, we try to find (or learn) a predictor function $h(\\mathbf{x})$ such that $y \\approx h(\\mathbf{x})$. We restrict ourselves to linear predictor functions. Thus, we use the hypothesis space \n",
    "\n",
    "$$ \\mathcal{H}^{(r)} = \\{ h(\\mathbf{x}) = \\mathbf{w}^{T} \\mathbf{x} \\mbox{ with some weight } \\mathbf{w}\\in \\mathbb{R}^{r} \\}.$$ \n",
    "\n",
    "Carefully note that for each value $r\\in \\{1,\\ldots,n\\}$, we obtain a different hypothesis space $\\mathcal{H}^{(r)}$ (or \"model\"). One can verify that these hypothesis spaces are nested in the sense of \n",
    "$$\\mathcal{H}^{(1)} \\subseteq \\mathcal{H}^{(2)} \\subseteq \\mathcal{H}^{(3)} \\ldots .$$\n",
    "\n",
    "For a fixed model parameter $r$, the weight vector $\\mathbf{w} \\in \\mathbb{R}^{r}$ is tuned by minimizing the average squared error loss incurred on the labeled data points in the training set $\\mathbb{X}^{(t)}$: \n",
    "\\begin{align}\\min_{h \\in \\mathcal{H}^{(r)}}  & \\sum_{\\big(\\mathbf{x}^{(i)},y^{(i)}\\big) \\in \\mathbb{X}^{(t)}}  (y^{(i)} - h(\\mathbf{x}^{(i)}) )^{2} \\nonumber \\\\ \n",
    "= \\min_{\\mathbf{w} \\in \\mathbb{R}^{r}} & \\sum_{\\big(\\mathbf{x}^{(i)},y^{(i)}\\big) \\in \\mathbb{X}^{(t)}}  \\big(y^{(i)} -  \\mathbf{w}^{T}\\mathbf{x}^{(i)}  \\big)^{2}.\n",
    "\\end{align}\n",
    "Solving this training problem provides us with optimal choices for weight vector $\\mathbf{w}$. \n",
    "However, we have another design parameter at our disposal: the number $r$ of features! While in our data base each pixel is characterized by $n$ features, we are free to use fewer e.g. only the first $r \\leq n$ of these features. \n",
    "\n",
    "What is the best choice for $r$? "
   ]
  },
  {
   "cell_type": "markdown",
   "metadata": {
    "deletable": false,
    "editable": false,
    "nbgrader": {
     "cell_type": "markdown",
     "checksum": "9fe9fdd06668362e99c146fc37986672",
     "grade": false,
     "grade_id": "cell-0399c961c185f2f3",
     "locked": true,
     "schema_version": 3,
     "solution": false,
     "task": false
    }
   },
   "source": [
    "## The Wrong Way \n",
    "\n",
    "Let us try out each hypothesis space $\\mathcal{H}^{(r)}$ on the training data $\\mathbb{X}^{(t)}$. For each $r=1,\\ldots,h,$ we learn the optimal predictor $h_{\\rm opt}^{(r)} \\in \\mathcal{H}^{(r)}$ by minimizing the average loss on the training set: \n",
    "\\begin{align} \n",
    "h_{\\rm opt}^{(r)} & = {\\rm argmin}_{h \\in \\mathcal{H}^{(r)}} (1/m_{t}) \\sum_{\\big(\\mathbf{x}^{(i)},y^{(i)}\\big) \\in \\mathbb{X}^{(t)}} \\big( y^{(i)}- h(\\mathbf{x}^{(i)}) \\big)^{2}. \n",
    "\\end{align} \n",
    "The corresponding training error is     \n",
    "\\begin{align} \n",
    "E_{\\rm train}(r) & = (1/m_{t}) \\sum_{\\big(\\mathbf{x}^{(i)},y^{(i)}\\big) \\in \\mathbb{X}^{(t)}} \\big( y^{(i)}- h_{\\rm opt}^{(r)}(\\mathbf{x}^{(i)}) \\big)^{2} \\nonumber \\\\ \n",
    "& = \\min_{h \\in \\mathcal{H}^{(r)}} (1/m_{t}) \\sum_{\\big(\\mathbf{x}^{(i)},y^{(i)}\\big) \\in \\mathbb{X}^{(t)}} \\big( y^{(i)}- h(\\mathbf{x}^{(i)}) \\big)^{2} \\nonumber \\\\ \n",
    "& = \\min_{\\mathbf{w} \\in \\mathbb{R}^{r}} (1/m_{t}) \\sum_{\\big(\\mathbf{x}^{(i)},y^{(i)}\\big) \\in \\mathbb{X}^{(t)}} \\big( y^{(i)}- \\mathbf{w}^{T} \\mathbf{x}^{(i)}  \\big)^{2} \\nonumber \\\\ \n",
    "& = \\min_{\\mathbf{w} \\in \\mathbb{R}^{r}} (1/m_{t}) \\sum_{\\big(\\mathbf{x}^{(i)},y^{(i)}\\big) \\in \\mathbb{X}^{(t)}} \\big( y^{(i)}- \\sum_{s=1}^{r}w_{s} x_{s}^{(i)}  \\big)^{2} \n",
    "\\end{align} \n",
    "It is tempting to choose the number $r$ of features according to the smallest training error $E_{\\rm train}(r)$. "
   ]
  },
  {
   "cell_type": "markdown",
   "metadata": {
    "deletable": false,
    "editable": false,
    "nbgrader": {
     "cell_type": "markdown",
     "checksum": "c41fcc700b93eb2ceae7807f449b4352",
     "grade": false,
     "grade_id": "cell-0aaf4cb2c4109eb2",
     "locked": true,
     "schema_version": 3,
     "solution": false
    }
   },
   "source": [
    "<a id='trainModel'></a>\n",
    "<div class=\" alert alert-info\">\n",
    "<p><b>Demo.</b> Varying Number of Features </p>\n",
    "    \n",
    "The following code snippet computes the training error E(r) for each choice for the number r of features. For each particular value $r=1,\\ldots,n$, the best linear predictor $h(\\mathbf{x}) = \\mathbf{w}^{T} \\mathbf{x}$ is using the Python function `LinearRegression.fit()`\n",
    "\n",
    "[Documentation of the LinearRegression class in scikit-learn](https://scikit-learn.org/stable/modules/generated/sklearn.linear_model.LinearRegression.html) \n",
    "\n",
    "</div>    "
   ]
  },
  {
   "cell_type": "code",
   "execution_count": 6,
   "metadata": {
    "deletable": false,
    "editable": false,
    "nbgrader": {
     "cell_type": "code",
     "checksum": "a84fa5222edd9394833f9c69909519f5",
     "grade": false,
     "grade_id": "cell-acd5c9243afcd36f",
     "locked": true,
     "schema_version": 3,
     "solution": false,
     "task": false
    }
   },
   "outputs": [
    {
     "data": {
      "image/png": "[encoded data removed]",
      "text/plain": [
       "<Figure size 720x432 with 1 Axes>"
      ]
     },
     "metadata": {
      "needs_background": "light"
     },
     "output_type": "display_data"
    }
   ],
   "source": [
    "import time\n",
    "from sklearn.linear_model import LinearRegression\n",
    "from sklearn.metrics import mean_squared_error\n",
    "\n",
    "m = 10                        # we use the first m=20 data points (pixels) from the aerial photo \n",
    "n = 10                        # maximum number of features used \n",
    "\n",
    "X,y = GetFeaturesLabels(m,n)  # read in m data points using n features \n",
    "linreg_error = np.zeros(n)    # vector for storing the training error of LinearRegresion.fit() for each r\n",
    "\n",
    "for r_minus_1 in range(n):    # loop over number of features r (minus 1)\n",
    "    reg = LinearRegression(fit_intercept=False)    # create an object for linear predictors\n",
    "    reg = reg.fit(X[:,:(r_minus_1 + 1)], y)    # find best linear predictor (minimize training error)\n",
    "    pred = reg.predict(X[:,:(r_minus_1 + 1)])    # compute predictions of best predictors \n",
    "    linreg_error[r_minus_1] = mean_squared_error(y, pred)    # compute training error \n",
    "\n",
    "plot_x = np.linspace(1, n, n, endpoint=True)    # plot_x contains grid points for x-axis (1,...,n)\n",
    "\n",
    "# Plot training error E(r) as a function of feature number r\n",
    "plt.rc('legend', fontsize=14)    #  Set font size for legends\n",
    "plt.rc('axes', labelsize=14)    #  Set font size for axis labels\n",
    "plt.figure(figsize=(10,6))    # Set figure size\n",
    "plt.plot(plot_x, linreg_error, label='$E(r)$', color='red')\n",
    "plt.xlabel('# of features $r$')\n",
    "plt.ylabel('training error $E(r)$')\n",
    "plt.title('training error vs number of features', fontsize=16)\n",
    "plt.legend()\n",
    "plt.show()"
   ]
  },
  {
   "cell_type": "markdown",
   "metadata": {
    "deletable": false,
    "editable": false,
    "nbgrader": {
     "cell_type": "markdown",
     "checksum": "cd336f7062591f09b2db0e8c01ce1804",
     "grade": false,
     "grade_id": "cell-4fba2c040fb160f3",
     "locked": true,
     "schema_version": 3,
     "solution": false
    }
   },
   "source": [
    "### Let's Interpret the Results!\n",
    "\n",
    "Based on the above plot, we could argue that we should choose the linear model with $r=10$ features since this yields the lowest training error $E(r)$. **This reasoning is incorrect** since our ultimate goal is to find a predictor for new pixels for which we do not know the grayscale values (e.g. corrupted pixels). Our goal is not to accurately reproduce the grayscale values of pixels for which we already know these values! \n",
    "\n",
    "Using the training error $E_{\\rm train}(r)$ to assess the quality of the predictor $h_{\\rm opt}^{(r)}$ is misleading since $h_{\\rm opt}^{(r)}$ is based on the weight vector $\\mathbf{w}$ and intercept that is perfectly tuned to the training data $\\mathbb{X}^{(t)}$. Also, the more features (larger $r$) we use, the better we will be able to fit the training data $\\mathbb{X}^{(t)}$ (obtain smaller training error). However, this does not necessarily lead to better performance on new data. A complex model with too many features (large $r$) might only fit the training data very well, and generalize poorly to new data.\n",
    "\n",
    "Consider the case of $r=m_{\\rm train}$, i.e., the number of features is the same as the number of labeled data points in the training set. Under very mild conditions it can be shown that in this case there always exists a linear predictor $h(\\mathbf{x})=\\mathbf{w}^{T} \\mathbf{x}$ such that $y^{(i)} = h(\\mathbf{x}^{(i)})$, i.e., the training error is exactly zero (see Chapter 7.1 of the coursebook)! \n",
    "A better way to evaluate the quality of a predictor is presented next."
   ]
  },
  {
   "cell_type": "markdown",
   "metadata": {
    "deletable": false,
    "editable": false,
    "nbgrader": {
     "cell_type": "markdown",
     "checksum": "a5e282d696ecb95f5a5da7354d9fa06f",
     "grade": false,
     "grade_id": "cell-8e508ee65304e99f",
     "locked": true,
     "schema_version": 3,
     "solution": false,
     "task": false
    }
   },
   "source": [
    "##  The Right Way\n",
    "\n",
    "The training error $E_{\\rm train}(r)$ is a bad measure for the quality of a hypothesis space $\\mathcal{H}^{(r)}$ since it will always favor larger spaces (larger number $r$ of features). A more useful measure for the quality of a hypothesis space $\\mathcal{H}^{(r)}$ is the validation error \n",
    "\\begin{equation}\n",
    "E_{\\rm val}(r) = (1/m_{v}) \\sum_{\\big(\\mathbf{x}^{(i)},y^{(i)}\\big) \\in \\mathbb{X}^{(v)}} \\big(y^{(i)} - h^{(r)}_{\\rm opt}(\\mathbf{x}^{(i)})\\big)^{2}. \n",
    "\\end{equation} \n",
    "Here, the predictor $h_{\\rm opt}$ is obtained by minimizing the training error over all linear predictors using $r$ features: \n",
    "\\begin{equation}\n",
    " h^{(r)}_{\\rm opt} = {\\rm argmin}_{h \\in \\mathcal{H}^{(r)}} (1/m_{t}) \\sum_{\\big(\\mathbf{x}^{(i)},y^{(i)}\\big) \\in \\mathbb{X}^{(t)}} \\big(y^{(i)} - h(\\mathbf{x}^{(i)})\\big)^{2}.\n",
    "\\end{equation}\n",
    "Since each predictor function $h \\in \\mathcal{H}^{(r)}$ is given by $h(\\mathbf{x}) = \\mathbf{w}^{T} \\mathbf{x}$ we can find the optimal predictor via the optimum weight and intercept \n",
    "\\begin{equation}\n",
    "\\mathbf{w}_{\\rm opt} = {\\rm argmin}_{\\mathbf{w}\\in \\mathbb{R}^{r}} (1/m_{t}) \\sum_{\\big(\\mathbf{x}^{(i)},y^{(i)}\\big) \\in \\mathbb{X}^{(t)}} \\big(y^{(i)} - \\mathbf{w}^{T} \\mathbf{x}^{(i)} \\big)^{2}. \n",
    "\\end{equation} "
   ]
  },
  {
   "cell_type": "markdown",
   "metadata": {
    "deletable": false,
    "editable": false,
    "nbgrader": {
     "cell_type": "markdown",
     "checksum": "b5bda1d34b2750a130a79077d8572a6b",
     "grade": false,
     "grade_id": "cell-8a7b319a106cbd05",
     "locked": true,
     "schema_version": 3,
     "solution": false,
     "task": false
    }
   },
   "source": [
    "<a id='splitTestandValidationfunction'></a>\n",
    "<div class=\" alert alert-warning\">\n",
    "<b>Student Task.</b> Generate Training and Validation Set.\n",
    "   \n",
    "Use the `scikit-learn` library function `train_test_split()` to split the data points obtained from the function `GetFeaturesLabels` into a training and validation set. The function should be used with the choice `random_state=2` and `test_size=0.2`. \n",
    "</div>"
   ]
  },
  {
   "cell_type": "code",
   "execution_count": 7,
   "metadata": {
    "deletable": false,
    "nbgrader": {
     "cell_type": "code",
     "checksum": "2c831690641d0305c3f6c540a168fc86",
     "grade": false,
     "grade_id": "cell-9cc67382efb4ce19",
     "locked": false,
     "schema_version": 3,
     "solution": true
    }
   },
   "outputs": [],
   "source": [
    "from sklearn.model_selection import train_test_split    # Import train_test_split function\n",
    "\n",
    "m = 20                        # we use the first m=20 data points (pixels) from the aerial photo\n",
    "n = 10                        # maximum number of features used \n",
    "\n",
    "X, y = GetFeaturesLabels(m,n)    # read in m data points using n features \n",
    "\n",
    "### STUDENT TASK ###\n",
    "# Compute the training and validation sets\n",
    "# X_train, X_val, y_train, y_val = ...\n",
    "X_train, X_val, y_train, y_val = train_test_split(X, y, test_size=0.2, random_state=2)"
   ]
  },
  {
   "cell_type": "code",
   "execution_count": 8,
   "metadata": {
    "deletable": false,
    "editable": false,
    "nbgrader": {
     "cell_type": "code",
     "checksum": "7dd13ab8fc6953e27887597c540e1d62",
     "grade": true,
     "grade_id": "cell-2fbabdcefb77f271",
     "locked": true,
     "points": 1,
     "schema_version": 3,
     "solution": false,
     "task": false
    }
   },
   "outputs": [
    {
     "name": "stdout",
     "output_type": "stream",
     "text": [
      "Sanity checks passed!\n"
     ]
    }
   ],
   "source": [
    "# Check dimensions of train and validation vectors\n",
    "assert len(X_train) == 16, \"The 'x_train' vector has the wrong length\"\n",
    "assert len(y_train) == 16, \"The 'y_train' vector has the wrong length\"\n",
    "assert len(X_val) == 4,   \"The 'x_val' vector has the wrong length\"\n",
    "assert len(y_val) == 4, \"The 'y_val' vector has the wrong length\"\n",
    "print('Sanity checks passed!')"
   ]
  },
  {
   "cell_type": "markdown",
   "metadata": {
    "deletable": false,
    "editable": false,
    "nbgrader": {
     "cell_type": "markdown",
     "checksum": "e0dd94a9b449a77bb4be67c7bba49467",
     "grade": false,
     "grade_id": "cell-428dadef568d5aef",
     "locked": true,
     "schema_version": 3,
     "solution": false,
     "task": false
    }
   },
   "source": [
    "<a id='trainValErrorsfunction'></a>\n",
    "<div class=\" alert alert-warning\">\n",
    "<b>Student Task.</b> Compute Training and Validation Error. \n",
    "\n",
    "**(1)** Complete the function `get_train_val_errors(X_train, X_val, y_train, y_val, n_features)` that returns the training error and validation error for each choice of $r=1,\\ldots,n$. Please use `fit_intercept=True` The training errors should be stored in a numpy array `err_train` of shape (n,1) and the validation errors should be stored in the numpy array `err_val` of shape (n,1). The first entries of `err_train` and `err_val` should be $E_{\\rm train}(1)$ and $E_{\\rm val}(1)$. \n",
    "\n",
    "**(2)** Complete the function `get_best_model(err_val)`, that takes as input the validation errors `err_val` for each number of features $r=1,\\ldots,n$ and returns the optimum number $\\hat{r}$ of features (such that the validation error is smallest). \n",
    "\n",
    "Hint: you can determine the index of the smallest entry in a numpy array using `np.argmin()` ([see documentation](https://docs.scipy.org/doc/numpy-1.15.1/reference/generated/numpy.argmin.html)).\n",
    "\n",
    "**IMPORTANT!**: Remember that indexing for numpy arrays starts with index 0. However, we start with model size $r=1$. Thus, you need to add 1 to the index that you get by using `np.argmin()`.\n",
    "</div>"
   ]
  },
  {
   "cell_type": "code",
   "execution_count": 9,
   "metadata": {
    "deletable": false,
    "nbgrader": {
     "cell_type": "code",
     "checksum": "cbcb4b40ff6d388d655116e89730b2fc",
     "grade": false,
     "grade_id": "cell-7791084dee96529b",
     "locked": false,
     "schema_version": 3,
     "solution": true,
     "task": false
    }
   },
   "outputs": [],
   "source": [
    "def get_train_val_errors(X_train, X_val, y_train, y_val, n_features):  \n",
    "    err_train = np.zeros((n,1))    # Array for storing training errors\n",
    "    err_val = np.zeros((n,1))    # Array for storing validation errors\n",
    "    \n",
    "    print(np.shape(X_val))\n",
    "    \n",
    "    for r_minus_1 in range(n_features):    # Loop over the number of features r (minus one)\n",
    "        ### STUDENT TASK ###\n",
    "        reg = LinearRegression(fit_intercept=True)    # create an object for linear predictors\n",
    "        reg = reg.fit(X_train[:,:(r_minus_1 + 1)], y_train)    # find best linear predictor (minimize training error)\n",
    "        pred = reg.predict(X_train[:,:(r_minus_1 + 1)])    # compute predictions of best predictors \n",
    "        vald = reg.predict(X_val[:,:(r_minus_1 + 1)])\n",
    "        err_train[r_minus_1] = mean_squared_error(y_train, pred)    # compute training error \n",
    "        err_val[r_minus_1] = mean_squared_error(y_val, vald) \n",
    "    return err_train, err_val\n",
    "\n",
    "def get_best_model(err_val):\n",
    "    # best_model = ...\n",
    "    # YOUR CODE HERE\n",
    "    best_model = np.argmin(err_val)\n",
    "    return best_model"
   ]
  },
  {
   "cell_type": "code",
   "execution_count": 10,
   "metadata": {
    "deletable": false,
    "editable": false,
    "nbgrader": {
     "cell_type": "code",
     "checksum": "65e3f4ab832dfb5590067f327d28ca13",
     "grade": true,
     "grade_id": "cell-c1430b345ba97bfc",
     "locked": true,
     "points": 2,
     "schema_version": 3,
     "solution": false,
     "task": false
    }
   },
   "outputs": [
    {
     "name": "stdout",
     "output_type": "stream",
     "text": [
      "(4, 10)\n",
      "Sanity checks passed!\n"
     ]
    }
   ],
   "source": [
    "# Calculate training and validation errors using ´get_train_val_errors´\n",
    "err_train, err_val = get_train_val_errors(X_train, X_val, y_train, y_val, n)\n",
    "\n",
    "# Perform some sanity checks on the results\n",
    "assert err_train.shape == (n,1), \"numpy array err_train has wrong shape\"\n",
    "assert err_val.shape == (n,1), \"numpy array err_val has wrong shape\"\n",
    "print('Sanity checks passed!')\n"
   ]
  },
  {
   "cell_type": "code",
   "execution_count": 11,
   "metadata": {
    "deletable": false,
    "editable": false,
    "nbgrader": {
     "cell_type": "code",
     "checksum": "5b9823f38844472bac91f8289b1f5533",
     "grade": true,
     "grade_id": "cell-b6e6c7e09a33407f",
     "locked": true,
     "points": 1,
     "schema_version": 3,
     "solution": false,
     "task": false
    }
   },
   "outputs": [
    {
     "name": "stdout",
     "output_type": "stream",
     "text": [
      "The best model is obtained for r=1\n",
      "Sanity checks passed!\n"
     ]
    }
   ],
   "source": [
    "# Get the best model using `get_best_model`\n",
    "best_model = get_best_model(err_val)\n",
    "\n",
    "# Print the best model\n",
    "print('The best model is obtained for r={}'.format(best_model))\n",
    "\n",
    "# Perform some sanity checks on the result\n",
    "assert best_model != None, \"Please choose a value between 1 and n \"\n",
    "assert best_model <= n, \"The values should be less than n\"\n",
    "assert best_model > 0, \"The values should be more than 0\"\n",
    "print('Sanity checks passed!')\n"
   ]
  },
  {
   "cell_type": "markdown",
   "metadata": {
    "deletable": false,
    "editable": false,
    "nbgrader": {
     "cell_type": "markdown",
     "checksum": "6af3da2252039d65e28bdc7259fcc3a5",
     "grade": false,
     "grade_id": "cell-802d3729eb036c9f",
     "locked": true,
     "schema_version": 3,
     "solution": false,
     "task": false
    }
   },
   "source": [
    "Next, we plot the training and validation errors from the previous task:"
   ]
  },
  {
   "cell_type": "code",
   "execution_count": 12,
   "metadata": {
    "deletable": false,
    "editable": false,
    "nbgrader": {
     "cell_type": "code",
     "checksum": "0e67f4ab4b2bbb99c3b692d0247ae9a4",
     "grade": false,
     "grade_id": "cell-64473b41dbc92dfa",
     "locked": true,
     "schema_version": 3,
     "solution": false,
     "task": false
    }
   },
   "outputs": [
    {
     "data": {
      "image/png": "[encoded data removed]",
      "text/plain": [
       "<Figure size 720x432 with 1 Axes>"
      ]
     },
     "metadata": {
      "needs_background": "light"
     },
     "output_type": "display_data"
    }
   ],
   "source": [
    "# Plot the training and validation errors for the different number of features r\n",
    "plt.figure(figsize=(10,6))\n",
    "plt.plot(range(1, n + 1), err_train, color='black', label=r'$E_{\\rm train}(r)$', marker='o')  # Plot training error\n",
    "plt.plot(range(1, n + 1), err_val, color='red', label=r'$E_{\\rm val}(r)$', marker='x')  # Plot validation error\n",
    "\n",
    "plt.title('Training and validation error for different number of features', fontsize=16)    # Set title\n",
    "plt.ylabel('Empirical error')    # Set label for y-axis\n",
    "plt.xlabel('r features')    # Set label for x-axis\n",
    "plt.xticks(range(1, n + 1))  # Set the tick labels on the x-axis to be 1,...,n\n",
    "plt.legend()\n",
    "plt.show()"
   ]
  },
  {
   "cell_type": "markdown",
   "metadata": {
    "deletable": false,
    "editable": false,
    "nbgrader": {
     "cell_type": "markdown",
     "checksum": "b3cdf66f84817d4b7bef571be65e0799",
     "grade": false,
     "grade_id": "cell-61ecf20008a16c4b",
     "locked": true,
     "schema_version": 3,
     "solution": false,
     "task": false
    }
   },
   "source": [
    "We see that the training error is monotonically decreasing with increasing number $r$ of features used in the linear predictor $h(\\mathbf{x}) = w_{1}x_{1}+\\ldots+w_{r}x_{r}$. However, the validation error is first decreasing but then significantly increasing for larger values of $r$. Note that the validation error is an estimate for the prediction error on new data points. For large values of $r$, the training error can be highly misleading as a measure for prediction error on new data."
   ]
  },
  {
   "cell_type": "markdown",
   "metadata": {
    "collapsed": true,
    "deletable": false,
    "editable": false,
    "nbgrader": {
     "cell_type": "markdown",
     "checksum": "e0d60f2b4b3a43ac6f296f86cd881374",
     "grade": false,
     "grade_id": "cell-a417d9495eb3f40e",
     "locked": true,
     "schema_version": 3,
     "solution": false,
     "task": false
    }
   },
   "source": [
    "## K-fold Cross-Validation\n",
    "\n",
    "In general, there is no unique optimal way of splitting a data set into a training and validation set. The precise choice of how to divide data points into the training and validation set and also their relative size (80/20, 50/50 ...) has to be considered case-by-case for the application at hand. \n",
    "\n",
    "To get more guidance on how to split the data, one typically needs to have additional knowledge about the statistical properties of the data generating process. An accurate probabilistic model for the data points allows determining optimal split ratios between the training and validation set. That said, probabilistic (generative) models for the observed data points is beyond the scope of this course. \n",
    "\n",
    "Using only a single split of the data into training and validation set bears the risk of being extremely \"unlucky\". The single split might result in a highly non-typical validation set such that the validation error is not reliable as a measure for the average loss on new data. $K$-fold cross-validation is a straightforward extension of the \"single-split approach\" making it more robust. \n",
    "\n",
    "$K$-fold cross-validation randomly splits the data into $K$ equal-sized subsets (\"folds\"). It then executes $K$ rounds, each round corresponding to one of the $K$ folds. In the $k$th round, the $k$th fold is used as the validation set and the remaining $K-1$ folds are used as the training set. The validation errors obtained during each fold are then averaged to obtain the final validation error. \n",
    "\n",
    "As an example, a diagram of  5-fold cross-validation is depicted below. For each round, the fold which is used as the validation set is indicated by \"test\". \n",
    "\n",
    "![Components](../../../coursedata/R4_ModelValSel/cross_validation_diagram.png)"
   ]
  },
  {
   "cell_type": "markdown",
   "metadata": {
    "deletable": false,
    "editable": false,
    "nbgrader": {
     "cell_type": "markdown",
     "checksum": "c13e6cf87c898bda932d19e584b3ea77",
     "grade": false,
     "grade_id": "cell-de6d839671d97847",
     "locked": true,
     "schema_version": 3,
     "solution": false,
     "task": false
    }
   },
   "source": [
    "<a id='kfold'></a>\n",
    "<div class=\" alert alert-info\">\n",
    "<p><b>Student task.</b> Splitting data into K-folds in sklearn.</p>\n",
    "    \n",
    "The code snippet below shows how to use a `KFold` object in scikit-learn to iterate through `K` train/validation splits of the dataset `X`.\n",
    "    \n",
    "On initialization the `KFold` object is given the number of folds `K` as an argument. The Python [generator function](https://docs.python.org/3.8/glossary.html#term-generator) `KFold.split(X)` can then be used to iterate through the pairs of training and validation indices. \n",
    "\n",
    "For an array `idx` of indices, the data points in X corresponding to these indices can be obtained by `X[idx,:]`. We can use this to obtain the training and validation sets given the indices of the datapoints in the respective sets.\n",
    "\n",
    "For more information, see the scikit-learn [documentation of KFold](https://scikit-learn.org/stable/modules/generated/sklearn.model_selection.KFold.html).\n",
    "</div>  "
   ]
  },
  {
   "cell_type": "code",
   "execution_count": 13,
   "metadata": {
    "deletable": false,
    "editable": false,
    "nbgrader": {
     "cell_type": "code",
     "checksum": "0c66e71eba1522ecf586691109b671c0",
     "grade": false,
     "grade_id": "cell-045f017b3f6cb246",
     "locked": true,
     "schema_version": 3,
     "solution": false,
     "task": false
    }
   },
   "outputs": [
    {
     "name": "stdout",
     "output_type": "stream",
     "text": [
      "Iteration 1:\n",
      "Indices for validation set: [0 1 2 3]\n",
      "Indices for training set: [ 4  5  6  7  8  9 10 11 12 13 14 15 16 17 18 19]\n",
      "X_val shape: (4, 10), X_train shape: (16, 10) \n",
      "\n",
      "Iteration 2:\n",
      "Indices for validation set: [4 5 6 7]\n",
      "Indices for training set: [ 0  1  2  3  8  9 10 11 12 13 14 15 16 17 18 19]\n",
      "X_val shape: (4, 10), X_train shape: (16, 10) \n",
      "\n",
      "Iteration 3:\n",
      "Indices for validation set: [ 8  9 10 11]\n",
      "Indices for training set: [ 0  1  2  3  4  5  6  7 12 13 14 15 16 17 18 19]\n",
      "X_val shape: (4, 10), X_train shape: (16, 10) \n",
      "\n",
      "Iteration 4:\n",
      "Indices for validation set: [12 13 14 15]\n",
      "Indices for training set: [ 0  1  2  3  4  5  6  7  8  9 10 11 16 17 18 19]\n",
      "X_val shape: (4, 10), X_train shape: (16, 10) \n",
      "\n",
      "Iteration 5:\n",
      "Indices for validation set: [16 17 18 19]\n",
      "Indices for training set: [ 0  1  2  3  4  5  6  7  8  9 10 11 12 13 14 15]\n",
      "X_val shape: (4, 10), X_train shape: (16, 10) \n",
      "\n"
     ]
    }
   ],
   "source": [
    "# Import KFold class from scikitlearn library\n",
    "from sklearn.model_selection import KFold\n",
    "\n",
    "K=5    # Specify the number of folds of split data into\n",
    "kf = KFold(n_splits=K, shuffle=False)    # Create a KFold object with 'K' splits\n",
    "\n",
    "# For all splits, print the validation and training indices\n",
    "iteration = 0\n",
    "for train_indices, test_indices in kf.split(X):\n",
    "    iteration += 1\n",
    "    X_train = X[train_indices,:]    # Get the training set    \n",
    "    X_val = X[test_indices,:]    # Get the validation set\n",
    "    print('Iteration {}:'.format(iteration))\n",
    "    print('Indices for validation set:', test_indices)\n",
    "    print('Indices for training set:', train_indices)\n",
    "    print('X_val shape: {}, X_train shape: {} \\n'.format(X_val.shape, X_train.shape))"
   ]
  },
  {
   "cell_type": "markdown",
   "metadata": {
    "deletable": false,
    "editable": false,
    "nbgrader": {
     "cell_type": "markdown",
     "checksum": "67f01b28848e41cd785e5fdcabdf3084",
     "grade": false,
     "grade_id": "cell-13d40bbc019a9337",
     "locked": true,
     "schema_version": 3,
     "solution": false,
     "task": false
    }
   },
   "source": [
    "<a id='kfold'></a>\n",
    "<div class=\" alert alert-warning\">\n",
    "<p><b>Student task.</b> K-Fold Cross Validation.</p>\n",
    "    \n",
    "Your task is to fill in the missing parts of the code section below, in which the average training and validation errors of a linear model (with features $x_1,x_2$) is calculated using K-fold cross-validation, for different numbers `K` of folds.\n",
    "    \n",
    "For each `K` in `K_list`, the code should:\n",
    "\n",
    "1. Create a `KFold` object using `K` folds (using `shuffle=False` as in the demo)\n",
    "    \n",
    "2. Iterate over the `K` pairs of train and test indices, and calculate and store the training and validation errors of the linear model for each split in `train_errors_per_cv_iteration` and `test_errors_per_cv_iteration` respectively\n",
    "    \n",
    "3. Calculate the average training- and validation error and append these to `err_train_folds` and `err_val_folds`\n",
    "\n",
    "\n",
    "\n",
    "For more information, see the scikit-learn [documentation of KFold](https://scikit-learn.org/stable/modules/generated/sklearn.model_selection.KFold.html).\n",
    "    \n",
    "\n",
    "</div>  "
   ]
  },
  {
   "cell_type": "code",
   "execution_count": 14,
   "metadata": {
    "deletable": false,
    "nbgrader": {
     "cell_type": "code",
     "checksum": "5565e06d0fec51d8046221be1af44158",
     "grade": false,
     "grade_id": "cell-eb92bc591606de2f",
     "locked": false,
     "schema_version": 3,
     "solution": true,
     "task": false
    }
   },
   "outputs": [
    {
     "name": "stdout",
     "output_type": "stream",
     "text": [
      "Training errors for each K:\n",
      "[1349.0205256456688, 1447.2413504899778, 1466.0318485636178, 1472.9330124079747, 1477.0676382627998, 1480.515869137552, 1481.699904962016, 1482.5597921194267, 1483.2688935886422] \n",
      "\n",
      "Validation error for each K:\n",
      "[1900.3506222135582, 1684.2327816037844, 1631.506892961118, 1609.2493290523666, 1590.9247946618352, 1563.5394559119777, 1558.2660679174467, 1552.2998404643627, 1547.4477925935942] \n",
      "\n",
      "====\n",
      "err_val_folds[0] - err_train_folds[0]=  1900.3506222135582\n"
     ]
    }
   ],
   "source": [
    "m = 600    # we use the first m=600 data points (pixels) from the aerial photo\n",
    "n = 2    # number of features used \n",
    "\n",
    "X,y = GetFeaturesLabels(m,n)  # read in m data points with n features \n",
    "\n",
    "    # Create a KFold object with 'K' splits\n",
    "K_list = list(range(2,11))   # List of K:s to use (2,...,10)\n",
    "\n",
    "err_train_folds = []  # List to store the average training error over K folds for each K in K_list\n",
    "err_val_folds = []  # List to store the average validation error over K folds for each K in K_list\n",
    "\n",
    "# Loop over all values of K in K_list\n",
    "for K in K_list:\n",
    "    kf = KFold(n_splits=K, shuffle=False)\n",
    "    train_errors_per_cv_iteration = []    # List to store the training errors of the 'K' train/test splits (for current K)\n",
    "    test_errors_per_cv_iteration = []    # List to store the test errors of the 'K' train/test splits (for current K)\n",
    "    for train_indices, test_indices in kf.split(X):\n",
    "        iteration += 1\n",
    "        X_train = X[train_indices,:]    # Get the training set    \n",
    "        X_val = X[test_indices,:]    # Get the validation set\n",
    "        y_train = y[train_indices, :]\n",
    "        y_val = y[test_indices, :]\n",
    "        reg = LinearRegression(fit_intercept=True)    # create an object for linear predictors\n",
    "        reg = reg.fit(X_train, y_train)    # find best linear predictor (minimize training error)\n",
    "        pred = reg.predict(X_train)    # compute predictions of best predictors \n",
    "        vald = reg.predict(X_val)\n",
    "        train_errors_per_cv_iteration.append(mean_squared_error(y_train, pred))    # compute training error \n",
    "        test_errors_per_cv_iteration.append(mean_squared_error(y_val, vald))\n",
    "    # compute average \n",
    "    err_train_folds.append(sum(train_errors_per_cv_iteration)/len(train_errors_per_cv_iteration))\n",
    "    err_val_folds.append(sum(test_errors_per_cv_iteration)/len(test_errors_per_cv_iteration)) \n",
    "    ### STUDENT TASK ###\n",
    "    # YOUR CODE HERE\n",
    "    \n",
    "    \n",
    "print('Training errors for each K:')\n",
    "print(err_train_folds, '\\n')\n",
    "print('Validation error for each K:')\n",
    "print(err_val_folds, '\\n')\n",
    "print(\"====\")\n",
    "print(\"err_val_folds[0] - err_train_folds[0]= \", err_val_folds[0])"
   ]
  },
  {
   "cell_type": "code",
   "execution_count": 15,
   "metadata": {
    "deletable": false,
    "editable": false,
    "nbgrader": {
     "cell_type": "code",
     "checksum": "18202170bab97e0f2e2104fb37b99ff3",
     "grade": true,
     "grade_id": "cell-2d51040a6c736472",
     "locked": true,
     "points": 3,
     "schema_version": 3,
     "solution": false,
     "task": false
    }
   },
   "outputs": [
    {
     "name": "stdout",
     "output_type": "stream",
     "text": [
      "Sanity checks passed!\n"
     ]
    }
   ],
   "source": [
    "# Perform some sanity checks on the result\n",
    "assert len(err_train_folds) == len(K_list), \"err_train_folds is of the wrong length!\"\n",
    "assert len(err_val_folds) == len(K_list), \"err_val_folds is of the wrong length!\"\n",
    "assert (err_val_folds[0] - err_train_folds[0]) > (err_val_folds[8] - err_train_folds[8])\n",
    "print('Sanity checks passed!')\n"
   ]
  },
  {
   "cell_type": "code",
   "execution_count": 16,
   "metadata": {
    "deletable": false,
    "editable": false,
    "nbgrader": {
     "cell_type": "code",
     "checksum": "d0e7bb7b31a31ec2e253e741575c48d8",
     "grade": false,
     "grade_id": "cell-e74e59f6de5faba1",
     "locked": true,
     "schema_version": 3,
     "solution": false,
     "task": false
    }
   },
   "outputs": [
    {
     "data": {
      "image/png": "[encoded data removed]",
      "text/plain": [
       "<Figure size 576x432 with 1 Axes>"
      ]
     },
     "metadata": {
      "needs_background": "light"
     },
     "output_type": "display_data"
    }
   ],
   "source": [
    "# Plot the training and validation errors as a function of the number K of folds\n",
    "plt.figure(figsize=(8,6))\n",
    "plt.plot(K_list, err_train_folds)\n",
    "plt.plot(K_list, err_val_folds)\n",
    "plt.xlabel('K folds')\n",
    "plt.ylabel(\"Error\"\n",
    "          )\n",
    "plt.title(\"Average training and validation errors vs. number of folds\")\n",
    "plt.legend(['Training error', 'Validation error'])\n",
    "plt.show()"
   ]
  },
  {
   "cell_type": "markdown",
   "metadata": {
    "deletable": false,
    "editable": false,
    "nbgrader": {
     "cell_type": "markdown",
     "checksum": "dbba2a55235012b0b6267943f143a02d",
     "grade": false,
     "grade_id": "cell-12f1478400587745",
     "locked": true,
     "schema_version": 3,
     "solution": false,
     "task": false
    }
   },
   "source": [
    "If the student task has been solved correctly, the figure above should show a trend of increasing training error and decreasing validation error when increasing the number of folds $K$."
   ]
  },
  {
   "cell_type": "markdown",
   "metadata": {
    "deletable": false,
    "editable": false,
    "nbgrader": {
     "cell_type": "markdown",
     "checksum": "428a471e4947a5070d33261e911ff6c7",
     "grade": false,
     "grade_id": "cell-a451b1c380ed82da",
     "locked": true,
     "schema_version": 3,
     "solution": false,
     "task": false
    }
   },
   "source": [
    "##  Regularization\n",
    "\n",
    "Consider a ML method based on a large hypothesis space such as linear predictors using many features or polynomials with a large degree. Large hypothesis spaces typically contain complex predictors that achieve very low training errors by overfitting the data. Thus, if we search for the optimal predictor in this hypothesis space (i.e train our model) by minimizing the training error, we will obtain a predictor that overfits the training data and  generalizes poorly to data that is not in the training set.\n",
    "\n",
    "One solution to prevent overfitting is to choose a model out of a selection of candidate models based on the validation error, like we did in the student task \"Compute Training and Validation Error\". By using the validation error as the selection criteria, we are able to select the model that performs best on new data. While this approach is useful, it can be very difficult to implement in settings where the number of feasible hypothesis spaces is very large.\n",
    "\n",
    "**Regularization** is a more sophisticated approach to preventing overfitting, and is based on the idea of **estimating the expected increase of the validation error (relative to the training error) incurred by more complex predictors**. When applying regularization, a large hypothesis space is used in conjunction with a loss function that penalizes the complexity of the predictor. If we recall that the optimal predictor is found by minimizing the loss function, it is clear that by choosing a loss function that penalizes complexity, the optimal predictor will less complex. In practice, the penalization is done by adding a **regularization term** $\\mathcal{R}(h)$ to the training error: \n",
    "\n",
    "\\begin{equation}\n",
    "h^{(\\lambda)}_{\\rm opt}  = {\\rm argmin}_{h \\in \\mathcal{H}} \\underbrace{\\underbrace{(1/m_{t}) \\sum_{\\big(\\mathbf{x}^{(i)},y^{(i)}\\big) \\in \\mathbb{X}^{(t)}} \\big(y^{(i)} - h(\\mathbf{x}^{(i)}) \\big)^{2}}_{\\mbox{ training error}} + \\underbrace{\\alpha \\mathcal{R}(h)}_{\\mbox{anticipated increase of error (loss) on new data}}}_{\\mbox{ estimate (approximation) of validation error }}.  \n",
    "\\end{equation}\n",
    "\n",
    "The regularization term $\\mathcal{R}(h)$ quantifies the anticipated increase in the validation error (compared to the training error) due to the \"complexity\" (e.g. the number of features used in a linear predictor) of a particular predictor. In a nutshell, the regularization term penalizes the use of more complex predictors and therefore favors \"simpler\" predictor functions. The precise meaning of \"complexity\" or \"simpler\" is determined by the (design) choice for the regularization term $\\mathcal{R}(h)$. \n",
    "\n",
    "Two widely used choices for measuring the complexity of linear predictors $h(\\mathbf{x}) = \\mathbf{w}^{T}\\mathbf{x}$ is the squared Euclidean norm $\\mathcal{R}(h) = \\|\\mathbf{w}\\|^{2}_{2}=\\sum_{r=1}^{n} w_{r}^{2}$ or the $\\ell_{1}$ norm $\\mathcal{R}(h) = \\|\\mathbf{w}\\|_{1}=\\sum_{r=1}^{n} |w_{r}|$. \n",
    "\n",
    "The regularization parameter $\\alpha$ **offers a trade-off between the prediction error (training error) incurred on the training data and the complexity of a predictor**. The larger we choose $\\alpha$, the more emphasis is put on obtaining \"simple\" predictor functions. Using very small values for $\\alpha$ prefers predictor functions which achieve a small training error (at the expense of being a more complicated function).\n",
    "\n",
    "In order to actually implement regularization, we need to \n",
    "- choose (define) the function $\\mathcal{R}(h)$ that quantifies some notion of complexity of a predictor function $h \\in \\mathcal{H}^{(n)}$. \n",
    "- choose the value of the regularization parameter $\\alpha$. \n",
    "\n",
    "A principled approach to these choices is to assume a probabilistic model for how the data points are generated. It is then possible to relate optimal choices for the function $\\mathcal{R}(h)$ and the value $\\alpha$ to the parameters of the probability distribution of the data points. However, probabilistic modelling in machine learning is beyond the scope of this course. \n",
    "\n",
    "Instead of probabilistic modelling, we can use again the concept of validation sets to find good choices for the regularization function and parameter. In particular, \n",
    "- we first specify a set of different choices for the function $\\mathcal{R}(h)$ and regularization parameter value $\\alpha$, \n",
    "- for each choice for $\\alpha$ and $\\mathcal{R}(h)$, we learn a predictor that minimizes the regularized training error \n",
    "\n",
    "\\begin{equation}\n",
    "h^{(\\alpha)}_{\\rm opt}  = {\\rm argmin}_{h \\in \\mathcal{H}} (1/m_{t}) \\sum_{\\big(\\mathbf{x}^{(i)},y^{(i)}\\big) \\in \\mathbb{X}^{(t)}} \\big(y^{(i)} - h(\\mathbf{x}^{(i)}) \\big)^{2} + \\alpha \\mathcal{R}(h).    \n",
    "\\end{equation}\n",
    "- evaluate the resulting predictor $h^{(\\alpha)}_{\\rm opt}$ by computing the validation error\n",
    "\\begin{equation}\n",
    "E_{\\rm val}^{(\\alpha)} = (1/m_{\\rm v}) \\sum_{\\big(\\mathbf{x}^{(i)},y^{(i)}\\big) \\in \\mathbb{X}^{(v)}} \\big(y^{(i)} - h^{(\\alpha)}_{\\rm opt}(\\mathbf{x}^{(i)})\\big)^{2}.\n",
    "\\end{equation} \n",
    "\n",
    "We then use the regularization measure $\\mathcal{R}(h)$ and the value for $\\alpha$ with smallest validation error $E_{\\rm val}^{(\\alpha)}$. "
   ]
  },
  {
   "cell_type": "markdown",
   "metadata": {
    "deletable": false,
    "editable": false,
    "nbgrader": {
     "cell_type": "markdown",
     "checksum": "a94c08a6baafd3f077d13a2f8fd6f0e0",
     "grade": false,
     "grade_id": "cell-a697f48e6cf7e933",
     "locked": true,
     "schema_version": 3,
     "solution": false,
     "task": false
    }
   },
   "source": [
    "<a id='ridgeReg'></a>\n",
    "<div class=\" alert alert-info\">\n",
    "<p><b>Demo.</b> Ridge Regression. </p>\n",
    "\n",
    "Ridge regression learns a linear predictor functions $h^{(\\mathbf{w})}(\\mathbf{x}) =\\mathbf{w}^{T} \\mathbf{x}$ by minimizing the sum of training error and the scaled regularization term $\\mathcal{R}(h)=\\|\\mathbf{w}\\|_{2}^{2}$. A ridge regression model can be fitted to a dataset with scikit-learn by using the function `Ridge.fit()`. After fitting the model, the optimal weight vector $\\mathbf{w}_{\\rm opt}$ is stored in the attribute `Ridge.coef_` of the `Ridge` instance. \n",
    "\n",
    "[See documentation of Ridge](https://scikit-learn.org/stable/modules/generated/sklearn.linear_model.Ridge.html)\n",
    "\n",
    "</div>  "
   ]
  },
  {
   "cell_type": "code",
   "execution_count": 17,
   "metadata": {
    "deletable": false,
    "editable": false,
    "nbgrader": {
     "cell_type": "code",
     "checksum": "7ff8d3129c710fa599cea67674f22b77",
     "grade": false,
     "grade_id": "cell-ef05953e6a07a985",
     "locked": true,
     "schema_version": 3,
     "solution": false,
     "task": false
    }
   },
   "outputs": [
    {
     "name": "stdout",
     "output_type": "stream",
     "text": [
      "Optimal weights: \n",
      " [[ 0.53652455  8.00383551  2.28457264 -0.54950235 -1.78995895  4.3751324\n",
      "  -0.53547952 -0.01202009  3.05634915  6.79873658]]\n",
      "Training error: \n",
      " 497.35334855530243\n"
     ]
    }
   ],
   "source": [
    "from sklearn.linear_model import Ridge\n",
    "\n",
    "m = 20\n",
    "n = 10\n",
    "X, y = GetFeaturesLabels(m, n)\n",
    "X_train, X_val, y_train, y_val = train_test_split(X, y, test_size=0.2, random_state=2)  # 80% training and 20% test\n",
    "\n",
    "alpha = 10    # Define value of the regularization parameter 'alpha'\n",
    "\n",
    "ridge = Ridge(alpha=alpha, fit_intercept=True)    # Create Ridge regression model\n",
    "ridge.fit(X_train, y_train)    # Fit the Ridge regression model on the training set\n",
    "y_pred = ridge.predict(X_train)    # Predict the labels of the training set\n",
    "w_opt = ridge.coef_    # Get the optimal weights (regression coefficients) of the fitted model\n",
    "err_train = mean_squared_error(y_pred, y_train)    # Calculate the training error\n",
    "\n",
    "# Print optimal weights and training error\n",
    "print('Optimal weights: \\n', w_opt)\n",
    "print('Training error: \\n', err_train)"
   ]
  },
  {
   "cell_type": "markdown",
   "metadata": {
    "deletable": false,
    "editable": false,
    "nbgrader": {
     "cell_type": "markdown",
     "checksum": "bf91cef60bb267a3866e0b960b0e2dbc",
     "grade": false,
     "grade_id": "cell-f0f6530942348129",
     "locked": true,
     "schema_version": 3,
     "solution": false,
     "task": false
    }
   },
   "source": [
    "**The Lasso** is another regularized regression method, which regularizes the training error of linear predictors $h(\\mathbf{x}) = \\mathbf{w}^{T} \\mathbf{x}$ with the complexity measure $\\mathcal{R}(h)= \\|\\mathbf{w}\\|_{1}$. In Lasso regression, it is customary to use a regularized loss function where the training error term is multiplied by $1/2$. That is,\n",
    "\n",
    "\\begin{equation}\n",
    "\\mathcal{E}(\\textbf{w}) = \\frac{1}{2m_t} \\sum_{\\big(\\mathbf{x}^{(i)},y^{(i)}\\big) \\in \\mathbb{X}^{(t)}} \\big(y^{(i)} - h(\\mathbf{x}^{(i)}) \\big)^{2} + \\alpha |\\textbf{w}|.\n",
    "\\end{equation}\n",
    "\n",
    "Since $\\alpha$ can be freely chosen, the multiplicative constant is of no practical importance and is only included in order to make analytical calculations more convenient. Still, the exact form of the loss function is important knowledge since this loss function is typically used in Lasso implementations, incuding the one in scikit-learn."
   ]
  },
  {
   "cell_type": "markdown",
   "metadata": {
    "deletable": false,
    "editable": false,
    "nbgrader": {
     "cell_type": "markdown",
     "checksum": "378008759d9d61326acede4d391e268d",
     "grade": false,
     "grade_id": "cell-b63b8bd46646688d",
     "locked": true,
     "schema_version": 3,
     "solution": false,
     "task": false
    }
   },
   "source": [
    "<a id='lassoReg'></a>\n",
    "<div class=\" alert alert-warning\">\n",
    "<b>Student Task.</b> Lasso Regression.\n",
    "\n",
    "Complete the function `fit_lasso` that uses the Scikit-learn function `Lasso.fit()` to compute the optimal predictor for $\\alpha=$ `alpha_val`. When initializing Lasso, please use `fit_intercept=True`. This function is then used find the optimal Lasso predictor for $\\alpha = 10$.\n",
    "\n",
    "[Documentation for Lasso in Scikit-learn](https://scikit-learn.org/stable/modules/generated/sklearn.linear_model.Lasso.html)\n",
    "\n",
    "</div>"
   ]
  },
  {
   "cell_type": "code",
   "execution_count": 18,
   "metadata": {
    "deletable": false,
    "nbgrader": {
     "cell_type": "code",
     "checksum": "2e16895b4a609c7e3c274e2a3a28c31f",
     "grade": false,
     "grade_id": "cell-b6cd24ae92c6b545",
     "locked": false,
     "schema_version": 3,
     "solution": true,
     "task": false
    }
   },
   "outputs": [],
   "source": [
    "from sklearn.linear_model import Lasso\n",
    "\n",
    "X,y = GetFeaturesLabels(m,n)    # read in m data points using n features \n",
    "X_train, X_val, y_train, y_val = train_test_split(X, y, test_size=0.2, random_state=2)    # 80% training and 20% test\n",
    "alpha = 10\n",
    "def fit_lasso(X_train, y_train, alpha_val):\n",
    "    ### STUDENT TASK ###\n",
    "    lasso = Lasso(alpha=alpha, fit_intercept=True)\n",
    "    lasso.fit(X_train, y_train)\n",
    "    y_pred = lasso.predict(X_train)\n",
    "    w_opt = lasso.coef_\n",
    "    training_error = mean_squared_error(y_pred, y_train)\n",
    "    # YOUR CODE HERE\n",
    "    return w_opt, training_error"
   ]
  },
  {
   "cell_type": "code",
   "execution_count": 19,
   "metadata": {
    "deletable": false,
    "editable": false,
    "nbgrader": {
     "cell_type": "code",
     "checksum": "28907e52675b27f5ef57e63857189df8",
     "grade": true,
     "grade_id": "cell-44c7f2c09ba11e52",
     "locked": true,
     "points": 3,
     "schema_version": 3,
     "solution": false,
     "task": false
    }
   },
   "outputs": [
    {
     "name": "stdout",
     "output_type": "stream",
     "text": [
      "Optimal weights: \n",
      " [ 0.54299987  0.06554632  0.         -0.         -0.          0.\n",
      " -0.         -0.          0.          0.        ]\n",
      "Training error: \n",
      " 799.3443005589301\n",
      "Sanity check tests passed!\n"
     ]
    }
   ],
   "source": [
    "# Set alpha value\n",
    "alpha_val = 10\n",
    "\n",
    "# Fit Lasso and calculate optimal weights and training error using the function 'fit_lasso'\n",
    "w_opt, training_error = fit_lasso(X_train, y_train, alpha_val)\n",
    "\n",
    "# Print optimal weights and the corresponding training error\n",
    "print('Optimal weights: \\n', w_opt)\n",
    "print('Training error: \\n', training_error)\n",
    "\n",
    "# Perform some sanity checks on the outputs\n",
    "from sklearn.linear_model import Lasso\n",
    "assert w_opt.reshape(-1,1).shape == (10,1), \"'w_opt' has wrong shape\"\n",
    "assert np.isscalar(training_error), \"'training_error' is not scalar\"\n",
    "assert training_error < 1000, \"'training_error' is too large\"\n",
    "print('Sanity check tests passed!')\n"
   ]
  },
  {
   "cell_type": "markdown",
   "metadata": {
    "deletable": false,
    "editable": false,
    "nbgrader": {
     "cell_type": "markdown",
     "checksum": "f9ab2d112f80e6c54503744bfb8a1eb8",
     "grade": false,
     "grade_id": "cell-1355f27ba4fd6ca5",
     "locked": true,
     "schema_version": 3,
     "solution": false,
     "task": false
    }
   },
   "source": [
    "When using Lasso or ridge regression, we need to find a suitable value for the regularization parameter $\\alpha$. A simple but useful approach is **grid search**: We first specify a list of values to be used for the regularization parameter. For each value $\\alpha$, we determine a predictor $h^{(\\alpha)}$ by minimizing the regularized training error: \n",
    "\\begin{equation}\n",
    "h^{(\\alpha)}  = {\\rm argmin}_{h \\in \\mathcal{H}} (1/m_{t}) \\sum_{\\big(\\mathbf{x}^{(i)},y^{(i)}\\big) \\in \\mathbb{X}^{(t)}} \\big(y^{(i)} - h(\\mathbf{x}^{(i)}) \\big)^{2} + \\alpha \\mathcal{R}(h).    \n",
    "\\end{equation}\n",
    "The resulting training error is \n",
    "\\begin{equation} \n",
    "E_{\\rm train}(\\alpha) = (1/m_{t}) \\sum_{\\big(\\mathbf{x}^{(i)},y^{(i)}\\big) \\in \\mathbb{X}^{(t)}} \\big(y^{(i)} - h^{(\\alpha)}(\\mathbf{x}^{(i)}) \\big)^{2}. \n",
    "\\end{equation}\n",
    "Note that the training error $E_{\\rm train}(\\alpha)$ is measured on the training data $\\mathbb{X}^{t}$ which was also used to tune the predictor $h^{(\\alpha)}$ (in the above opimtization problem). Therefore, $E_{\\rm train}(\\alpha)$ is too optimistic as a measure for the average error of $h^{(\\alpha)}$ on new data points. Instead, we will measure the quality of $h^{(\\alpha)}$ via the validation error  \n",
    "\\begin{equation} \n",
    "E_{\\rm val}(\\alpha) = (1/m_{v}) \\sum_{\\big(\\mathbf{x}^{(i)},y^{(i)}\\big) \\in \\mathbb{X}^{(v)}} \\big(y^{(i)} - h^{(\\alpha)}(\\mathbf{x}^{(i)}) \\big)^{2} \n",
    "\\end{equation}\n",
    "incurred by the predictor $h^{(\\alpha)}$ on the validation set $\\mathbb{X}^{(v)}$. We then choose the value $\\alpha$ resulting in the smallest validation error $E_{\\rm val}(\\alpha)$. This grid search can be computationally expensive since we have to solve a separate optimization problem (of minimizing the regularized training error) for each value of $\\alpha$. "
   ]
  },
  {
   "cell_type": "markdown",
   "metadata": {
    "deletable": false,
    "editable": false,
    "nbgrader": {
     "cell_type": "markdown",
     "checksum": "2b22b14fdabf37e4d488efa1547e1c03",
     "grade": false,
     "grade_id": "cell-8e4d019532f4bff3",
     "locked": true,
     "schema_version": 3,
     "solution": false,
     "task": false
    }
   },
   "source": [
    "<a id='lassoParameter'></a>\n",
    "<div class=\" alert alert-warning\">\n",
    "<b>Student Task.</b> Tuning Lasso Parameter.\n",
    "    \n",
    "Complete the function `lasso_param_search` that computes the Lasso estimator $h^{(\\alpha)}$ for each value $\\alpha$ in the input parameter `alpha_values`. The function returns the resulting validation errors $E_{\\rm val}(\\alpha^{(i)})$ and training errors $E_{\\rm train}(\\alpha^{(i)})$ in the numpy arrays `err_val` of shape (`n_values`,1) and `err_train` of shape (`n_values`,1), as well as the weight vector of the optimal model with the optimal alpha $\\hat{\\alpha}$ (yielding the smallest validation error) in the variable `w_opt`. In the error arrays, the first entry `err_val[0]` should be $E_{\\rm val}(\\alpha^{(1)})$, and so on. \n",
    "\n",
    "[scikit-learn function for Lasso](https://scikit-learn.org/stable/modules/generated/sklearn.linear_model.Lasso.html) \n",
    "\n",
    "\n",
    "<p><b>Hint:</b> Please ignore `ConvergenceWarning`.</p>\n",
    "\n",
    "</div>"
   ]
  },
  {
   "cell_type": "code",
   "execution_count": 20,
   "metadata": {
    "deletable": false,
    "nbgrader": {
     "cell_type": "code",
     "checksum": "68ff8235ffe0abd1fccf5ab36cc2dd0b",
     "grade": false,
     "grade_id": "cell-ef618671a3220a4f",
     "locked": false,
     "schema_version": 3,
     "solution": true,
     "task": false
    }
   },
   "outputs": [],
   "source": [
    "def lasso_param_search(X_train, X_val, y_train, y_val, alpha_values):\n",
    "    n_values = len(alpha_values)    # The number of candidate values for 'alpha'\n",
    "    err_train = np.zeros([n_values,1])    # Array for training errors\n",
    "    err_val = np.zeros([n_values,1])    # Array for validation errors\n",
    "    \n",
    "    ### STUDENT TASK ###\n",
    "    # Pseudocode:\n",
    "    # -For each alpha in alpha_values:\n",
    "    #   -fit a lasso model on the training data\n",
    "    #   -calculate and store training and validation errors\n",
    "    # -Find the best alpha (i.e. the one with the lowest validation error)\n",
    "    # -Calculate/retrieve the optimal weights (coefficients) corresponding to this alpha\n",
    "    # YOUR CODE HERE\n",
    "    for i, alpha in enumerate(alpha_values):\n",
    "        lasso = Lasso(alpha=alpha, fit_intercept=True)\n",
    "        lasso.fit(X_train, y_train)\n",
    "        pred = lasso.predict(X_train)\n",
    "        vald = lasso.predict(X_val)\n",
    "        w_opt = lasso.coef_\n",
    "        training_error = mean_squared_error(pred, y_train)\n",
    "        validation_error = mean_squared_error(vald, y_val)\n",
    "        err_train[i] = training_error\n",
    "        err_val[i] = validation_error\n",
    "    print(err_val)\n",
    "    print(np.amin(err_val))\n",
    "    index = np.where(err_val == np.amin(err_val))[0][0]\n",
    "    print(index)\n",
    "    lasso = Lasso(alpha=alpha_values[index], fit_intercept=True)\n",
    "    lasso.fit(X_train, y_train)\n",
    "    pred = lasso.predict(X_train)\n",
    "    vald = lasso.predict(X_val)\n",
    "    w_opt = lasso.coef_\n",
    "    print(w_opt)\n",
    "    return w_opt, err_train, err_val"
   ]
  },
  {
   "cell_type": "code",
   "execution_count": 21,
   "metadata": {
    "deletable": false,
    "editable": false,
    "nbgrader": {
     "cell_type": "code",
     "checksum": "9f6418b73569eb722333b36adcffa854",
     "grade": true,
     "grade_id": "cell-b3b01a65b2b8c214",
     "locked": true,
     "points": 3,
     "schema_version": 3,
     "solution": false,
     "task": false
    }
   },
   "outputs": [
    {
     "name": "stdout",
     "output_type": "stream",
     "text": [
      "[[6386.70620479]\n",
      " [6017.81687166]\n",
      " [4738.22292567]\n",
      " [1699.54089349]\n",
      " [ 384.67071278]\n",
      " [1016.68101105]\n",
      " [1017.84590848]\n",
      " [1571.16015625]]\n",
      "384.67071278015374\n",
      "4\n",
      "[ 0.47060142 11.7285493   0.01248464 -0.         -0.          4.37530806\n",
      " -0.          0.          2.82539544  9.76465101]\n",
      "Sanity check tests passed!\n"
     ]
    }
   ],
   "source": [
    "# Specify a list of values for alpha to be considered\n",
    "alpha_values = np.array([0.01, 0.05, 0.2, 1, 3, 10, 1e2, 1e3])\n",
    "\n",
    "# Calculate the optimal weights, and training and validation errors for the alpha values defined above using lasso_param_search\n",
    "w_opt, err_train, err_val = lasso_param_search(X_train, X_val, y_train, y_val, alpha_values)\n",
    "\n",
    "# Perform some sanity checks on the outputs\n",
    "assert w_opt.reshape(-1,1).shape == (10,1), \"'w_opts' has wrong shape\"\n",
    "assert len(err_train) == 8, \"'err_train' has wrong shape\"\n",
    "assert len(err_val) == 8, \"'err_val' has wrong shape\"\n",
    "print('Sanity check tests passed!')\n",
    "\n"
   ]
  },
  {
   "cell_type": "code",
   "execution_count": 22,
   "metadata": {
    "deletable": false,
    "editable": false,
    "nbgrader": {
     "cell_type": "code",
     "checksum": "6d8ea5ab252c2c2baadff1464f116cff",
     "grade": false,
     "grade_id": "cell-535f1b0a4667461c",
     "locked": true,
     "schema_version": 3,
     "solution": false,
     "task": false
    }
   },
   "outputs": [
    {
     "data": {
      "image/png": "[encoded data removed]",
      "text/plain": [
       "<Figure size 720x432 with 1 Axes>"
      ]
     },
     "metadata": {
      "needs_background": "light"
     },
     "output_type": "display_data"
    }
   ],
   "source": [
    "# Plot the training and validation errors\n",
    "plt.figure(figsize=(10,6))    # Set figure size\n",
    "plt.plot(alpha_values, err_train, marker='o', color='black', label='training error')    # Plot training errors\n",
    "plt.plot(alpha_values, err_val, marker='o', color='red', label='validation error')    # Plot validation errors\n",
    "plt.xscale('log')    # Set x-axis to logarithmic scale\n",
    "plt.xlabel(r'$\\alpha$')    # Set label of x-axis\n",
    "plt.ylabel(r'$E(\\alpha)$')    # Set label of y-axis\n",
    "plt.title(r'Errors with respect to $\\alpha$', fontsize=16)    # Set title\n",
    "plt.legend()    # Show legend\n",
    "plt.show()"
   ]
  },
  {
   "cell_type": "markdown",
   "metadata": {
    "deletable": false,
    "editable": false,
    "nbgrader": {
     "cell_type": "markdown",
     "checksum": "5e28156b082848665ce85b3c1cf1027a",
     "grade": false,
     "grade_id": "cell-25e8202490edf5af",
     "locked": true,
     "schema_version": 3,
     "solution": false,
     "task": false
    }
   },
   "source": [
    "## Take Home Quiz\n",
    "\n",
    "Answer the following questions by setting, for each question, the variable `answer_R4_Q??` to the index of the correct answer. E.g. if you think that the second answer in the first quiz question is the right one, then set `answer_R4_Q1=2`. "
   ]
  },
  {
   "cell_type": "markdown",
   "metadata": {
    "deletable": false,
    "editable": false,
    "nbgrader": {
     "cell_type": "markdown",
     "checksum": "4b201ec0c4030b83ce8feeb89b5e4773",
     "grade": false,
     "grade_id": "cell-30fe04a19dab009c",
     "locked": true,
     "schema_version": 3,
     "solution": false,
     "task": false
    }
   },
   "source": [
    "<a id='QuestionR4_1'></a>\n",
    "<div class=\" alert alert-warning\">\n",
    "<p><b>Student Task.</b> Question R4.1. </p>\n",
    "\n",
    "<p>What is the goal of model selection in machine learning?</p>\n",
    "\n",
    "<ol>\n",
    "  <li> To choose (learn) the optimal predictor function $h_{\\rm opt}$ out of a given hypothesis space (model) $\\mathcal{H}$.</li>\n",
    "  <li> To select the most suitable car model using machine learning methods.</li>\n",
    "  <li> To select the optimal weights used for regularization.</li>\n",
    "  <li> To select the best hypothesis space out of a set of candidates $\\lbrace \\mathcal{H}^{(1)}, \\mathcal{H}^{(2)}, \\ldots,\\mathcal{H}^{(n)} \\rbrace$.</li>\n",
    "</ol> \n",
    "\n",
    "</div>"
   ]
  },
  {
   "cell_type": "code",
   "execution_count": 23,
   "metadata": {
    "deletable": false,
    "nbgrader": {
     "cell_type": "code",
     "checksum": "85a2d03581c9e80d6f103a56b137e7d3",
     "grade": false,
     "grade_id": "cell-01dd62184f9f57d9",
     "locked": false,
     "schema_version": 3,
     "solution": true,
     "task": false
    }
   },
   "outputs": [],
   "source": [
    "answer_R4_Q1  = 1\n",
    "# YOUR CODE HERE\n",
    "#raise NotImplementedError()"
   ]
  },
  {
   "cell_type": "code",
   "execution_count": 107,
   "metadata": {
    "deletable": false,
    "editable": false,
    "nbgrader": {
     "cell_type": "code",
     "checksum": "03f83e12c8ac3efccb733e4d69228ea9",
     "grade": true,
     "grade_id": "cell-b0c15dcdd6f57af7",
     "locked": true,
     "points": 1,
     "schema_version": 3,
     "solution": false
    }
   },
   "outputs": [
    {
     "name": "stdout",
     "output_type": "stream",
     "text": [
      "Sanity check tests passed!\n"
     ]
    }
   ],
   "source": [
    "# this cell is for tests\n",
    "assert answer_R4_Q1 in [1,2,3,4], '\"answer_R4_Q1\" Value should be an integer between 1 and 4.'\n",
    "print('Sanity check tests passed!')\n"
   ]
  },
  {
   "cell_type": "markdown",
   "metadata": {
    "deletable": false,
    "editable": false,
    "nbgrader": {
     "cell_type": "markdown",
     "checksum": "873752d871b907e20f3e445bba9e81db",
     "grade": false,
     "grade_id": "cell-2d849c30b77c3a9d",
     "locked": true,
     "schema_version": 3,
     "solution": false,
     "task": false
    }
   },
   "source": [
    "<a id='QuestionR4_2'></a>\n",
    "<div class=\" alert alert-warning\">\n",
    "<p><b>Student Task.</b> Question R4.2. </p>\n",
    "\n",
    "<p>What is a good measure for the prediction error (loss) incurred by a predictor function $h(\\mathbf{x})$ on new data points?</p>\n",
    "<ol>\n",
    "  <li> The empirical error (average loss) of $h(\\mathbf{x})$ on the <b>training set</b> which is also used to tune $h(\\mathbf{x})$. </li>\n",
    "  <li> The empirical error (average loss) of $h(\\mathbf{x})$ on some <b>validation set</b> which is different from the training set. \n",
    "</ol> \n",
    "\n",
    "</div>"
   ]
  },
  {
   "cell_type": "code",
   "execution_count": 108,
   "metadata": {
    "deletable": false,
    "nbgrader": {
     "cell_type": "code",
     "checksum": "1692238b3fabbad6a8bcf5a745905c4b",
     "grade": false,
     "grade_id": "cell-786b53bfbed054d1",
     "locked": false,
     "schema_version": 3,
     "solution": true,
     "task": false
    }
   },
   "outputs": [],
   "source": [
    "answer_R4_Q2  = 2\n",
    "# YOUR CODE HERE\n",
    "#raise NotImplementedError()"
   ]
  },
  {
   "cell_type": "code",
   "execution_count": 109,
   "metadata": {
    "deletable": false,
    "editable": false,
    "nbgrader": {
     "cell_type": "code",
     "checksum": "b74b7d8d11e904404f430a515ae75fa0",
     "grade": true,
     "grade_id": "cell-fcd79fc73255e27d",
     "locked": true,
     "points": 1,
     "schema_version": 3,
     "solution": false
    }
   },
   "outputs": [
    {
     "name": "stdout",
     "output_type": "stream",
     "text": [
      "Sanity check tests passed!\n"
     ]
    }
   ],
   "source": [
    "# this cell is for tests\n",
    "assert answer_R4_Q2 in [1,2], '\"answer_R4_Q2\" Value should be an integer between 1 and 2.'\n",
    "print('Sanity check tests passed!')\n"
   ]
  },
  {
   "cell_type": "markdown",
   "metadata": {
    "deletable": false,
    "editable": false,
    "nbgrader": {
     "cell_type": "markdown",
     "checksum": "171d8404ed8e7143c95222dbb5fb5752",
     "grade": false,
     "grade_id": "cell-e89debc2a73facf2",
     "locked": true,
     "schema_version": 3,
     "solution": false,
     "task": false
    }
   },
   "source": [
    "<a id='QuestionR4_3'></a>\n",
    "<div class=\" alert alert-warning\">\n",
    "<p><b>Student Task.</b> Question R4.3. </p>\n",
    "\n",
    "Regularized linear regression amounts to finding the predictor $h(\\mathbf{x})$ which minimizes the regularized training error \n",
    "\\begin{equation} \n",
    "(1/m_{t}) \\sum_{\\big(\\mathbf{x}^{(i)},y^{(i)}\\big) \\in \\mathbb{X}^{(t)}} \\big(y^{(i)} - h(\\mathbf{x}^{(i)}) \\big)^{2} + \\alpha \\mathcal{R}(h).\n",
    "\\end{equation}\n",
    "Which statement is true?\n",
    "\n",
    "<ol>\n",
    "  <li> Using a large value for the regularization parameter $\\alpha$ prefers predictors with large complexity $\\mathcal{R}(h)$ but small training error.</li>\n",
    "  <li>  Using a small value for the regularization parameter $\\alpha$ prefers predictors with large complexity $\\mathcal{R}(h)$ but small training error.</li>\n",
    "  <li> For regularization parameter $\\alpha=0$, the optimal predictor is always $h(\\mathbf{x}) =0$. </li>\n",
    "  <li> For regularization parameter $\\alpha=0$, the optimal predictor is always $h(\\mathbf{x}) =42$.</li>\n",
    "</ol> \n",
    "\n",
    "</div>"
   ]
  },
  {
   "cell_type": "code",
   "execution_count": 110,
   "metadata": {
    "deletable": false,
    "nbgrader": {
     "cell_type": "code",
     "checksum": "5c0d6926a549d0c05836505477624fbd",
     "grade": false,
     "grade_id": "cell-8a7f812f9a71b8f3",
     "locked": false,
     "schema_version": 3,
     "solution": true,
     "task": false
    }
   },
   "outputs": [],
   "source": [
    "answer_R4_Q3  = 2\n",
    "# YOUR CODE HERE\n",
    "#raise NotImplementedError()"
   ]
  },
  {
   "cell_type": "code",
   "execution_count": 111,
   "metadata": {
    "deletable": false,
    "editable": false,
    "nbgrader": {
     "cell_type": "code",
     "checksum": "630e26a571fe4dd9091ee325b6188054",
     "grade": true,
     "grade_id": "cell-530e6746dd4af06c",
     "locked": true,
     "points": 1,
     "schema_version": 3,
     "solution": false
    }
   },
   "outputs": [
    {
     "name": "stdout",
     "output_type": "stream",
     "text": [
      "Sanity check tests passed!\n"
     ]
    }
   ],
   "source": [
    "# this cell is for tests\n",
    "assert answer_R4_Q3 in [1,2,3,4], '\"answer_R4_Q3\" Value should be an integer between 1 and 4.'\n",
    "print('Sanity check tests passed!')\n"
   ]
  },
  {
   "cell_type": "markdown",
   "metadata": {
    "deletable": false,
    "editable": false,
    "nbgrader": {
     "cell_type": "markdown",
     "checksum": "fe15890d4c5b1a52ed9e8825a9b2433f",
     "grade": false,
     "grade_id": "cell-2bd3fa9a8a8b2da9",
     "locked": true,
     "schema_version": 3,
     "solution": false,
     "task": false
    }
   },
   "source": [
    "<a id='QuestionR4_4'></a>\n",
    "<div class=\" alert alert-warning\">\n",
    "<p><b>Student Task.</b> Question R4.4. </p>\n",
    "\n",
    "Use the previously implemented code in \"Tuning Lasso Parameter\" to find the optimal predictor (lowest validation error) for $\\alpha=$ `alpha_val`. Using the same dataset.\n",
    "When initializing Lasso, please use `fit_intercept=True`. \n",
    "<p>Which alpha should be chosen to achieve an optimal predictor?</p> \n",
    "<p>Possible alpha values are given in the code cell below.</p>\n",
    "</div>"
   ]
  },
  {
   "cell_type": "code",
   "execution_count": 116,
   "metadata": {
    "deletable": false,
    "nbgrader": {
     "cell_type": "code",
     "checksum": "50e9f2b4ed75e58efc357f5b464e51ec",
     "grade": false,
     "grade_id": "cell-11392734fc803cfe",
     "locked": false,
     "schema_version": 3,
     "solution": true,
     "task": false
    }
   },
   "outputs": [],
   "source": [
    "alpha_values = np.array([0.01, 0.05, 0.2, 1, 3, 10, 1e2, 1e3])\n",
    "\n",
    "answer_R4_Q4  = 3\n",
    "# YOUR CODE HERE\n",
    "#raise NotImplementedError()"
   ]
  },
  {
   "cell_type": "code",
   "execution_count": 117,
   "metadata": {
    "deletable": false,
    "editable": false,
    "nbgrader": {
     "cell_type": "code",
     "checksum": "56b6d159e0d107274e4d78f86586373e",
     "grade": true,
     "grade_id": "cell-d7f48b684296863d",
     "locked": true,
     "points": 1,
     "schema_version": 3,
     "solution": false,
     "task": false
    }
   },
   "outputs": [
    {
     "name": "stdout",
     "output_type": "stream",
     "text": [
      "Sanity check tests passed!\n"
     ]
    }
   ],
   "source": [
    "# this cell is for tests\n",
    "assert answer_R4_Q4 in [0.01, 0.05, 0.2, 1, 3, 10, 1e2, 1e3], 'answer_R4_Q3\" Value should be a value out of given alpha values..'\n",
    "print('Sanity check tests passed!')\n"
   ]
  },
  {
   "cell_type": "code",
   "execution_count": null,
   "metadata": {},
   "outputs": [],
   "source": []
  }
 ],
 "metadata": {
  "kernelspec": {
   "display_name": "Python 3",
   "language": "python",
   "name": "python3"
  },
  "language_info": {
   "codemirror_mode": {
    "name": "ipython",
    "version": 3
   },
   "file_extension": ".py",
   "mimetype": "text/x-python",
   "name": "python",
   "nbconvert_exporter": "python",
   "pygments_lexer": "ipython3",
   "version": "3.7.3"
  },
  "varInspector": {
   "cols": {
    "lenName": 16,
    "lenType": 16,
    "lenVar": 40
   },
   "kernels_config": {
    "python": {
     "delete_cmd_postfix": "",
     "delete_cmd_prefix": "del ",
     "library": "var_list.py",
     "varRefreshCmd": "print(var_dic_list())"
    },
    "r": {
     "delete_cmd_postfix": ") ",
     "delete_cmd_prefix": "rm(",
     "library": "var_list.r",
     "varRefreshCmd": "cat(var_dic_list()) "
    }
   },
   "types_to_exclude": [
    "module",
    "function",
    "builtin_function_or_method",
    "instance",
    "_Feature"
   ],
   "window_display": false
  }
 },
 "nbformat": 4,
 "nbformat_minor": 2
}
