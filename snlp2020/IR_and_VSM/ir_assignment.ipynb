{
 "cells": [
  {
   "cell_type": "markdown",
   "metadata": {
    "deletable": false,
    "editable": false,
    "nbgrader": {
     "cell_type": "markdown",
     "checksum": "515e4f193e7b676f33d0a5bdae1f1382",
     "grade": false,
     "grade_id": "cell-8570cfd12f5ca3ba",
     "locked": true,
     "schema_version": 3,
     "solution": false,
     "task": false
    }
   },
   "source": [
    "ELEC-E5550 - Statistical Natural Language Processing\n",
    "# SET 3: Vector spaces and Information retrieval\n",
    "\n",
    "# Released: 06.02.2020\n",
    "# Deadline: 12.02.2020 at noon"
   ]
  },
  {
   "cell_type": "code",
   "execution_count": 13,
   "metadata": {},
   "outputs": [],
   "source": [
    "# deadline is Feb 19th at noon"
   ]
  },
  {
   "cell_type": "markdown",
   "metadata": {
    "deletable": false,
    "editable": false,
    "nbgrader": {
     "cell_type": "markdown",
     "checksum": "8ac3c7954e870f20fce40131a1f39a99",
     "grade": false,
     "grade_id": "cell-d8ae628155888deb",
     "locked": true,
     "schema_version": 3,
     "solution": false,
     "task": false
    }
   },
   "source": [
    "After completing this assignment, you will understand how to construct different document vector spaces, how to find similar documents, and how to evaluate the results of information retrieval systems.\n",
    "\n",
    "KEYWORDS:\n",
    "* text normalization\n",
    "* vector space models\n",
    "* count-based methods\n",
    "* sparse vectors\n",
    "* dense vectors\n",
    "* PPMI\n",
    "* tf-idf\n",
    "* truncated SVD\n",
    "* cosine similarity\n",
    "* IR quality"
   ]
  },
  {
   "cell_type": "markdown",
   "metadata": {
    "deletable": false,
    "editable": false,
    "nbgrader": {
     "cell_type": "markdown",
     "checksum": "6a2c70b1c06ae8894243afc41d9ee4ff",
     "grade": false,
     "grade_id": "cell-9078ebc62dafe7a8",
     "locked": true,
     "schema_version": 3,
     "solution": false,
     "task": false
    }
   },
   "source": [
    "### Data\n",
    "We're going to use song lyrics.\n",
    "\n",
    "For training:\n",
    "\n",
    "* Pulp: Common people\n",
    "* Pulp: His'n'Hers\n",
    "* Kanye West: Ye\n",
    "* Kanye West: 808s & Heartbreak\n",
    "\n",
    "For testing:\n",
    "\n",
    "* Pulp: This Is Hardcore\n",
    "* Kanye West: My Beautiful Dark Twisted Fantasy"
   ]
  },
  {
   "cell_type": "markdown",
   "metadata": {
    "deletable": false,
    "editable": false,
    "nbgrader": {
     "cell_type": "markdown",
     "checksum": "bf07d047100afe48fa16341248ddd3b8",
     "grade": false,
     "grade_id": "cell-7bab56e76cc38204",
     "locked": true,
     "schema_version": 3,
     "solution": false,
     "task": false
    }
   },
   "source": [
    "In this assignment, we're going to represent documents as points in some high-dimensional vector space. We will try to model their semantics so that similar documents would be close in that space. We're going to work with the song lyrics of two artists. Hopefully, your models will be able to tell the artists apart.\n",
    "\n",
    "A document will be represented as a vector of values related to word frequencies in this document. The simple intuition behind the method is that word frequencies in a document capture what a corresponding document is about, its meaning. This approach is count-based. Vector spaces are typically constructed from some kind of co-occurrence matrix. We will be using a term-document matrix in this assignment.\n",
    "\n",
    "In general, the creation of count-based vector models consists of three steps:\n",
    "1. Linguistic processing of text.\n",
    "2. Frequency matrix building.\n",
    "3. Mathematical processing of the matrix elements."
   ]
  },
  {
   "cell_type": "code",
   "execution_count": 3,
   "metadata": {},
   "outputs": [],
   "source": [
    "# TF = term frequency\n",
    "# IDF = inverse document frequency\n",
    "# PPMI = "
   ]
  },
  {
   "cell_type": "markdown",
   "metadata": {
    "deletable": false,
    "editable": false,
    "nbgrader": {
     "cell_type": "markdown",
     "checksum": "5fe6404e47e246214cf1279e11e0abf4",
     "grade": false,
     "grade_id": "cell-5044486f6a1cd371",
     "locked": true,
     "schema_version": 3,
     "solution": false,
     "task": false
    }
   },
   "source": [
    "## TASK 1\n",
    "## Prepare the text \n",
    "### Tokenize and normalize\n",
    "## 1.1\n",
    "\n",
    "As you already know, we always start by preparing the text to fit our needs. The first step of our process will be **tokenization** (as usual). The second step will be **normalization**. Normalization helps to reduce superficially different strings to one spelling. For example, strings that differ in their capitalization: \"Run\" and \"run\", or the strings that differ in their grammatical form: \"cat\" and \"cats\". these different strings of characters often convey essentially identical meanings, so it makes sense to unify them into one string in order to get the full distributional statistic. The most common types of normalization for document representations are **lowercasing** and **stemming**.\n",
    "\n",
    "Stemmers remove morphological affixes from words, leaving only the word stem. For example, words \"jumping\", “jumped”, and “jumper” will be reduced to the stem \"jump\". Stemming is just an approximation of a proper morphological analysis and uses a set of rules of thumb. Stemming works well for languages like English, but might not be optimal for morphologically-rich languages like Finnish.\n",
    "\n",
    "In this assignment, we're going to use Porter’s stemmer. You can look at the algorithm here: https://tartarus.org/martin/PorterStemmer/def.txt\n",
    "\n",
    "Create a function in a cell below. It should take the name of the text document, read it, tokenize it, and then stem and lowercase the tokens."
   ]
  },
  {
   "cell_type": "code",
   "execution_count": 4,
   "metadata": {
    "deletable": false,
    "nbgrader": {
     "cell_type": "code",
     "checksum": "c940ef4fe4cfb6d8885362d35df84277",
     "grade": false,
     "grade_id": "cell-028c78a8e5a12c2f",
     "locked": false,
     "schema_version": 3,
     "solution": true,
     "task": false
    }
   },
   "outputs": [
    {
     "name": "stderr",
     "output_type": "stream",
     "text": [
      "[nltk_data] Downloading package punkt to /home/taifouz1/nltk_data...\n",
      "[nltk_data]   Unzipping tokenizers/punkt.zip.\n"
     ]
    }
   ],
   "source": [
    "import nltk\n",
    "nltk.download('punkt')\n",
    "from nltk import word_tokenize, PorterStemmer\n",
    "\n",
    "\n",
    "def tokenize_and_normalize(file_name):\n",
    "    \"\"\"\n",
    "    this function takes in a path to a song, reads the song file,\n",
    "    tokenizes it into words, then stems and lowercases these words.\n",
    "    \n",
    "    INPUT:\n",
    "    file_name - a path to a file as a string\n",
    "    OUTPUT:\n",
    "    normalized_song - a song represented as a list of stems.\n",
    "    \"\"\"\n",
    "    \n",
    "    ps = PorterStemmer()\n",
    "    \n",
    "    # YOUR CODE HERE\n",
    "    # import file\n",
    "    tokens = []\n",
    "    stems = []\n",
    "    text = open(file_name).read()\n",
    "    tokens = word_tokenize(text)\n",
    "    \n",
    "    for word in tokens:\n",
    "        stems.append(ps.stem(word))\n",
    "        \n",
    "    normalized_song = [word.lower() for word in stems]\n",
    "            \n",
    "    return normalized_song"
   ]
  },
  {
   "cell_type": "code",
   "execution_count": 5,
   "metadata": {
    "deletable": false,
    "editable": false,
    "nbgrader": {
     "cell_type": "code",
     "checksum": "560b6153dd279ce0757843a36fc98dae",
     "grade": true,
     "grade_id": "cell-ccd00641165e99e2",
     "locked": true,
     "points": 1,
     "schema_version": 3,
     "solution": false,
     "task": false
    },
    "scrolled": false
   },
   "outputs": [],
   "source": [
    "from numpy.testing import assert_array_equal\n",
    "from nose.tools import assert_equal\n",
    "\n",
    "\n",
    "# CHECKING THE GENERAL PROPERTIES OF THE OUTPUT\n",
    "dummy_song_path = \"/coursedata/dummy_song.txt\"\n",
    "\n",
    "# check that the output of the function is a list\n",
    "assert_equal(type(tokenize_and_normalize(dummy_song_path)), list)\n",
    "# check that it's a list of strings\n",
    "assert_equal(type(tokenize_and_normalize(dummy_song_path)[0]), str)\n",
    "# CHECKING THAT THE FUNCTION IS WORKING AS IT SHOULD\n",
    "correct_normalized_dummy_song = ['thi','is','my', 'awesom','song','.','i','sing','everywher','i','go','.',\n",
    "                                 'lalala',',','lalada',',','dalala',',','yep','yep','!',\n",
    "                                 'ohhhhh','ohhhhhh','yeaaahhhhh']\n",
    "assert_equal(tokenize_and_normalize(dummy_song_path), correct_normalized_dummy_song)\n",
    "\n"
   ]
  },
  {
   "cell_type": "markdown",
   "metadata": {
    "deletable": false,
    "editable": false,
    "nbgrader": {
     "cell_type": "markdown",
     "checksum": "696ab0bc2448f0a548d4c38308dde68c",
     "grade": false,
     "grade_id": "cell-897cbf1afc516283",
     "locked": true,
     "schema_version": 3,
     "solution": false,
     "task": false
    }
   },
   "source": [
    "### Now we can prepare our songs. "
   ]
  },
  {
   "cell_type": "code",
   "execution_count": 6,
   "metadata": {
    "deletable": false,
    "editable": false,
    "nbgrader": {
     "cell_type": "code",
     "checksum": "97e8c886c581e1cf3f0779d7c920ce0a",
     "grade": false,
     "grade_id": "cell-b9f62e9dad2dabd3",
     "locked": true,
     "schema_version": 3,
     "solution": false,
     "task": false
    }
   },
   "outputs": [],
   "source": [
    "import glob\n",
    "\n",
    "# collect the paths to albums and songs\n",
    "# the order of the albums are: different_class, his_n_hers, 808s_and_heartbreak, ye\n",
    "train_songs = glob.glob('/coursedata/songs_train/*/*')\n",
    "normalized_songs = [tokenize_and_normalize(song) for song in train_songs]"
   ]
  },
  {
   "cell_type": "code",
   "execution_count": 7,
   "metadata": {},
   "outputs": [],
   "source": [
    "#print(normalized_songs)"
   ]
  },
  {
   "cell_type": "markdown",
   "metadata": {
    "deletable": false,
    "editable": false,
    "nbgrader": {
     "cell_type": "markdown",
     "checksum": "cfe04fc04b0ac98801e1f9606dcc8ca7",
     "grade": false,
     "grade_id": "cell-f7c984365f51779c",
     "locked": true,
     "schema_version": 3,
     "solution": false,
     "task": false
    }
   },
   "source": [
    "## TASK 2\n",
    "### create a term-document matrix\n",
    "## 2.1\n",
    "Now that our step one (linguistic processing) is complete, we can go on to compute statistics from documents.\n",
    "\n",
    "We will be using **term-document matrix**. Formally, in a term-document matrix $X$, each column $x_i$ corresponds to a document $D_i$, each row $x_j$ corresponds to a term $T_j$, and an element $x_{ij}$ is the frequency of a term $T_j$ in a document $D_i$.\n",
    "\n",
    "Write a function that takes in the pre-processed documents, and puts their statistics into a term-document matrix."
   ]
  },
  {
   "cell_type": "code",
   "execution_count": 8,
   "metadata": {
    "deletable": false,
    "nbgrader": {
     "cell_type": "code",
     "checksum": "2cff612d4fb67d4664c244b18098bda7",
     "grade": false,
     "grade_id": "cell-50bc668ab6453a56",
     "locked": false,
     "schema_version": 3,
     "solution": true,
     "task": false
    }
   },
   "outputs": [],
   "source": [
    "import numpy as np\n",
    "from collections import Counter\n",
    "\n",
    "def create_term_doc_matrix(songs_normalized):\n",
    "    \"\"\"\n",
    "    this function takes in a list of songs and returns a term-document matrix as a numpy array.\n",
    "    the rows are word stems, the columns are songs. \n",
    "    the rows should be sorted alphabetically.\n",
    "    INPUT:\n",
    "    songs_normalized - a list of songs represented as a list of stems (a list of lists)\n",
    "    OUTPUT:\n",
    "    matrix - a matrix where columns are songs and rows are stems,\n",
    "        the cells of the matrix contain stem frequencies in a song,\n",
    "        the words for rows are sorted alphabetically.\n",
    "        \n",
    "    sorted_vocab - a list of all the words used in all songs (the rows of our matrix).\n",
    "        the words should be strings sorted alphabetically\n",
    "    \"\"\"\n",
    "    \n",
    "    # YOUR CODE HERE\n",
    "    #print(songs_normalized)\n",
    "    sorted_vocab = []\n",
    "\n",
    "    for line in songs_normalized:\n",
    "        for word in line:\n",
    "            if word in sorted_vocab:\n",
    "                continue\n",
    "            else:\n",
    "                sorted_vocab.append(word)\n",
    "      \n",
    "    sorted_vocab = np.sort(sorted_vocab)\n",
    "    #print(\"SORTED VOCAB==========+\")\n",
    "    #print(sorted_vocab)\n",
    "    #print(\" ==== = === = == = == ======\")\n",
    "    matrix = []\n",
    "\n",
    "    for stem in sorted_vocab:\n",
    "        #print(\"=For stem: \", stem)\n",
    "        i = 0\n",
    "        count = 0\n",
    "        tmp = np.zeros(len(songs_normalized))\n",
    "        for song in songs_normalized:\n",
    "            #print(\"===For song: \", song)\n",
    "            for word in song:\n",
    "                if word == stem:\n",
    "                    #print(\"=====YES IT IS IN THE SONG\")\n",
    "                    tmp[i] += 1\n",
    "                else:\n",
    "                    #print(\"=====NO IT ISN'T\")\n",
    "                    continue\n",
    "            i += 1\n",
    "        matrix.append(tmp)\n",
    "        \n",
    "        \n",
    "                \n",
    "            \n",
    "    #print(\"SHAPE OF MATRIX. \", np.shape(matrix), \" AND TYPE = \", type(matrix))\n",
    "    matrix = np.array(matrix)\n",
    "    #print(matrix)\n",
    "    #print(\"SHAPE OF SORTED_VOCAB. \", np.shape(matrix), \" AND TYPE = \", type(matrix))\n",
    "    sorted_vocab = np.array(sorted_vocab)\n",
    "    sorted_vocab = sorted_vocab.tolist()\n",
    "    #print(matrix)\n",
    "    return matrix, sorted_vocab\n",
    "    "
   ]
  },
  {
   "cell_type": "code",
   "execution_count": 9,
   "metadata": {
    "deletable": false,
    "editable": false,
    "nbgrader": {
     "cell_type": "code",
     "checksum": "8db351827efdb7c69cf539a73cc0bb74",
     "grade": true,
     "grade_id": "cell-8c9de22bc0b55f2a",
     "locked": true,
     "points": 2,
     "schema_version": 3,
     "solution": false,
     "task": false
    }
   },
   "outputs": [],
   "source": [
    "from numpy.testing import assert_array_equal\n",
    "from nose.tools import assert_equal\n",
    "\n",
    "\n",
    "dummy_songs = [['la','la','la','oh',',','woo',\"uuuuuh\"],\n",
    "               ['oh', 'la','la','la',\"tarara\",'tadada', 'blaaa', 'blaaa', '!', '!', '!']]\n",
    "\n",
    "# CHECKING THE GENERAL PROPERTIES OF THE OUTPUT\n",
    "# check the shape of the matrix\n",
    "assert_equal(create_term_doc_matrix(dummy_songs)[0].shape, (9, 2))\n",
    "# check that the vocabulary is a list\n",
    "assert_equal(type(create_term_doc_matrix(dummy_songs)[1]), list)\n",
    "# check that the vocabulary is a list of strings\n",
    "assert_equal(type(create_term_doc_matrix(dummy_songs)[1][0]), str)\n",
    "\n",
    "# CHECKING THAT THE FUNCTION IS WORKING AS IT SHOULD\n",
    "# check that the vocabulary is sorted properly\n",
    "assert_equal(create_term_doc_matrix(dummy_songs)[1], ['!', ',', 'blaaa', 'la', 'oh', 'tadada', 'tarara', 'uuuuuh', 'woo'])\n",
    "# check that the matrix has the right values in the right places\n",
    "correct_td_dummy_matrix = np.array([[0., 3.],\n",
    "                                    [1., 0.],\n",
    "                                    [0., 2.],\n",
    "                                    [3., 3.],\n",
    "                                    [1., 1.],\n",
    "                                    [0., 1.],\n",
    "                                    [0., 1.],\n",
    "                                    [1., 0.],\n",
    "                                    [1., 0.]])\n",
    "assert_array_equal(create_term_doc_matrix(dummy_songs)[0],correct_td_dummy_matrix)\n",
    "\n"
   ]
  },
  {
   "cell_type": "markdown",
   "metadata": {
    "deletable": false,
    "editable": false,
    "nbgrader": {
     "cell_type": "markdown",
     "checksum": "560b0ab139133b61e3b39645d9b20636",
     "grade": false,
     "grade_id": "cell-36b8993f83640303",
     "locked": true,
     "schema_version": 3,
     "solution": false,
     "task": false
    }
   },
   "source": [
    "### Let's make a term-frequency matrix for our songs"
   ]
  },
  {
   "cell_type": "code",
   "execution_count": 10,
   "metadata": {
    "deletable": false,
    "editable": false,
    "nbgrader": {
     "cell_type": "code",
     "checksum": "67d14a06e8d75aac94a2d2f6916c728f",
     "grade": false,
     "grade_id": "cell-df635a8414aeb58a",
     "locked": true,
     "schema_version": 3,
     "solution": false,
     "task": false
    }
   },
   "outputs": [],
   "source": [
    "td_matrix, sorted_vocabulary = create_term_doc_matrix(normalized_songs)"
   ]
  },
  {
   "cell_type": "markdown",
   "metadata": {
    "deletable": false,
    "editable": false,
    "nbgrader": {
     "cell_type": "markdown",
     "checksum": "23cce95d3bc9a57339a5284eec1bdd78",
     "grade": false,
     "grade_id": "cell-2c9e25bb552215f6",
     "locked": true,
     "schema_version": 3,
     "solution": false,
     "task": false
    }
   },
   "source": [
    "## TASK 3\n",
    "## Mathematical processing of the matrix elements\n",
    "\n",
    "Simple raw frequency counts are not the best at the task of measuring the similarity between documents. The information theory states that the more probable the event, the less information it contains. For the VSM models, it means that shared frequent words like \"a\" or \"in\" are less discriminative for semantics than shared surprising words like \"kerning\" or \"typeface\". Thus, it is only logical to give more weight to rare words and take some weight from frequent words. \n",
    "\n",
    "To downplay the value of these extremely common words some weighting schemes can be applied to a matrix. Two popular approaches are **tf-idf** and **PPMI**. They both are based on the information theory idea that surprising events should carry more weight than expected events.\n"
   ]
  },
  {
   "cell_type": "markdown",
   "metadata": {
    "deletable": false,
    "editable": false,
    "nbgrader": {
     "cell_type": "markdown",
     "checksum": "731fb80a83f2e8d86a60a3e84c712632",
     "grade": false,
     "grade_id": "cell-473e71d95233c90e",
     "locked": true,
     "schema_version": 3,
     "solution": false,
     "task": false
    }
   },
   "source": [
    "### tf-idf\n",
    "\n",
    "The **term frequency–inverse document frequency (tf-idf)** algorithm is a weighting scheme for term-document matrices. It captures the intuition that when a word is frequent in a document but is rare in other documents, it carries a lot of information specific for that particular document, thus it should get more weight. In practice, the **tf-idf** is a combination of two statistics: **term frequency** and **inverse document frequency**. \n",
    "\n",
    "\n",
    "**Term frequency** - the number of times a word type $t$ appears in a document $d$\n",
    "\n",
    "$tf_{t,d} = count(t, d)$\n",
    "\n",
    "\n",
    "The second statistic of tf-idf is the **inverse document frequency**. It is based on a notion that a less specific term would be used in more documents in a collection than the more specific ones, so the weight of a less specific term should be downplayed. Formally, **idf** is the total number $N$ of documents in a collection, divided by the number of documents $d_{ft}$ containing the term $t$. Due to a large number of documents in many collections, $idf$ is usually squashed with a log function. So the resulting term can be obtained in the following way:\n",
    "\n",
    "**Document frequency** - the number of documents containing $t$\n",
    "\n",
    "**Inverse document frequency** - the total number $N$ of documents divided by the $df_t$\n",
    "\n",
    "$idf_t = \\log_{10}(\\frac{N}{d_{ft}})$\n",
    "\n",
    "Finally, the *tf-idf* score for a word is just a term frequency multiplied by the inverse document frequency:\n",
    "\n",
    "$w_{t,d} = tf_{t,d} × id_{ft}$\n",
    "\n",
    "### How to weight a query document with tf-idf?\n",
    "When you have a new document that you want to compare to the documents in the collection, you need to represent it the same way as your old documents. Suppose, your query document already looks like a vector with the dimensions as the vocabulary of your collection. That is, we disregard any new words that the query document might contain.\n",
    "\n",
    "The **tf** of this query document depends only on the query itself and is computed the same way as for the documents training documents. \n",
    "\n",
    "The **idf** is different. It depends only on the statistics of the documents in our collection. That means, we don't add the new document to the statistics, but just use the number we had for the existing collection.\n",
    "\n",
    "## 3.1\n",
    "Write a function, that takes in a term-document matrix and weights it with the **tf-idf** scheme. To save us time later, our function will both give out a matrix of tf-idf weighted values and a vector of idf values for words in the collection. We will use this vector later, when representing new documents."
   ]
  },
  {
   "cell_type": "code",
   "execution_count": 11,
   "metadata": {
    "deletable": false,
    "nbgrader": {
     "cell_type": "code",
     "checksum": "1009b26c540e68dc65c2f072fd3b26d7",
     "grade": false,
     "grade_id": "cell-33fcd5d339672048",
     "locked": false,
     "schema_version": 3,
     "solution": true,
     "task": false
    }
   },
   "outputs": [],
   "source": [
    "import math\n",
    "\n",
    "def tf_idf(td_matrix):\n",
    "    \"\"\"\n",
    "    this function takes in a term-document matrix as a numpy array, \n",
    "    and weights the scores with the tf-idf algorithm described above\n",
    "    \n",
    "    INPUT:\n",
    "    td_matrix - a numpy array where columns are songs and \n",
    "        rows are word frequencies in a song\n",
    "    OUTPUT:\n",
    "    tf_idf_matrix - a numpy array where columns are songs and \n",
    "        rows are word tf-idf values in a song\n",
    "    idf_vector - a vector of idf values for words in the collection. the shape is (vocabulary-size, 1).\n",
    "        this vector will be used to weight new query documents\n",
    "    \"\"\"\n",
    "    # YOUR CODE HERE\n",
    "    #print(td_matrix)\n",
    "    #tf(t,d) = count(term in a document) Already have?\n",
    "    #idf(t) = log10(number of documents/ number of documents containing term t)\n",
    "    tf_idf_matrix = np.zeros((np.shape(td_matrix)[0],np.shape(td_matrix)[1])) # tf-idf value = tf(t,d) * idf(t) \n",
    "    idf_vector = np.zeros((np.shape(td_matrix)[0],1)) # idf values\n",
    "    \n",
    "    nb_doc = np.shape(td_matrix)[1]\n",
    "    #print(\"NUMBER OF DOCUMENTS: \", nb_doc)\n",
    "    \n",
    "    # idf_vector\n",
    "    print(\"= TD_MATRIX.SHAPE = \", np.shape(td_matrix))\n",
    "    for i, line in enumerate(td_matrix):\n",
    "        #print(\"=line: \", line)\n",
    "        count = 0\n",
    "        for val in line:\n",
    "            #print(\"==val: \", val)\n",
    "            if val > 0:\n",
    "                count += 1\n",
    "        #print(\"====count: \", count)\n",
    "        #print(\"== i: \", i)\n",
    "        if(nb_doc/count) > 0:\n",
    "            idf_vector[i] = math.log10(nb_doc / count)\n",
    "        else:\n",
    "            idf_vector[i] = 0\n",
    "                \n",
    "    #print(\"==========\")\n",
    "    #print(\"IDF_VECTOR: \", idf_vector)\n",
    "\n",
    "\n",
    "    for r, term in enumerate(td_matrix):\n",
    "        for c, val in enumerate(term):\n",
    "            #print(\"r= \", r, \"c= \", c)\n",
    "            tf_idf_matrix[r, c] = val * idf_vector[r, 0]\n",
    "            #print(\"idf_vector[1][\",r,\"]= \", idf_vector[r, 0])\n",
    "            #print(\"TF_IDF[\", r,\"][\", c,\"]= \", tf_idf_matrix[r, c])\n",
    "   \n",
    "   #print(tf_idf_matrix)\n",
    "    return tf_idf_matrix, idf_vector      "
   ]
  },
  {
   "cell_type": "code",
   "execution_count": 12,
   "metadata": {
    "deletable": false,
    "editable": false,
    "nbgrader": {
     "cell_type": "code",
     "checksum": "236c422ddbaea213a1a887339664a655",
     "grade": true,
     "grade_id": "cell-94805d8b0ce03198",
     "locked": true,
     "points": 2,
     "schema_version": 3,
     "solution": false,
     "task": false
    }
   },
   "outputs": [
    {
     "name": "stdout",
     "output_type": "stream",
     "text": [
      "= TD_MATRIX.SHAPE =  (9, 2)\n",
      "= TD_MATRIX.SHAPE =  (9, 2)\n",
      "= TD_MATRIX.SHAPE =  (9, 2)\n",
      "= TD_MATRIX.SHAPE =  (9, 2)\n"
     ]
    }
   ],
   "source": [
    "from numpy.testing import assert_array_equal, assert_allclose\n",
    "from nose.tools import assert_equal\n",
    "\n",
    "\n",
    "dummy_songs = [['la','la','la','la','oh',',','woo',\"uuuuuh\"],\n",
    "               ['oh', 'la','la','la',\"tarara\",'tadada', 'bla', 'bla', 'bla','bla','bla', '!']]\n",
    "\n",
    "\n",
    "sorted_dummy_vocab = ['!', ',', 'bla', 'la', 'oh', 'tadada', 'tarara', 'uuuuuh', 'woo']\n",
    "correct_td_dummy_matrix = np.array([[0., 1.],\n",
    "                                    [1., 0.],\n",
    "                                    [0., 5.],\n",
    "                                    [4., 3.],\n",
    "                                    [1., 1.],\n",
    "                                    [0., 1.],\n",
    "                                    [0., 1.],\n",
    "                                    [1., 0.],\n",
    "                                    [1., 0.]])\n",
    "\n",
    "# CHECKING THE GENERAL PROPERTIES OF THE OUTPUT\n",
    "# check the shape of the matrix\n",
    "assert_equal(tf_idf(correct_td_dummy_matrix)[0].shape, (9, 2))\n",
    "# check the shape of the idf vector\n",
    "assert_equal(tf_idf(correct_td_dummy_matrix)[1].shape, (9, 1))\n",
    "\n",
    "# CHECKING THAT THE FUNCTION IS WORKING AS IT SHOULD\n",
    "# check that the matrix has the right values in the right places\n",
    "# pay attention to the \"la\" row: its values are zeros now. make sure you understand why.  \n",
    "\n",
    "correct_tf_idf_dummy_matrix = np.array([[0.,0.30103],\n",
    "                                        [0.30103,0.],\n",
    "                                        [0.,1.50514998],\n",
    "                                        [0.,0.],\n",
    "                                        [0.,0.],\n",
    "                                        [0.,0.30103],\n",
    "                                        [0.,0.30103],\n",
    "                                        [0.30103,0.],\n",
    "                                        [0.30103,0.]])\n",
    "\n",
    "correct_idf_dummy_vector = np.array([[0.30103],\n",
    "                                     [0.30103],\n",
    "                                     [0.30103],\n",
    "                                     [0.     ],\n",
    "                                     [0.     ],\n",
    "                                     [0.30103],\n",
    "                                     [0.30103],\n",
    "                                     [0.30103],\n",
    "                                     [0.30103]])\n",
    "\n",
    "assert_allclose(tf_idf(correct_td_dummy_matrix)[0], correct_tf_idf_dummy_matrix)\n",
    "assert_allclose(tf_idf(correct_td_dummy_matrix)[1], correct_idf_dummy_vector)\n"
   ]
  },
  {
   "cell_type": "markdown",
   "metadata": {
    "deletable": false,
    "editable": false,
    "nbgrader": {
     "cell_type": "markdown",
     "checksum": "da2b9d9ee30fd2f65ef99d6c7c2e6878",
     "grade": false,
     "grade_id": "cell-b9180e4bcb31083e",
     "locked": true,
     "schema_version": 3,
     "solution": false,
     "task": false
    }
   },
   "source": [
    "### PPMI\n",
    "\n",
    "An alternative weighting scheme to $tf-idf$ is **Positive Pointwise Mutual Information** (PPMI). When using PPMI scheme, we are asking how more frequently a word occurs in a document than it would have been expected to appear there by chance. The more unexpected this occurrence is, the more weight is given. For example, we expect to have words like *is* and *the* to appear in every document, but words like *kerning* or *typeface* to appear only in texts about typography.\n",
    "\n",
    "**PPMI** is a variation of **Pointwise Mutual Information (PMI)**, in which all negative PMI values are replaced with zeros. \n",
    "\n",
    "The mutual information compares the probability of observing two events $x$ and $y$ together to the probability of observing $x$ and $y$ independently. Based on this definition of mutual information, PMI between a term $t$ and a document $d$ is defined in the following way:\n",
    "\n",
    "$PMI_{t,d} = \\log_{2}(\\frac{P(t,d)}{P(t)P(d)})$\n",
    "\n",
    "In the case of term-document matrix, the numerator $P(t,d)$ denotes how often a term $t$ was observed in a document $d$, the denominator $P(t)P(d)$ expresses how often we would see a term $t$ in a document $d$ if their probabilities were independent of each other. The larger the numerator, the more weight the pair gets because it means the word occurs in this document more often than by a pure chance.\n",
    "\n",
    "Let's look at it a bit closer:\n",
    "- $N$ - total counts of all the words in the collection of documents\n",
    "- $C_{t,d}$ - count of a term t in a document d\n",
    "- $C_t$ - total count of a term t in the whole document collection\n",
    "- $C_d$ - total count of all words in a document d\n",
    "- $PMI_{t,d} = \\log_{2}(\\frac{\\frac{C_{t,d}}{N}}{\\frac{C_t}{N}\\frac{C_d}{N}})$\n",
    "\n",
    "$PPMI_{t,d} = \\max(PMI_{t,d},0)$\n",
    "\n",
    "### How to weight a query document with PPMI?\n",
    "We are again in the same situation as with tf-idf: the new document vector should be the same length as a vector in our collection, its dimensions should correspond to the dimension of our collection vectors, and the values should be comparable. To be able to weigh the frequencies in the new documents, we are going to need the $C_t$ statistic for all words, as well as $N$. The $C_{t,d}$ and $C_d$ values would come from the query vector.\n",
    "\n",
    "## 3.2\n",
    "Write a function that can weight with **PPMI** scheme bothe train and test term-document matrices."
   ]
  },
  {
   "cell_type": "code",
   "execution_count": 13,
   "metadata": {
    "deletable": false,
    "nbgrader": {
     "cell_type": "code",
     "checksum": "c447906894a7e78c3a3652d8d8b7567c",
     "grade": false,
     "grade_id": "cell-1758b0ed2838db07",
     "locked": false,
     "schema_version": 3,
     "solution": true,
     "task": false
    }
   },
   "outputs": [],
   "source": [
    "def ppmi(td_matrix, query_matrix=None):\n",
    "    \"\"\"\n",
    "    this function takes in a term-document matrix as a numpy array,\n",
    "    and weights the scores with the PPMI scheme described above\n",
    "\n",
    "    INPUT:\n",
    "    td_matrix - a numpy array where columns are collection songs and\n",
    "        rows are word frequencies in a song\n",
    "    query_matrix - a numpy array where columns are query songs and\n",
    "        rows are word frequencies in a song\n",
    "    OUTPUT:\n",
    "    ppmi_matrix - a numpy array where columns are songs and\n",
    "        rows are ppmi word values in a song\n",
    "    \"\"\"\n",
    "    nb_doc = 0\n",
    "    \n",
    "    for row in td_matrix:\n",
    "        nb_doc += row.sum()\n",
    "    \n",
    "    print(\"nb_doc= \", nb_doc)    \n",
    "    ct_matrix = []\n",
    "    cdi = 0\n",
    "    cdj = 0\n",
    "    \n",
    "    for row in td_matrix:\n",
    "        ct_matrix.append(row.sum())\n",
    "        \n",
    "    cd = td_matrix.sum(axis=0)\n",
    "    print(\"cd: \", cd)\n",
    "    \n",
    "    if query_matrix is None:\n",
    "        pmi_matrix = np.zeros((np.shape(td_matrix)[0], np.shape(td_matrix)[1]))\n",
    "        nmr_matrix = np.zeros((np.shape(td_matrix)[0], np.shape(td_matrix)[1]))\n",
    "        ppmi_matrix = np.zeros((np.shape(td_matrix)[0], np.shape(td_matrix)[1]))\n",
    "        \n",
    "        r = 0\n",
    "        for row in td_matrix:\n",
    "            nmr = 0\n",
    "            for col, val in enumerate(row):\n",
    "                nmr = val / nb_doc\n",
    "                nmr_matrix[r][col] = nmr\n",
    "            r += 1\n",
    "\n",
    "        for i, term in enumerate(pmi_matrix):\n",
    "            for j, val in enumerate(term):\n",
    "                if ((ct_matrix[i] / nb_doc) * (cd[j] / nb_doc) != 0).any():\n",
    "                    pmi_matrix[i, j] = np.log2(\n",
    "                        (nmr_matrix[i, j]) / ((ct_matrix[i] / nb_doc) * (cd[j] / nb_doc)))\n",
    "                else:\n",
    "                    pmi_matrix[i, j] = 0\n",
    "\n",
    "        for i, term in enumerate(ppmi_matrix):\n",
    "            for j, val in enumerate(term):\n",
    "                ppmi_matrix[i, j] = max(pmi_matrix[i, j], 0)\n",
    "\n",
    "        #print(\"===============PPMI_MATRIX====================\")\n",
    "        #print(ppmi_matrix)\n",
    "        #print(\"==============================================\")\n",
    "    else:\n",
    "        pmi_matrix = np.zeros((np.shape(query_matrix)[0], np.shape(query_matrix)[1]))\n",
    "        ppmi_matrix = np.zeros((np.shape(query_matrix)[0], np.shape(query_matrix)[1]))\n",
    "        #ppmi_matrix = np.zeros((9, 1))\n",
    "        #pmi_matrix = np.zeros((9, 1))\n",
    "        cd = sum([i for i in query_matrix])\n",
    "        for i, term in enumerate(query_matrix):\n",
    "            if ((query_matrix[i] / nb_doc) * (cd / nb_doc) > 0).any():\n",
    "\n",
    "                #print(\"Numerotor = \", (term / nb_doc), \"Denominator = \", ((ct_matrix[i] / nb_doc) * (cd / nb_doc)))\n",
    "                #print(\"RESULT = \", np.log2((term / nb_doc) / ((ct_matrix[i] / nb_doc) * (cd / nb_doc))))\n",
    "\n",
    "                pmi_matrix[i] = np.log2((term / nb_doc) / ((ct_matrix[i] / nb_doc) * (cd / nb_doc)))\n",
    "            else:\n",
    "                pmi_matrix[i] = 0\n",
    "\n",
    "        for i, term in enumerate(ppmi_matrix):\n",
    "            if (pmi_matrix[i] > 0).any():\n",
    "                ppmi_matrix[i] = pmi_matrix[i]\n",
    "            else:\n",
    "                ppmi_matrix[i] = 0\n",
    "        #print(\"===============PPMI_MATRIX====================\")\n",
    "        #print(ppmi_matrix)\n",
    "        #print(\"==============================================\")\n",
    "    return ppmi_matrix"
   ]
  },
  {
   "cell_type": "code",
   "execution_count": 14,
   "metadata": {
    "deletable": false,
    "editable": false,
    "nbgrader": {
     "cell_type": "code",
     "checksum": "b1a751040d3772da02d2dfe7e3330874",
     "grade": true,
     "grade_id": "cell-21dee6aeac2b6a25",
     "locked": true,
     "points": 2,
     "schema_version": 3,
     "solution": false,
     "task": false
    }
   },
   "outputs": [
    {
     "name": "stdout",
     "output_type": "stream",
     "text": [
      "nb_doc=  20.0\n",
      "cd:  [ 8. 12.]\n",
      "nb_doc=  20.0\n",
      "cd:  [ 8. 12.]\n",
      "nb_doc=  20.0\n",
      "cd:  [ 8. 12.]\n",
      "nb_doc=  20.0\n",
      "cd:  [ 8. 12.]\n"
     ]
    },
    {
     "name": "stderr",
     "output_type": "stream",
     "text": [
      "/opt/conda/lib/python3.7/site-packages/ipykernel_launcher.py:48: RuntimeWarning: divide by zero encountered in log2\n"
     ]
    }
   ],
   "source": [
    "from numpy.testing import assert_array_equal, assert_allclose\n",
    "from nose.tools import assert_equal\n",
    "\n",
    "\n",
    "dummy_songs = [['la','la','la','la','oh',',','woo',\"uuuuuh\"],\n",
    "               ['oh', 'la','la','la',\"tarara\",'tadada', 'bla', 'bla', 'bla','bla','bla', '!']]\n",
    "\n",
    "\n",
    "sorted_dummy_vocab = ['!', ',', 'bla', 'la', 'oh', 'tadada', 'tarara', 'uuuuuh', 'woo']\n",
    "correct_td_dummy_matrix = np.array([[0., 1.],\n",
    "                                    [1., 0.],\n",
    "                                    [0., 5.],\n",
    "                                    [4., 3.],\n",
    "                                    [1., 1.],\n",
    "                                    [0., 1.],\n",
    "                                    [0., 1.],\n",
    "                                    [1., 0.],\n",
    "                                    [1., 0.]])\n",
    "\n",
    "td_dummy_query = np.array([[0.],\n",
    "                           [1.],\n",
    "                           [8.],\n",
    "                           [1.],\n",
    "                           [0.],\n",
    "                           [0.],\n",
    "                           [1.],\n",
    "                           [2.],\n",
    "                           [4.]])\n",
    "\n",
    "# CHECKING THE GENERAL PROPERTIES OF THE OUTPUT\n",
    "# check the shape of the matrix\n",
    "assert_equal(ppmi(correct_td_dummy_matrix).shape, (9, 2))\n",
    "assert_equal(ppmi(correct_td_dummy_matrix, td_dummy_query).shape, (9, 1))\n",
    "\n",
    "# CHECKING THAT THE FUNCTION IS WORKING AS IT SHOULD\n",
    "# check that the matrix has the right values in the right places\n",
    "# pay attention to the row of \"woo\" and the row of \"tarara\" why are the ppmi values different for diiferent documents? \n",
    "\n",
    "correct_ppmi_dummy_matrix = np.array([[0.        , 0.73696559],\n",
    "                                      [1.32192809, 0.        ],\n",
    "                                      [0.        , 0.73696559],\n",
    "                                      [0.51457317, 0.        ],\n",
    "                                      [0.32192809, 0.        ],\n",
    "                                      [0.        , 0.73696559],\n",
    "                                      [0.        , 0.73696559],\n",
    "                                      [1.32192809, 0.        ],\n",
    "                                      [1.32192809, 0.        ]])\n",
    "\n",
    "assert_allclose(ppmi(correct_td_dummy_matrix), correct_ppmi_dummy_matrix)\n",
    "\n",
    "correct_ppmi_dummy_query = np.array([[0.        ],\n",
    "                                     [0.23446525],\n",
    "                                     [0.91253716],\n",
    "                                     [0.        ],\n",
    "                                     [0.        ],\n",
    "                                     [0.        ],\n",
    "                                     [0.23446525],\n",
    "                                     [1.23446525],\n",
    "                                     [2.23446525]])\n",
    "\n",
    "assert_allclose(ppmi(correct_td_dummy_matrix, td_dummy_query), correct_ppmi_dummy_query)\n"
   ]
  },
  {
   "cell_type": "markdown",
   "metadata": {
    "deletable": false,
    "editable": false,
    "nbgrader": {
     "cell_type": "markdown",
     "checksum": "08725fe9e297e8c32510aa40dcf5812c",
     "grade": false,
     "grade_id": "cell-ed45ea1e6f004fce",
     "locked": true,
     "schema_version": 3,
     "solution": false,
     "task": false
    }
   },
   "source": [
    "### Let's weight our term-dictionary matrix"
   ]
  },
  {
   "cell_type": "code",
   "execution_count": 15,
   "metadata": {
    "deletable": false,
    "editable": false,
    "nbgrader": {
     "cell_type": "code",
     "checksum": "95a127128656011969846600e19ed69d",
     "grade": false,
     "grade_id": "cell-0613026c7e3835cc",
     "locked": true,
     "schema_version": 3,
     "solution": false,
     "task": false
    }
   },
   "outputs": [
    {
     "name": "stdout",
     "output_type": "stream",
     "text": [
      "= TD_MATRIX.SHAPE =  (1594, 45)\n",
      "nb_doc=  19205.0\n",
      "cd:  [473. 288. 493. 309. 439. 338. 191. 251. 482. 588. 665. 303. 457. 456.\n",
      " 478. 171. 612. 441. 305. 695. 406. 317. 378. 321. 266. 442. 622. 188.\n",
      " 486. 206. 295. 478. 568. 454. 443. 539. 421. 229. 686. 618. 465. 344.\n",
      " 580. 455. 563.]\n"
     ]
    },
    {
     "name": "stderr",
     "output_type": "stream",
     "text": [
      "/opt/conda/lib/python3.7/site-packages/ipykernel_launcher.py:48: RuntimeWarning: divide by zero encountered in log2\n"
     ]
    }
   ],
   "source": [
    "# tf-idf\n",
    "tf_idf_matrix, idf_vector = tf_idf(td_matrix)\n",
    "\n",
    "# PPMI\n",
    "ppmi_matrix = ppmi(td_matrix)"
   ]
  },
  {
   "cell_type": "markdown",
   "metadata": {
    "deletable": false,
    "editable": false,
    "nbgrader": {
     "cell_type": "markdown",
     "checksum": "03352284daf4dcf3337074b61678ec22",
     "grade": false,
     "grade_id": "cell-1bd0768d79b94e86",
     "locked": true,
     "schema_version": 3,
     "solution": false,
     "task": false
    }
   },
   "source": [
    "## TASK 4\n",
    "## Dense Vectors\n",
    "### Truncated SVD (LSI)\n",
    "\n",
    "Raw counts, tf-idf and PPMI are sparse representations. That means they contain lots of zeros because most of the words never appear ain every document.\n",
    "\n",
    "Sparse frequency matrices work well, but keeping all vector components can be very computationally expensive in some tasks, moreover, frequency matrices can take up a lot of storage space. But more importantly, unlike sparse vectors that dedicate different dimensions for very similar words like *car* and *automobile* with no modeled relationship between the dimensions, dense vectors are able to model such words in the same dimension. The answer to these problems of sparse representation is limiting the number of vector components. Dense low-dimensional vectors can be obtained by performing dimensionality reduction.\n",
    "\n",
    "One of the methods to transform a sparse VSM into a dense VSM is **Truncated Singular Value Decomposition (SVD)**. **SVD** is a method for finding the most important dimensions of a dataset, the dimensions along which the data varies the most.\n",
    "\n",
    "We can approximate our term-document matrix with one of lower rank using the **SVD**. This approximation matrix yields a new representation for each document in the collection. We will need to transform our query documents into this low-rank representation as well, enabling us to compute query-document similarity scores in this low-rank representation. This process is known as **Latent Semantic Indexing (LSI)**.\n",
    "\n",
    "Let's say we have some term-document matrix $X$ with 7 words and 5 documents. We want to represent each of these five vectors with vectors of only 2 elements. Here how we do it.\n",
    "1. Produce SVD $X = USV^T$\n",
    "\n",
    "where\n",
    "* $U$ - an SVD term matrix of 7x7 dimension (eigenvalues of $X^TX$)\n",
    "* $S$ - a diagonal matrix of the singular values obtained as square roots of $X^TX$ eigenvalues 7x5 dimension\n",
    "* $V^T$ - an SVD document matrix of 5x5 dimension (eigenvalues of $XX^T$)\n",
    "\n",
    "\n",
    "2.  Implement a rank 2 approximation by keeping the first two columns of $U$, the first two columns and rows of $S$, and the first two columns of $V^T$\n",
    "\n",
    "3. The rank 2 approximation of $U$ ($U_2$) is a 7x2 matrix that can be interpreted as word assignment to 2 hidden topics. This matrix helps to transform the original matrix $X$ into a representation we want $X_2 = U_2^TX$\n",
    "\n",
    "4. Now we have a 2x7 matrix $X_2$.\n",
    "\n",
    "\n",
    "### How to transform a query with SVD?\n",
    "\n",
    "Well, the same way we transformed $X$. Take a $U_d$ and a query vector $q$ (7x1) and multiply them!\n",
    "\n",
    "$U_2^Tq$\n",
    "\n",
    "If this explanation was not enough for you, you can find an awesome tutorial on SVD and LSI here:\n",
    "https://www.engr.uvic.ca/~seng474/svd.pdf\n",
    "\n",
    "\n",
    "## 4.1\n",
    "Write a function, that performs truncated SVD on a matrix, and returns the $U_d$ matrix."
   ]
  },
  {
   "cell_type": "code",
   "execution_count": 16,
   "metadata": {
    "deletable": false,
    "nbgrader": {
     "cell_type": "code",
     "checksum": "5e30ff4e3da29ed1412dfb181c7026f7",
     "grade": false,
     "grade_id": "cell-21690d2849be7b9c",
     "locked": false,
     "schema_version": 3,
     "solution": true,
     "task": false
    }
   },
   "outputs": [],
   "source": [
    "import numpy as np\n",
    "def lsi(matrix, d):\n",
    "    \"\"\"\n",
    "    this function takes in a term-document matrix as a numpy array, \n",
    "    the values can be both row frequencies and weighted values (tf_idf, ppmi)\n",
    "    performs and returns the VT matrix.\n",
    "\n",
    "    INPUT:\n",
    "    matrix - a numpy array where columns are songs and \n",
    "        rows are words\n",
    "    d - a number of features we will be reducing our matrix to.\n",
    "    OUTPUT:\n",
    "    U_d - an [m x d] matrix, where m is the number of word dimensions in the original matrix, \n",
    "        and d is a number of features we want to keep.\n",
    "    \"\"\"\n",
    "    # Singular-value decomposition\n",
    "    U, s, VT = np.linalg.svd(matrix)\n",
    "    # YOUR CODE HERE\n",
    "    U_d = np.delete(U, np.s_[d:], axis=1)\n",
    "    return U_d"
   ]
  },
  {
   "cell_type": "code",
   "execution_count": 17,
   "metadata": {
    "deletable": false,
    "editable": false,
    "nbgrader": {
     "cell_type": "code",
     "checksum": "aaac553bc9d131ca731a2332c5f8759c",
     "grade": true,
     "grade_id": "cell-b985c3fe7e7fefea",
     "locked": true,
     "points": 2,
     "schema_version": 3,
     "solution": false,
     "task": false
    }
   },
   "outputs": [],
   "source": [
    "from numpy.testing import assert_array_equal, assert_allclose\n",
    "from nose.tools import assert_equal\n",
    "\n",
    "\n",
    "dummy_songs = [['la','la','la','la','oh',',','woo',\"uuuuuh\"],\n",
    "               ['oh', 'la','la','la',\"tarara\",'tadada', 'bla', 'bla', 'bla','bla','bla', '!']]\n",
    "\n",
    "\n",
    "sorted_dummy_vocab = ['!', ',', 'bla', 'la', 'oh', 'tadada', 'tarara', 'uuuuuh', 'woo']\n",
    "correct_td_dummy_matrix = np.array([[0., 1.],\n",
    "                                    [1., 0.],\n",
    "                                    [0., 5.],\n",
    "                                    [4., 3.],\n",
    "                                    [1., 1.],\n",
    "                                    [0., 1.],\n",
    "                                    [0., 1.],\n",
    "                                    [1., 0.],\n",
    "                                    [1., 0.]])\n",
    "\n",
    "# CHECKING THE GENERAL PROPERTIES OF THE OUTPUT\n",
    "# check the shape of the matrix\n",
    "assert_equal(lsi(correct_td_dummy_matrix, 1).shape, (9,1))\n",
    "\n",
    "# CHECKING THAT THE FUNCTION IS WORKING AS IT SHOULD\n",
    "dummy_query_vector = np.arange(9).reshape(9,1)\n",
    "\n",
    "assert_allclose(lsi(correct_td_dummy_matrix, 1), np.array([[0.13232178],\n",
    "                                                           [0.06933039],\n",
    "                                                           [0.6616089 ],\n",
    "                                                           [0.67428688],\n",
    "                                                           [0.20165217],\n",
    "                                                           [0.13232178],\n",
    "                                                           [0.13232178],\n",
    "                                                           [0.06933039],\n",
    "                                                           [0.06933039]]))\n",
    "\n",
    "assert_allclose(lsi(correct_td_dummy_matrix, 1).T.dot(correct_td_dummy_matrix),np.array([[3.10679086, 5.92952265]]))\n",
    "assert_allclose(lsi(correct_td_dummy_matrix, 1).T.dot(dummy_query_vector),np.array([[6.71751287]]))\n",
    "\n",
    "\n"
   ]
  },
  {
   "cell_type": "markdown",
   "metadata": {
    "deletable": false,
    "editable": false,
    "nbgrader": {
     "cell_type": "markdown",
     "checksum": "596a1fedbf45c9ba4730a09f2789ce2e",
     "grade": false,
     "grade_id": "cell-d3dd9b50dd7cb7ef",
     "locked": true,
     "schema_version": 3,
     "solution": false,
     "task": false
    }
   },
   "source": [
    "### Let's get the dense representations!\n",
    "Well, now we have three matrices: raw counts, tf-idf and ppmi. Let's get their dense representations, by performing LSI."
   ]
  },
  {
   "cell_type": "code",
   "execution_count": 18,
   "metadata": {
    "deletable": false,
    "editable": false,
    "nbgrader": {
     "cell_type": "code",
     "checksum": "1147287017d8787e7203948c29fb9b98",
     "grade": false,
     "grade_id": "cell-8a824d02b1343ab4",
     "locked": true,
     "schema_version": 3,
     "solution": false,
     "task": false
    }
   },
   "outputs": [],
   "source": [
    "td_matrix_dense = lsi(td_matrix,2).T.dot(td_matrix)\n",
    "tf_idf_matrix_dense = lsi(tf_idf_matrix,2).T.dot(tf_idf_matrix)\n",
    "ppmi_matrix_dense= lsi(ppmi_matrix,2).T.dot(ppmi_matrix)"
   ]
  },
  {
   "cell_type": "markdown",
   "metadata": {
    "deletable": false,
    "editable": false,
    "nbgrader": {
     "cell_type": "markdown",
     "checksum": "3a7dce322fcc17970652b10a23354e51",
     "grade": false,
     "grade_id": "cell-20027e4490c61b23",
     "locked": true,
     "schema_version": 3,
     "solution": false,
     "task": false
    }
   },
   "source": [
    "### Let's visualize our models. \n",
    "When we have 2-D representations of songs, we can actually plot them and see if they make sense. Remember, we want similar songs be close to each other."
   ]
  },
  {
   "cell_type": "code",
   "execution_count": 19,
   "metadata": {
    "deletable": false,
    "editable": false,
    "nbgrader": {
     "cell_type": "code",
     "checksum": "a2410cabb67356472b0c5a689962a5fb",
     "grade": false,
     "grade_id": "cell-a043812a6145d6c0",
     "locked": true,
     "schema_version": 3,
     "solution": false,
     "task": false
    }
   },
   "outputs": [
    {
     "data": {
      "image/png": "[encoded data removed]",
      "text/plain": [
       "<Figure size 432x288 with 1 Axes>"
      ]
     },
     "metadata": {},
     "output_type": "display_data"
    },
    {
     "data": {
      "image/png": "[encoded data removed]",
      "text/plain": [
       "<Figure size 432x288 with 1 Axes>"
      ]
     },
     "metadata": {},
     "output_type": "display_data"
    },
    {
     "data": {
      "image/png": "[encoded data removed]",
      "text/plain": [
       "<Figure size 432x288 with 1 Axes>"
      ]
     },
     "metadata": {},
     "output_type": "display_data"
    }
   ],
   "source": [
    "import matplotlib.pyplot as plt\n",
    "\n",
    "def plot_songs(song_matrix, title):\n",
    "\n",
    "    plt.style.use('ggplot')\n",
    "    plt.title(title)\n",
    "    plt.xlabel(\"Feature 1\")\n",
    "    plt.ylabel(\"Feature 2\")\n",
    "\n",
    "    pulp = plt.scatter(song_matrix[0,:26], song_matrix[1,:26], marker=\"x\", color=\"blue\")\n",
    "    kanye = plt.scatter(song_matrix[0,26:], song_matrix[1,26:], marker=\"o\", color=\"red\")\n",
    "    \n",
    "    plt.legend((pulp, kanye),('Pulp', 'Kanye West'))\n",
    "    \n",
    "    plt.show()\n",
    "    \n",
    "plot_songs(td_matrix_dense, \"Songs as 2-D vectors (raw counts)\")\n",
    "plot_songs(tf_idf_matrix_dense, \"Songs as 2-D vectors (tf-idf)\")\n",
    "plot_songs(ppmi_matrix_dense, \"Songs as 2-D vectors (PPMI)\")"
   ]
  },
  {
   "cell_type": "markdown",
   "metadata": {},
   "source": [
    "## TASK 5\n",
    "### Transform new songs\n",
    "\n",
    "\n",
    "Now we have new songs coming into our system and we would like to know if they are by Pulp or by Kanye.\n",
    "\n",
    "The first thing to do is to adjust our query documents to the way we represent the songs in our systems.\n",
    "\n",
    "1. Raw counts: pre-process, collect counts\n",
    "2. Tf-idf: pre-process, collect counts, weight\n",
    "3. PPMI: pre-process, collect counts, weight\n",
    "4. LSI of Raw counts: pre-process, collect counts, LSI transform\n",
    "5. LSI of Tf-idf: pre-process, collect counts, weight, LSI transform\n",
    "6. LSI of PPMI: pre-process, collect counts, weight, LSI transform"
   ]
  },
  {
   "cell_type": "markdown",
   "metadata": {
    "deletable": false,
    "editable": false,
    "nbgrader": {
     "cell_type": "markdown",
     "checksum": "c39e21faed7fda651b51313bae0f5508",
     "grade": false,
     "grade_id": "cell-00f4b36ee58a55ca",
     "locked": true,
     "schema_version": 3,
     "solution": false,
     "task": false
    }
   },
   "source": [
    "### Step 1.1: Read and Normalize songs"
   ]
  },
  {
   "cell_type": "code",
   "execution_count": 20,
   "metadata": {
    "deletable": false,
    "editable": false,
    "nbgrader": {
     "cell_type": "code",
     "checksum": "3fe7f820057e9dbbff61f1fa2c2c60a0",
     "grade": false,
     "grade_id": "cell-5792cf1ed1b62a8d",
     "locked": true,
     "schema_version": 3,
     "solution": false,
     "task": false
    }
   },
   "outputs": [],
   "source": [
    "import glob\n",
    "# collect the paths to albums and songs\n",
    "# the order of the albums are: my_beautiful_dark_twisted_fantasy, this_is_hardcore\n",
    "test_songs = glob.glob('/coursedata/songs_test/*/*')\n",
    "\n",
    "normalized_query_songs = [tokenize_and_normalize(song) for song in test_songs]"
   ]
  },
  {
   "cell_type": "markdown",
   "metadata": {
    "deletable": false,
    "editable": false,
    "nbgrader": {
     "cell_type": "markdown",
     "checksum": "7e49ae607903b2be4194daa612992cf5",
     "grade": false,
     "grade_id": "cell-a82aeec9edbeda4a",
     "locked": true,
     "schema_version": 3,
     "solution": false,
     "task": false
    }
   },
   "source": [
    "## 5.1\n",
    "### Step 1.2: Get counts\n",
    "\n",
    "Well, this part is a bit tricky. There might be new, unseen words in our queries, and if we want to count them, we just won't be able to compare our new documents to our old documents (different words = different dimensions = different vector spaces). To avoid this problem, we will need to only count the things we've seen in the training corpus. Luckily, we've collected the sorted vocabulary!\n",
    "\n",
    "Modify the create_term_doc_matrix() function, so that it takes a query document, an old vocabulary, and counts only the words that are in our train vocabulary."
   ]
  },
  {
   "cell_type": "code",
   "execution_count": 21,
   "metadata": {
    "deletable": false,
    "nbgrader": {
     "cell_type": "code",
     "checksum": "70d68304b7ea79cd271342b035b895ec",
     "grade": false,
     "grade_id": "cell-34b529f25aacbca7",
     "locked": false,
     "schema_version": 3,
     "solution": true,
     "task": false
    }
   },
   "outputs": [],
   "source": [
    "def create_term_doc_matrix_queries(queries, vocab):\n",
    "    \"\"\"\n",
    "    this function takes in a list of query songs and the sorted vocabulary of our collection, \n",
    "    and returns a term-document matrix as a numpy array.\n",
    "    the rows are word stems, the columns are songs. \n",
    "    the rows should be sorted according to the vocabulary.\n",
    "    INPUT:\n",
    "    queries - a list of songs represented as a list of stems (a list of lists)\n",
    "    vocab - an alphabetically sorted list of all the words used in all songs of the collection (the rows of our matrix).\n",
    "    OUTPUT:\n",
    "    matrix - a matrix where columns are songs and rows are stems,\n",
    "        the cells of the matrix contain stem frequencies in a song,\n",
    "        the words for rows are sorted alphabetically.\n",
    "    \"\"\"\n",
    "    \n",
    "    # YOUR CODE HERE\n",
    "    matrix = []\n",
    "\n",
    "    for stem in vocab:\n",
    "        i = 0\n",
    "        count = 0\n",
    "        tmp = np.zeros(len(queries))\n",
    "        for song in queries:\n",
    "            for word in song:\n",
    "                if word == stem:\n",
    "                    tmp[i] += 1\n",
    "                else:\n",
    "                    continue\n",
    "            i += 1\n",
    "        matrix.append(tmp)\n",
    "            \n",
    "    matrix = np.array(matrix)\n",
    "    #print(matrix)\n",
    "    \n",
    "    return matrix    "
   ]
  },
  {
   "cell_type": "code",
   "execution_count": 22,
   "metadata": {
    "deletable": false,
    "editable": false,
    "nbgrader": {
     "cell_type": "code",
     "checksum": "972eceff374b8664744fe97cf164a1c3",
     "grade": true,
     "grade_id": "cell-b551ba0ab4efc799",
     "locked": true,
     "points": 1,
     "schema_version": 3,
     "solution": false,
     "task": false
    }
   },
   "outputs": [],
   "source": [
    "from numpy.testing import assert_array_equal\n",
    "from nose.tools import assert_equal\n",
    "\n",
    "sorted_dummy_vocab = ['!', ',', 'bla', 'la', 'oh', 'tadada', 'tarara', 'uuuuuh', 'woo']\n",
    "new_dummy_songs = [['la','oh',',','pada',\"uuuuuh\"],\n",
    "                   ['toot','toot']]\n",
    "\n",
    "# CHECKING THE GENERAL PROPERTIES OF THE OUTPUT\n",
    "# check the shape of the matrix\n",
    "assert_equal(create_term_doc_matrix_queries(new_dummy_songs, sorted_dummy_vocab).shape, (9, 2))\n",
    "\n",
    "# CHECKING THAT THE FUNCTION IS WORKING AS IT SHOULD\n",
    "# check that the matrix has the right values in the right places\n",
    "correct_td_new_dummy_matrix = np.array([[0., 3.],\n",
    "                                    [1., 0.],\n",
    "                                    [0., 2.],\n",
    "                                    [3., 3.],\n",
    "                                    [1., 1.],\n",
    "                                    [0., 1.],\n",
    "                                    [0., 1.],\n",
    "                                    [1., 0.],\n",
    "                                    [1., 0.]])\n",
    "\n",
    "assert_array_equal(create_term_doc_matrix_queries(new_dummy_songs, sorted_dummy_vocab),np.array([[0., 0.],\n",
    "                                                                                        [1., 0.],\n",
    "                                                                                        [0., 0.],\n",
    "                                                                                        [1., 0.],\n",
    "                                                                                        [1., 0.],\n",
    "                                                                                        [0., 0.],\n",
    "                                                                                        [0., 0.],\n",
    "                                                                                        [1., 0.],\n",
    "                                                                                        [0., 0.]]))\n",
    "\n"
   ]
  },
  {
   "cell_type": "markdown",
   "metadata": {
    "deletable": false,
    "editable": false,
    "nbgrader": {
     "cell_type": "markdown",
     "checksum": "b918e71386a26a3c91fa2437cddd0b7d",
     "grade": false,
     "grade_id": "cell-b310484643910687",
     "locked": true,
     "schema_version": 3,
     "solution": false,
     "task": false
    }
   },
   "source": [
    "### Step 2: Get tf-idf counts\n",
    "### Step 3: Get PPMI counts\n",
    "### Steps 4-6 transform matrices with LSI"
   ]
  },
  {
   "cell_type": "code",
   "execution_count": 23,
   "metadata": {
    "deletable": false,
    "editable": false,
    "nbgrader": {
     "cell_type": "code",
     "checksum": "ba4874d8bae6f45690de81f4349c8d76",
     "grade": false,
     "grade_id": "cell-722616992bbe0e77",
     "locked": true,
     "schema_version": 3,
     "solution": false,
     "task": false
    }
   },
   "outputs": [
    {
     "name": "stdout",
     "output_type": "stream",
     "text": [
      "nb_doc=  19205.0\n",
      "cd:  [473. 288. 493. 309. 439. 338. 191. 251. 482. 588. 665. 303. 457. 456.\n",
      " 478. 171. 612. 441. 305. 695. 406. 317. 378. 321. 266. 442. 622. 188.\n",
      " 486. 206. 295. 478. 568. 454. 443. 539. 421. 229. 686. 618. 465. 344.\n",
      " 580. 455. 563.]\n"
     ]
    },
    {
     "name": "stderr",
     "output_type": "stream",
     "text": [
      "/opt/conda/lib/python3.7/site-packages/ipykernel_launcher.py:71: RuntimeWarning: divide by zero encountered in log2\n"
     ]
    }
   ],
   "source": [
    "# step 1.2\n",
    "td_queries = create_term_doc_matrix_queries(normalized_query_songs, sorted_vocabulary)\n",
    "# step 2\n",
    "tf_idf_queries = td_queries*idf_vector\n",
    "# step 3\n",
    "ppmi_queries = ppmi(td_matrix, td_queries)\n",
    "\n",
    "# steps 4-6\n",
    "td_queries_dense = lsi(td_matrix,2).T.dot(td_queries)\n",
    "tf_idf_queries_dense = lsi(tf_idf_matrix,2).T.dot(tf_idf_queries)\n",
    "ppmi_queries_dense= lsi(ppmi_matrix,2).T.dot(ppmi_queries)"
   ]
  },
  {
   "cell_type": "markdown",
   "metadata": {},
   "source": [
    "## TASK 6\n",
    "### Cosine similarity\n",
    "Now that we have the documents represented as vectors, we need some measure to be able to compare them to each other. You're going to implement **Cosine similarity**.\n",
    "\n",
    "\n",
    "**Cosine similarity**:\n",
    "\n",
    "$cos(x,y)=\\frac{\\sum_{i=1}^{n}x_iy_i}{\\sqrt{\\sum_{i=1}^{n}x_i^2}\\sqrt{\\sum_{i=1}^{n}y_i^2}}$\n",
    "\n",
    "## 6.1\n",
    "Write the function that implement the cosine similarity measure."
   ]
  },
  {
   "cell_type": "code",
   "execution_count": 24,
   "metadata": {
    "deletable": false,
    "nbgrader": {
     "cell_type": "code",
     "checksum": "3b52a097cb8b4b510f8f440ad9479e5a",
     "grade": false,
     "grade_id": "cell-b4392408fd5115a1",
     "locked": false,
     "schema_version": 3,
     "solution": true,
     "task": false
    }
   },
   "outputs": [],
   "source": [
    "import math\n",
    "import numbers\n",
    "def cosine(doc1,doc2):\n",
    "    \"\"\"\n",
    "    this function takes in two document vectors and computes cosine similarity between them\n",
    "        when any of the vectors contains only zeros, their similarity is unknown (no common words)\n",
    "        your function should output -inf\n",
    "    \n",
    "    INPUT:\n",
    "    doc1 - the first document vector \n",
    "    doc2 - the second document vector \n",
    "    OUTPUT:\n",
    "    score - cosine similarity\n",
    "    \"\"\"\n",
    "    \n",
    "    # YOUR CODE HERE\n",
    "    #print(\"doc1 = \", doc1)\n",
    "    #print(\"doc2 = \", doc2)\n",
    "    \n",
    "    if np.count_nonzero(doc1) == 0:\n",
    "        return float(\"-inf\")\n",
    "    if np.count_nonzero(doc2) == 0:\n",
    "        return float(\"-inf\")\n",
    "    #print(\"doc1*doc2=\", doc1*doc2)\n",
    "    numerator = sum(doc1*doc2)\n",
    "   \n",
    "    #print(\"numerator = \", numerator)\n",
    "    ddoc1 = np.sum(doc1**2)\n",
    "    ddoc2 = np.sum(doc2**2)\n",
    "    \n",
    "    #print(\"====== doc1 ======\")\n",
    "    #print(\"ddoc1.shape = \", np.shape(ddoc1), \" and ddoc1 = \", ddoc1)\n",
    "    ddoc1 = math.sqrt(ddoc1)\n",
    "    #print(\"ddoc1.shape = \", np.shape(ddoc1), \" and ddoc1 = \", ddoc1)\n",
    "    #print(\"====== doc2 ======\")\n",
    "    #print(\"ddoc2.shape = \", np.shape(ddoc2), \" and ddoc2 = \", ddoc2)\n",
    "    ddoc2 = math.sqrt(ddoc2)\n",
    "    #print(\"ddoc2.shape = \", np.shape(ddoc2), \" and ddoc2 = \", ddoc2)\n",
    "    #print(\"==================\")\n",
    "    score = []\n",
    "    score.append((numerator / (ddoc1 * ddoc2)))\n",
    "    #print(\"len(score): \", len(score), \" & score: \", score)\n",
    "    #if len(score) > 1:\n",
    "    #    score = sum(score)\n",
    "    #print(\"len(score): \", len(score), \" & score: \", score)\n",
    "    return score"
   ]
  },
  {
   "cell_type": "code",
   "execution_count": 25,
   "metadata": {
    "deletable": false,
    "editable": false,
    "nbgrader": {
     "cell_type": "code",
     "checksum": "8d0db129716995f091b175bc2100c0b1",
     "grade": true,
     "grade_id": "cell-51815dda76c169ce",
     "locked": true,
     "points": 1,
     "schema_version": 3,
     "solution": false,
     "task": false
    }
   },
   "outputs": [],
   "source": [
    "from numpy.testing import assert_almost_equal, assert_array_equal, assert_allclose\n",
    "from nose.tools import assert_equal\n",
    "\n",
    "dummy_x = np.arange(3)\n",
    "dummy_y = np.arange(3,6)\n",
    "\n",
    "assert_almost_equal(cosine(dummy_x,dummy_y),0.8854377448471461, 3)\n"
   ]
  },
  {
   "cell_type": "markdown",
   "metadata": {},
   "source": [
    "## TASK 7\n",
    "### IR quality\n",
    "\n",
    "All-in-all we have 6 systems now: raw counts, tf-idf, PPMI, and LSI applied to the first three systems.\n",
    "\n",
    "Let's see which of them works best. We're are going to use as queries previously unseen songs. For Pulp it's going to be songs from *This is Hardcode* and for Kanye it's going to be songs from  *My Beautiful Dark Twisted Fantasy*\n",
    "\n",
    "For every song in our query songs we're going to look at 7 closest songs from our collection and see how many of those are from the same artist.\n",
    "\n",
    "## 7.1 \n",
    "### Find N closest documents to a quesry song\n",
    "Write a function that compares new songs to the songs in our collection. For each song, it should give out an index of top N most similar songs from our collection."
   ]
  },
  {
   "cell_type": "code",
   "execution_count": 30,
   "metadata": {
    "deletable": false,
    "nbgrader": {
     "cell_type": "code",
     "checksum": "923d2a0ee6918d926184af834a5668cd",
     "grade": false,
     "grade_id": "cell-1dad28ebe8df8527",
     "locked": false,
     "schema_version": 3,
     "solution": true,
     "task": false
    }
   },
   "outputs": [],
   "source": [
    "def closest_n_documents(matrix_collection, matrix_queries, n):\n",
    "    \"\"\"\n",
    "    this function takes in original document collection, new document collection,\n",
    "    computes cosine similarity between documents in old and new collection, \n",
    "    and outputs the list of n-closest documents to each new song.\n",
    "    INPUT:\n",
    "    matrix_collection - a term-document matrix of collection songs \n",
    "    matrix_queries - a term-document matrix of query songs \n",
    "    n - number of best documents\n",
    "    OUTPUT:\n",
    "    closest_docs - a list of lists of length matrix_queries.shape[1]\n",
    "        each element is a list of n idices of documents in matrix_collection that were closest to the query\n",
    "    \"\"\"\n",
    "    # YOUR CODE HERE\n",
    "    print(\"matrix_collection(shape): \", np.shape(matrix_collection),\" & val= \") \n",
    "    print(matrix_collection)\n",
    "    print(\"=================\")\n",
    "    print(\"matrix_queries(shape): \", np.shape(matrix_queries), \" & val= \") \n",
    "    print(matrix_queries)\n",
    "    best_cosines = np.zeros((np.shape(matrix_queries)[1], n))\n",
    "    #best_cosines = []\n",
    "    \n",
    "    print(\"matrix_queries(shape): \", np.shape(matrix_queries), \"& val: \", matrix_queries )\n",
    "    \n",
    "    #for i , song in enumerate(best_cosines):\n",
    "    #    for j , index in enumerate(best_cosines):\n",
    "    #        for song in matrix_queries.T:\n",
    "    #            tmp = []\n",
    "    #            for clc in matrix_collection.T:\n",
    "    #                tmp.append(cosine(clc, song))\n",
    "    #        best_cosines[i][j] = [sorted(tmp)[-n:]]\n",
    "            \n",
    "    best_cosines = []\n",
    "    for doc1 in matrix_queries.T:\n",
    "        res = np.array([cosine(doc1, doc2) for doc2 in matrix_collection.T])\n",
    "        best_cosines.append(list(res.argsort()[-n:][::-1]))\n",
    "    \n",
    "    #for term in matrix_queries:\n",
    "    #    for song in matrix_queries:\n",
    "    #        tmp = []\n",
    "    #        for clc in matrix_collection:\n",
    "    #            tmp.append(cosine(clc, song))\n",
    "    #    best_cosines.append([tmp])\n",
    "\n",
    "    print(\"===========best_cosines==========\")\n",
    "    print(\"shape: \", np.shape(best_cosines))\n",
    "    #print(best_cosines)\n",
    "    print(\"=================================\")\n",
    "    return best_cosines"
   ]
  },
  {
   "cell_type": "code",
   "execution_count": 31,
   "metadata": {
    "deletable": false,
    "editable": false,
    "nbgrader": {
     "cell_type": "code",
     "checksum": "237b10f04eff449c68572a8fe89a64c7",
     "grade": true,
     "grade_id": "cell-0cbe6d8fd7344b44",
     "locked": true,
     "points": 2,
     "schema_version": 3,
     "solution": false,
     "task": false
    }
   },
   "outputs": [
    {
     "name": "stdout",
     "output_type": "stream",
     "text": [
      "matrix_collection(shape):  (5, 3)  & val= \n",
      "[[ 0  1  2]\n",
      " [ 3  4  5]\n",
      " [ 6  7  8]\n",
      " [ 9 10 11]\n",
      " [12 13 14]]\n",
      "=================\n",
      "matrix_queries(shape):  (5, 1)  & val= \n",
      "[[0]\n",
      " [1]\n",
      " [2]\n",
      " [3]\n",
      " [4]]\n",
      "matrix_queries(shape):  (5, 1) & val:  [[0]\n",
      " [1]\n",
      " [2]\n",
      " [3]\n",
      " [4]]\n",
      "===========best_cosines==========\n",
      "shape:  (1, 1, 1)\n",
      "=================================\n",
      "matrix_collection(shape):  (5, 3)  & val= \n",
      "[[ 0  1  2]\n",
      " [ 3  4  5]\n",
      " [ 6  7  8]\n",
      " [ 9 10 11]\n",
      " [12 13 14]]\n",
      "=================\n",
      "matrix_queries(shape):  (5, 1)  & val= \n",
      "[[0]\n",
      " [1]\n",
      " [2]\n",
      " [3]\n",
      " [4]]\n",
      "matrix_queries(shape):  (5, 1) & val:  [[0]\n",
      " [1]\n",
      " [2]\n",
      " [3]\n",
      " [4]]\n",
      "===========best_cosines==========\n",
      "shape:  (1, 1, 1)\n",
      "=================================\n",
      "matrix_collection(shape):  (5, 3)  & val= \n",
      "[[ 0  1  2]\n",
      " [ 3  4  5]\n",
      " [ 6  7  8]\n",
      " [ 9 10 11]\n",
      " [12 13 14]]\n",
      "=================\n",
      "matrix_queries(shape):  (5, 1)  & val= \n",
      "[[0]\n",
      " [1]\n",
      " [2]\n",
      " [3]\n",
      " [4]]\n",
      "matrix_queries(shape):  (5, 1) & val:  [[0]\n",
      " [1]\n",
      " [2]\n",
      " [3]\n",
      " [4]]\n",
      "===========best_cosines==========\n",
      "shape:  (1, 1, 1)\n",
      "=================================\n"
     ]
    }
   ],
   "source": [
    "from numpy.testing import assert_almost_equal, assert_array_equal, assert_allclose\n",
    "from nose.tools import assert_equal\n",
    "\n",
    "\n",
    "dummy_collection = np.arange(15).reshape((5,3))\n",
    "dummy_query = np.arange(5).reshape((5,1))\n",
    "\n",
    "# CHECKING THE GENERAL PROPERTIES OF THE OUTPUT\n",
    "# check the length of the list\n",
    "assert_equal(len(closest_n_documents(dummy_collection, dummy_query, 1)), 1)\n",
    "# check the len of the first element\n",
    "assert_equal(len(closest_n_documents(dummy_collection, dummy_query, 1)[0]), 1)\n",
    "\n",
    "# CHECKING THAT THE FUNCTION IS WORKING AS IT SHOULD\n",
    "closest_vector_id = closest_n_documents(dummy_collection, dummy_query, 1)[0][0]\n",
    "assert_equal(closest_vector_id, 0)"
   ]
  },
  {
   "cell_type": "markdown",
   "metadata": {
    "deletable": false,
    "editable": false,
    "nbgrader": {
     "cell_type": "markdown",
     "checksum": "8905b59dc4bf1f7f970b1027de662652",
     "grade": false,
     "grade_id": "cell-11622188becf085e",
     "locked": true,
     "schema_version": 3,
     "solution": false,
     "task": false
    }
   },
   "source": [
    "### Collect performance statistics for every query song by every model\n",
    "The code below looks how many songs out of the closest 7 were by the same artist."
   ]
  },
  {
   "cell_type": "code",
   "execution_count": 32,
   "metadata": {
    "deletable": false,
    "editable": false,
    "nbgrader": {
     "cell_type": "code",
     "checksum": "bf42dad1532867976862d823c8f73010",
     "grade": false,
     "grade_id": "cell-66f7cc70ed212d08",
     "locked": true,
     "schema_version": 3,
     "solution": false,
     "task": false
    }
   },
   "outputs": [
    {
     "name": "stdout",
     "output_type": "stream",
     "text": [
      "matrix_collection(shape):  (1594, 45)  & val= \n",
      "[[ 0.  0.  0. ...  0.  0.  9.]\n",
      " [ 1.  0.  0. ... 15. 12. 25.]\n",
      " [ 0.  0.  0. ...  6.  0.  1.]\n",
      " ...\n",
      " [ 0.  0.  0. ...  1.  0.  0.]\n",
      " [ 0.  0.  0. ...  0.  0.  0.]\n",
      " [ 0.  0.  0. ...  0.  0.  0.]]\n",
      "=================\n",
      "matrix_queries(shape):  (1594, 28)  & val= \n",
      "[[ 0. 20.  1. ...  0.  0.  0.]\n",
      " [ 0.  4.  1. ...  0.  0.  0.]\n",
      " [ 1.  9.  0. ...  1.  1.  0.]\n",
      " ...\n",
      " [ 0.  0.  0. ...  0.  0.  0.]\n",
      " [ 0.  0.  0. ...  0.  0.  0.]\n",
      " [ 0.  0. 19. ...  0.  0.  0.]]\n",
      "matrix_queries(shape):  (1594, 28) & val:  [[ 0. 20.  1. ...  0.  0.  0.]\n",
      " [ 0.  4.  1. ...  0.  0.  0.]\n",
      " [ 1.  9.  0. ...  1.  1.  0.]\n",
      " ...\n",
      " [ 0.  0.  0. ...  0.  0.  0.]\n",
      " [ 0.  0.  0. ...  0.  0.  0.]\n",
      " [ 0.  0. 19. ...  0.  0.  0.]]\n",
      "===========best_cosines==========\n",
      "shape:  (28, 7, 1)\n",
      "=================================\n",
      "matrix_collection(shape):  (1594, 45)  & val= \n",
      "[[ 0.          0.          0.         ...  0.          0.\n",
      "   5.50637846]\n",
      " [ 0.57403127  0.          0.         ...  8.61046902  6.88837521\n",
      "  14.35078169]\n",
      " [ 0.          0.          0.         ...  2.69455519  0.\n",
      "   0.44909253]\n",
      " ...\n",
      " [ 0.          0.          0.         ...  1.65321251  0.\n",
      "   0.        ]\n",
      " [ 0.          0.          0.         ...  0.          0.\n",
      "   0.        ]\n",
      " [ 0.          0.          0.         ...  0.          0.\n",
      "   0.        ]]\n",
      "=================\n",
      "matrix_queries(shape):  (1594, 28)  & val= \n",
      "[[ 0.         12.23639657  0.61181983 ...  0.          0.\n",
      "   0.        ]\n",
      " [ 0.          2.29612507  0.57403127 ...  0.          0.\n",
      "   0.        ]\n",
      " [ 0.44909253  4.04183278  0.         ...  0.44909253  0.44909253\n",
      "   0.        ]\n",
      " ...\n",
      " [ 0.          0.          0.         ...  0.          0.\n",
      "   0.        ]\n",
      " [ 0.          0.          0.         ...  0.          0.\n",
      "   0.        ]\n",
      " [ 0.          0.         31.41103776 ...  0.          0.\n",
      "   0.        ]]\n",
      "matrix_queries(shape):  (1594, 28) & val:  [[ 0.         12.23639657  0.61181983 ...  0.          0.\n",
      "   0.        ]\n",
      " [ 0.          2.29612507  0.57403127 ...  0.          0.\n",
      "   0.        ]\n",
      " [ 0.44909253  4.04183278  0.         ...  0.44909253  0.44909253\n",
      "   0.        ]\n",
      " ...\n",
      " [ 0.          0.          0.         ...  0.          0.\n",
      "   0.        ]\n",
      " [ 0.          0.          0.         ...  0.          0.\n",
      "   0.        ]\n",
      " [ 0.          0.         31.41103776 ...  0.          0.\n",
      "   0.        ]]\n",
      "===========best_cosines==========\n",
      "shape:  (28, 7, 1)\n",
      "=================================\n",
      "matrix_collection(shape):  (1594, 45)  & val= \n",
      "[[0.         0.         0.         ... 0.         0.         3.35523764]\n",
      " [0.         0.         0.         ... 2.17481614 2.2030744  2.95469971]\n",
      " [0.         0.         0.         ... 2.14239466 0.         0.        ]\n",
      " ...\n",
      " [0.         0.         0.         ... 5.04928525 0.         0.        ]\n",
      " [0.         0.         0.         ... 0.         0.         0.        ]\n",
      " [0.         0.         0.         ... 0.         0.         0.        ]]\n",
      "=================\n",
      "matrix_queries(shape):  (1594, 28)  & val= \n",
      "[[       -inf  3.54883482  0.29993593 ...        -inf        -inf\n",
      "         -inf]\n",
      " [       -inf -0.64756239 -1.57453318 ...        -inf        -inf\n",
      "         -inf]\n",
      " [ 1.19818244  1.81186923        -inf ...  1.05084072  0.91079276\n",
      "         -inf]\n",
      " ...\n",
      " [ 0.          0.          0.         ...  0.          0.\n",
      "   0.        ]\n",
      " [ 0.          0.          0.         ...  0.          0.\n",
      "   0.        ]\n",
      " [       -inf        -inf  9.45475404 ...        -inf        -inf\n",
      "         -inf]]\n",
      "matrix_queries(shape):  (1594, 28) & val:  [[       -inf  3.54883482  0.29993593 ...        -inf        -inf\n",
      "         -inf]\n",
      " [       -inf -0.64756239 -1.57453318 ...        -inf        -inf\n",
      "         -inf]\n",
      " [ 1.19818244  1.81186923        -inf ...  1.05084072  0.91079276\n",
      "         -inf]\n",
      " ...\n",
      " [ 0.          0.          0.         ...  0.          0.\n",
      "   0.        ]\n",
      " [ 0.          0.          0.         ...  0.          0.\n",
      "   0.        ]\n",
      " [       -inf        -inf  9.45475404 ...        -inf        -inf\n",
      "         -inf]]\n"
     ]
    },
    {
     "name": "stderr",
     "output_type": "stream",
     "text": [
      "/opt/conda/lib/python3.7/site-packages/ipykernel_launcher.py:25: RuntimeWarning: invalid value encountered in multiply\n"
     ]
    },
    {
     "name": "stdout",
     "output_type": "stream",
     "text": [
      "===========best_cosines==========\n",
      "shape:  (28, 7, 1)\n",
      "=================================\n",
      "matrix_collection(shape):  (2, 45)  & val= \n",
      "[[-44.54519571 -34.4122765  -55.39650439 -31.98026103 -33.79570153\n",
      "  -34.48679385 -14.387621   -14.92983798 -50.42294282 -61.20765459\n",
      "  -56.53036894 -44.18990079 -49.33790554 -55.89837132 -37.47490081\n",
      "  -15.44595354 -81.86502067 -59.36374696 -36.01137623 -88.1561378\n",
      "  -64.58317893 -29.02970444 -40.96906375 -32.52994103 -29.34219587\n",
      "  -43.75197822 -66.82227388 -17.37277957 -69.5774115  -22.96646615\n",
      "  -36.75078377 -54.98578662 -73.77562111 -63.55056028 -64.47852408\n",
      "  -57.39549573 -56.2987003  -43.44840706 -90.08101197 -72.39449503\n",
      "  -62.74170879 -43.6157182  -59.29420233 -47.52017982 -61.98644663]\n",
      " [ 14.04295061   7.86647494  18.78328424  10.02398273   6.18302797\n",
      "    2.3437646    2.4607265   12.02325964   9.6997246    6.04773828\n",
      "   27.34107091   2.79914443  10.6560938   14.68731935  20.79541569\n",
      "    6.87701033  25.57195538  14.38087352  13.85605419  -2.0378578\n",
      "  -15.67642582  14.5410813    7.29617818  17.91509344   8.23969249\n",
      "   15.93972473  -5.66091235  -6.64338368   0.53786043   6.45783854\n",
      "  -15.7732809   15.86314147  13.22652572 -17.06046581 -40.93606339\n",
      "   11.34620366 -30.02296713  -8.00477354 -33.94125322 -11.158407\n",
      "  -25.91427883  -6.86217854  -2.11310096  -4.10963519 -28.37266565]]\n",
      "=================\n",
      "matrix_queries(shape):  (2, 28)  & val= \n",
      "[[-1.59008074e+01 -1.29659917e+02 -5.11037634e+01 -8.59561896e+01\n",
      "  -7.80405817e+01 -1.25865501e+02 -1.38377728e+02 -8.39352406e+01\n",
      "  -6.71259948e+01 -1.09687486e+02 -8.65250603e+01 -7.70005875e+01\n",
      "  -4.80538097e+01 -2.12059513e+01 -2.31371565e+01 -3.09211570e+01\n",
      "  -2.99272425e+01 -3.86490272e+01 -6.70757444e+01 -3.26517739e+01\n",
      "  -4.58450193e+01 -1.90528625e+01 -3.66372625e+01 -2.90977423e+01\n",
      "  -3.31343071e+01 -2.18626327e+01 -2.32450334e+01 -1.55293891e+01]\n",
      " [ 3.94830807e+00  1.57949582e+00  2.43655332e-02 -1.73376325e+01\n",
      "  -1.20529766e+01 -1.97313398e+01 -4.08741876e+01 -1.59967715e+01\n",
      "  -1.64923137e+01 -2.32265152e+01 -4.13596117e+00 -2.16441703e+01\n",
      "   1.12330159e+01  1.54925161e+01  5.99343898e+00  5.24059345e+00\n",
      "   4.46218895e+00  1.03342515e+01 -5.79269699e+00  1.53675769e+01\n",
      "  -6.39905646e+00  2.52614270e+00  2.39895310e+00  1.20995054e+01\n",
      "   1.81032765e+01 -8.04499910e-01  1.13839711e+01  2.26796714e+00]]\n",
      "matrix_queries(shape):  (2, 28) & val:  [[-1.59008074e+01 -1.29659917e+02 -5.11037634e+01 -8.59561896e+01\n",
      "  -7.80405817e+01 -1.25865501e+02 -1.38377728e+02 -8.39352406e+01\n",
      "  -6.71259948e+01 -1.09687486e+02 -8.65250603e+01 -7.70005875e+01\n",
      "  -4.80538097e+01 -2.12059513e+01 -2.31371565e+01 -3.09211570e+01\n",
      "  -2.99272425e+01 -3.86490272e+01 -6.70757444e+01 -3.26517739e+01\n",
      "  -4.58450193e+01 -1.90528625e+01 -3.66372625e+01 -2.90977423e+01\n",
      "  -3.31343071e+01 -2.18626327e+01 -2.32450334e+01 -1.55293891e+01]\n",
      " [ 3.94830807e+00  1.57949582e+00  2.43655332e-02 -1.73376325e+01\n",
      "  -1.20529766e+01 -1.97313398e+01 -4.08741876e+01 -1.59967715e+01\n",
      "  -1.64923137e+01 -2.32265152e+01 -4.13596117e+00 -2.16441703e+01\n",
      "   1.12330159e+01  1.54925161e+01  5.99343898e+00  5.24059345e+00\n",
      "   4.46218895e+00  1.03342515e+01 -5.79269699e+00  1.53675769e+01\n",
      "  -6.39905646e+00  2.52614270e+00  2.39895310e+00  1.20995054e+01\n",
      "   1.81032765e+01 -8.04499910e-01  1.13839711e+01  2.26796714e+00]]\n",
      "===========best_cosines==========\n",
      "shape:  (28, 7, 1)\n",
      "=================================\n",
      "matrix_collection(shape):  (2, 45)  & val= \n",
      "[[ -0.64125164  -0.44109484  -6.66243966  -0.6214257   -1.28020851\n",
      "   -0.60496751  -0.4098938   -2.44443338  -0.83306279  -2.65975351\n",
      "   -5.03724217  -0.51529182  -0.90564614  -0.66928236  -0.64084234\n",
      "   -0.3711944   -1.06612898  -0.76413765  -0.47554535  -1.26793314\n",
      "   -0.69772561  -0.42643626  -0.4576125   -0.48041157  -0.32183125\n",
      "   -0.84852077  -1.13928933  -0.30117951  -1.03695414  -0.35512115\n",
      "   -0.52505564  -1.66179384  -1.65214856  -1.04746588 -75.45620978\n",
      "   -1.32070487  -0.90111177  -0.59874189  -1.42212205  -1.5783817\n",
      "   -0.86768135  -1.02718906  -1.29562891  -0.54313677  -1.18910129]\n",
      " [  1.70038694   0.92815239  60.37643917   1.44310023   1.38326967\n",
      "    1.43218657   0.75283889  19.75946019   1.78311184  17.21171602\n",
      "   19.20393161   1.44976632   1.62834055   1.76554298   1.70287371\n",
      "    0.62876432   1.93086888   1.55568064   0.86278123   3.99941702\n",
      "    1.43663437   1.14315597   1.18971715   1.25135395   0.88766597\n",
      "    1.78465579   2.65690211   0.81057214   1.53605071   0.7873576\n",
      "    0.93980961   8.66894369   2.51269382   1.58614256  -8.83725049\n",
      "    2.09067205   1.92083091   1.75873293   2.87975293   2.62885234\n",
      "    1.69552043   1.3498602    2.36497253   1.2512596    2.34597624]]\n",
      "=================\n",
      "matrix_queries(shape):  (2, 28)  & val= \n",
      "[[-1.67313232 -1.98673845 -0.90971989 -2.01056461 -1.30898729 -3.21902778\n",
      "  -3.23434571 -1.41303337 -1.39059857 -1.88904818 -0.88137165 -1.33895481\n",
      "  -1.13293928 -0.52327512 -0.3280691  -0.59672263 -0.49465984 -0.74181145\n",
      "  -1.02696105 -0.59651023 -0.55214062 -0.32593323 -0.48801483 -0.56167785\n",
      "  -0.4368474  -0.35841913 -0.35149304 -0.26711286]\n",
      " [ 0.73694388  3.953928    3.01949087  2.77114025  2.13673572  3.02823528\n",
      "   4.48615053  2.94521003  2.12502239  3.93587722  1.48473918  2.01820359\n",
      "   2.21774425  1.22760746  0.89444138  1.67510919  0.9665546   1.18424252\n",
      "   1.80498301  1.42109172  1.07752847  0.81993052  0.96099791  1.09340732\n",
      "   1.25701322  0.73448196  0.92994514  0.63847015]]\n",
      "matrix_queries(shape):  (2, 28) & val:  [[-1.67313232 -1.98673845 -0.90971989 -2.01056461 -1.30898729 -3.21902778\n",
      "  -3.23434571 -1.41303337 -1.39059857 -1.88904818 -0.88137165 -1.33895481\n",
      "  -1.13293928 -0.52327512 -0.3280691  -0.59672263 -0.49465984 -0.74181145\n",
      "  -1.02696105 -0.59651023 -0.55214062 -0.32593323 -0.48801483 -0.56167785\n",
      "  -0.4368474  -0.35841913 -0.35149304 -0.26711286]\n",
      " [ 0.73694388  3.953928    3.01949087  2.77114025  2.13673572  3.02823528\n",
      "   4.48615053  2.94521003  2.12502239  3.93587722  1.48473918  2.01820359\n",
      "   2.21774425  1.22760746  0.89444138  1.67510919  0.9665546   1.18424252\n",
      "   1.80498301  1.42109172  1.07752847  0.81993052  0.96099791  1.09340732\n",
      "   1.25701322  0.73448196  0.92994514  0.63847015]]\n",
      "===========best_cosines==========\n",
      "shape:  (28, 7, 1)\n",
      "=================================\n",
      "matrix_collection(shape):  (2, 45)  & val= \n",
      "[[-7.46218488e+00 -8.00943414e+00 -5.82510157e+00 -6.32094386e+00\n",
      "  -1.19942577e+01 -8.71828773e+00 -9.27162448e+00 -8.92651806e+00\n",
      "  -8.56855250e+00 -1.85151728e+01 -1.14399219e+01 -5.86279349e+00\n",
      "  -8.20385397e+00 -9.74114314e+00 -1.83951941e+01 -6.27737846e+00\n",
      "  -5.89895347e+00 -5.10747987e+00 -6.46956449e+00 -8.48022179e+00\n",
      "  -7.08992646e+00 -8.00794336e+00 -1.20340887e+01 -8.74775384e+00\n",
      "  -5.72416504e+00 -8.72558927e+00 -8.55962722e+00 -3.84945921e+00\n",
      "  -5.84554802e+00 -5.45293684e+00 -3.01623935e+00 -6.62318312e+00\n",
      "  -5.90019921e+00 -5.37792004e+00 -5.76971033e+00 -7.53969231e+00\n",
      "  -5.69680673e+00 -5.09745076e+00 -1.30540275e+01 -1.18889511e+01\n",
      "  -8.42958757e+00 -7.66013184e+00 -1.31488047e+01 -1.14369757e+01\n",
      "  -1.34317747e+01]\n",
      " [ 3.19887287e-02 -1.92569366e-02 -1.15925709e+00 -1.22039838e-01\n",
      "  -9.47214226e-01  1.61627306e-01  3.09082069e-01 -1.07373539e+00\n",
      "  -7.01964100e-01 -9.64810343e+00 -1.22805247e+00 -1.64973915e-01\n",
      "  -5.23794248e-01  1.38260755e-01 -3.13089755e+01  4.05920980e-01\n",
      "  -3.87401469e-01 -1.49753779e+00  1.86113196e-02 -1.04630912e+00\n",
      "  -1.05235979e+00 -2.29314911e+00 -5.19402789e+00 -1.20756178e+00\n",
      "   2.61281279e-02 -1.67443426e-01  2.18608454e+00 -8.88346352e-01\n",
      "   1.17147669e+00  1.63433099e-01 -2.80665872e-02  7.47346251e-01\n",
      "   1.05358916e+00  6.56293004e-01  6.40499298e-01  8.52281685e-01\n",
      "   1.51602686e-01 -1.73833512e-01  5.37359918e+00  1.29701722e+01\n",
      "   1.03723438e+00  1.73263418e+00  6.37408740e+00  2.41232595e+01\n",
      "   1.97435784e+01]]\n",
      "=================\n",
      "matrix_queries(shape):  (2, 28)  & val= \n",
      "[[inf inf inf inf inf inf inf inf inf inf inf inf inf inf inf inf inf inf\n",
      "  inf inf inf inf inf inf inf inf inf inf]\n",
      " [nan nan nan nan nan nan nan nan nan nan nan nan nan nan nan nan nan nan\n",
      "  nan nan nan nan nan nan nan nan nan nan]]\n",
      "matrix_queries(shape):  (2, 28) & val:  [[inf inf inf inf inf inf inf inf inf inf inf inf inf inf inf inf inf inf\n",
      "  inf inf inf inf inf inf inf inf inf inf]\n",
      " [nan nan nan nan nan nan nan nan nan nan nan nan nan nan nan nan nan nan\n",
      "  nan nan nan nan nan nan nan nan nan nan]]\n"
     ]
    },
    {
     "name": "stdout",
     "output_type": "stream",
     "text": [
      "===========best_cosines==========\n",
      "shape:  (28, 7, 1)\n",
      "=================================\n"
     ]
    }
   ],
   "source": [
    "models = [td_matrix, tf_idf_matrix, ppmi_matrix, \n",
    "          td_matrix_dense, tf_idf_matrix_dense, ppmi_matrix_dense]\n",
    "queries = [td_queries, tf_idf_queries, ppmi_queries,\n",
    "           td_queries_dense, tf_idf_queries_dense, ppmi_queries_dense]\n",
    "\n",
    "pulp_ids_collection = list(range(25))\n",
    "pulp_ids_query = list(range(12, td_queries.shape[1]))\n",
    "kanye_ids_collection = list(range(25, td_matrix.shape[1]))\n",
    "kanye_ids_query = list(range(12))\n",
    "\n",
    "relevance_pulp = []\n",
    "relevance_kanye = []\n",
    "for i in range(len(models)):\n",
    "    model_relevance_pulp = []\n",
    "    model_relevance_kanye = []\n",
    "    \n",
    "    # collect results \n",
    "    model_results = closest_n_documents(models[i], queries[i], 7)\n",
    "\n",
    "    #check pulp\n",
    "    for song_id in pulp_ids_query:\n",
    "        model_relevance_pulp.append(sum([1 for song in model_results[song_id] if (song in pulp_ids_collection)]))\n",
    "    relevance_pulp.append(model_relevance_pulp)\n",
    "    # check kanye\n",
    "    for song_id in kanye_ids_query:\n",
    "        model_relevance_kanye.append(sum([1 for song in model_results[song_id] if (song in kanye_ids_collection)]))\n",
    "    relevance_kanye.append(model_relevance_kanye)       "
   ]
  },
  {
   "cell_type": "markdown",
   "metadata": {
    "deletable": false,
    "editable": false,
    "nbgrader": {
     "cell_type": "markdown",
     "checksum": "519df8de7fdc9857d6aa1cf0329033b5",
     "grade": false,
     "grade_id": "cell-4c1f7140f72388a4",
     "locked": true,
     "schema_version": 3,
     "solution": false,
     "task": false
    }
   },
   "source": [
    "## 7.2 \n",
    "### Compare models\n",
    "Now we've collected results for each model and for each song in our test corpus let's evaluate our models. We will be looking at five measures: \n",
    "\n",
    "1. Precision = $\\frac{tp}{tp + fp}$ (how many right answers from all answers)\n",
    "2. Recall = $\\frac{tp}{tp + fn}$ (how many right answers from all possible right answers)\n",
    "3. Accuracy = $\\frac{tp+tn}{N}$ (how many right artists were chosen and how many wrong artist we NOT chosen, out of all songs in collection)\n",
    "4. Error = $\\frac{fp+fn}{N}$ (how many right artists were NOT chosen, and how many wrong artist we chosen, out of all songs in collection)\n",
    "5. F-measure $\\frac{1}{\\alpha\\frac{1}{P}+(1-\\alpha)\\frac{1}{R}}$\n",
    "$P$ stands for precision and $R$ for recall, while $\\alpha$ controls the weighting between them. If we choose $\\alpha = 0.5$,\n",
    "$F = \\frac{2PR}{P+R}$\n",
    "\n",
    "\n",
    "Here: $tp$ = True Positives, $fp$ = False Positives, $fn$ = False Negatives, $tn$ = True Negatives, $N$ = the size of the collection.\n",
    "\n",
    "\n",
    "In the cell below, calculate the mean measure for every model. That is: count the results, sum them and divide by the number of songs in the training set. For the F-measure choose $\\alpha = 0.5$."
   ]
  },
  {
   "cell_type": "code",
   "execution_count": 33,
   "metadata": {
    "deletable": false,
    "nbgrader": {
     "cell_type": "code",
     "checksum": "64db7f395fea4cf104c9f898f9bc4d09",
     "grade": false,
     "grade_id": "cell-d775da483aa9b6c6",
     "locked": false,
     "schema_version": 3,
     "solution": true,
     "task": false
    }
   },
   "outputs": [
    {
     "ename": "NotImplementedError",
     "evalue": "",
     "output_type": "error",
     "traceback": [
      "\u001b[0;31m---------------------------------------------------------------------------\u001b[0m",
      "\u001b[0;31mNotImplementedError\u001b[0m                       Traceback (most recent call last)",
      "\u001b[0;32m<ipython-input-33-64e5d01ff5db>\u001b[0m in \u001b[0;36m<module>\u001b[0;34m\u001b[0m\n\u001b[1;32m     15\u001b[0m \u001b[0;31m#Remember to remove the raise NotImplementedError line:\u001b[0m\u001b[0;34m\u001b[0m\u001b[0;34m\u001b[0m\u001b[0;34m\u001b[0m\u001b[0m\n\u001b[1;32m     16\u001b[0m \u001b[0;31m# YOUR CODE HERE\u001b[0m\u001b[0;34m\u001b[0m\u001b[0;34m\u001b[0m\u001b[0;34m\u001b[0m\u001b[0m\n\u001b[0;32m---> 17\u001b[0;31m \u001b[0;32mraise\u001b[0m \u001b[0mNotImplementedError\u001b[0m\u001b[0;34m(\u001b[0m\u001b[0;34m)\u001b[0m\u001b[0;34m\u001b[0m\u001b[0;34m\u001b[0m\u001b[0m\n\u001b[0m\u001b[1;32m     18\u001b[0m \u001b[0;34m\u001b[0m\u001b[0m\n\u001b[1;32m     19\u001b[0m \u001b[0mmodel_names\u001b[0m \u001b[0;34m=\u001b[0m \u001b[0;34m[\u001b[0m\u001b[0;34m\"raw counts\"\u001b[0m\u001b[0;34m,\u001b[0m \u001b[0;34m\"tf-idf\"\u001b[0m\u001b[0;34m,\u001b[0m \u001b[0;34m\"PPMI\"\u001b[0m\u001b[0;34m,\u001b[0m \u001b[0;34m\"LSI raw counts\"\u001b[0m\u001b[0;34m,\u001b[0m \u001b[0;34m\"LSI tf-idf\"\u001b[0m\u001b[0;34m,\u001b[0m \u001b[0;34m\"LSI PPMI\"\u001b[0m\u001b[0;34m]\u001b[0m\u001b[0;34m\u001b[0m\u001b[0;34m\u001b[0m\u001b[0m\n",
      "\u001b[0;31mNotImplementedError\u001b[0m: "
     ]
    }
   ],
   "source": [
    "# the order of models is: raw counts, tf-idf, PPMI, LSI raw counts, LSI tf-idf, LSI PPMI\n",
    "\n",
    "# type in the answer as a list of 6 values\n",
    "average_precision = None\n",
    "# type in the answer as a list of 6 values\n",
    "average_recall = None\n",
    "# type in the answer as a list of 6 values\n",
    "average_accuracy = None\n",
    "# type in the answer as a list of 6 values\n",
    "average_error = None\n",
    "# type in the answer as a list of 6 values\n",
    "average_f_measure = None\n",
    "# type in the answer as a list of 6 values\n",
    "\n",
    "#Remember to remove the raise NotImplementedError line:\n",
    "# YOUR CODE HERE\n",
    "raise NotImplementedError()\n",
    "\n",
    "model_names = [\"raw counts\", \"tf-idf\", \"PPMI\", \"LSI raw counts\", \"LSI tf-idf\", \"LSI PPMI\"]\n",
    "for i, model_name in enumerate(model_names):\n",
    "    print(model_name)\n",
    "    print(\"average previcision:\", average_precision[i])\n",
    "    print(\"average_accuracy:\", average_accuracy[i])\n",
    "    print(\"average_recall:\", average_recall[i])\n",
    "    print(\"average_error:\", average_error[i])\n",
    "    print(\"average_f_measure:\", average_f_measure[i])\n",
    "    print(\"============\")"
   ]
  },
  {
   "cell_type": "code",
   "execution_count": null,
   "metadata": {
    "deletable": false,
    "editable": false,
    "nbgrader": {
     "cell_type": "code",
     "checksum": "759a7c4d86a0c307fec90104fb189ed8",
     "grade": true,
     "grade_id": "cell-ef9e8218ef41689e",
     "locked": true,
     "points": 2,
     "schema_version": 3,
     "solution": false,
     "task": false
    }
   },
   "outputs": [],
   "source": [
    "### This cell contains hidden tests for the correct answers.\n",
    "from numpy.testing import assert_almost_equal, assert_array_equal, assert_allclose\n",
    "from nose.tools import assert_equal\n"
   ]
  },
  {
   "cell_type": "markdown",
   "metadata": {
    "deletable": false,
    "editable": false,
    "nbgrader": {
     "cell_type": "markdown",
     "checksum": "0df861c4f9f8a865e7dea3e97b824c1c",
     "grade": false,
     "grade_id": "cell-ac1d2fe8616c0d95",
     "locked": true,
     "schema_version": 3,
     "solution": false,
     "task": false
    }
   },
   "source": [
    "## 7.3\n",
    "### Choose the best model\n",
    "Answer briefly in the cell below: \n",
    "* What model performed best? \n",
    "* What do you think is the reason?\n"
   ]
  },
  {
   "cell_type": "markdown",
   "metadata": {
    "deletable": false,
    "nbgrader": {
     "cell_type": "markdown",
     "checksum": "590fa408ecca26e07d787ec42aaa2a7f",
     "grade": true,
     "grade_id": "cell-8aad45982ff2d3b7",
     "locked": false,
     "points": 0,
     "schema_version": 3,
     "solution": true,
     "task": false
    }
   },
   "source": [
    "YOUR ANSWER HERE"
   ]
  },
  {
   "cell_type": "code",
   "execution_count": null,
   "metadata": {},
   "outputs": [],
   "source": [
    "# I had a problem with SVD, I mean if I were to implement the function from scratch, as I lack knowledge in eigenvalues eigenvectors"
   ]
  },
  {
   "cell_type": "code",
   "execution_count": null,
   "metadata": {},
   "outputs": [],
   "source": [
    "# The Task 7.1 is so hard I can't even understand How do I reformulate what's written ( List of lists of length ???)"
   ]
  },
  {
   "cell_type": "code",
   "execution_count": null,
   "metadata": {},
   "outputs": [],
   "source": []
  },
  {
   "cell_type": "code",
   "execution_count": null,
   "metadata": {},
   "outputs": [],
   "source": []
  },
  {
   "cell_type": "code",
   "execution_count": null,
   "metadata": {},
   "outputs": [],
   "source": []
  }
 ],
 "metadata": {
  "kernelspec": {
   "display_name": "Python 3",
   "language": "python",
   "name": "python3"
  },
  "language_info": {
   "codemirror_mode": {
    "name": "ipython",
    "version": 3
   },
   "file_extension": ".py",
   "mimetype": "text/x-python",
   "name": "python",
   "nbconvert_exporter": "python",
   "pygments_lexer": "ipython3",
   "version": "3.7.3"
  },
  "varInspector": {
   "cols": {
    "lenName": 16,
    "lenType": 16,
    "lenVar": 40
   },
   "kernels_config": {
    "python": {
     "delete_cmd_postfix": "",
     "delete_cmd_prefix": "del ",
     "library": "var_list.py",
     "varRefreshCmd": "print(var_dic_list())"
    },
    "r": {
     "delete_cmd_postfix": ") ",
     "delete_cmd_prefix": "rm(",
     "library": "var_list.r",
     "varRefreshCmd": "cat(var_dic_list()) "
    }
   },
   "types_to_exclude": [
    "module",
    "function",
    "builtin_function_or_method",
    "instance",
    "_Feature"
   ],
   "window_display": false
  }
 },
 "nbformat": 4,
 "nbformat_minor": 2
}
