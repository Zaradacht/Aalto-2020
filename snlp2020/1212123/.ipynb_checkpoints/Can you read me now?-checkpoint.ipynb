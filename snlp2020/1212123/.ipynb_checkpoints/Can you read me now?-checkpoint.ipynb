{
 "cells": [
  {
   "cell_type": "markdown",
   "metadata": {
    "deletable": false,
    "editable": false,
    "nbgrader": {
     "cell_type": "markdown",
     "checksum": "911a4c501b4b7098fa08cb4a52fddfd4",
     "grade": false,
     "grade_id": "cell-0abebee53341351a",
     "locked": true,
     "schema_version": 3,
     "solution": false,
     "task": false
    }
   },
   "source": [
    "ELEC-E5550 - Statistical Natural Language Processing\n",
    "# SET 0: System check"
   ]
  },
  {
   "cell_type": "markdown",
   "metadata": {
    "deletable": false,
    "editable": false,
    "nbgrader": {
     "cell_type": "markdown",
     "checksum": "80d791770afcea804807654389a3777b",
     "grade": false,
     "grade_id": "cell-f32c979330946566",
     "locked": true,
     "schema_version": 3,
     "solution": false,
     "task": false
    }
   },
   "source": [
    "# Hello and welcome to our course!\n",
    "\n",
    "This assignment helps both you and us to make sure that all basic functions needed for homework assignments are clear and working. The submission of this assignment will give you 2 bonus homework points. "
   ]
  },
  {
   "cell_type": "markdown",
   "metadata": {
    "deletable": false,
    "editable": false,
    "nbgrader": {
     "cell_type": "markdown",
     "checksum": "280e9e093962d8df4f4d84de5c268ab5",
     "grade": false,
     "grade_id": "cell-344e634d734f845f",
     "locked": true,
     "schema_version": 3,
     "solution": false,
     "task": false
    }
   },
   "source": [
    "## Task 1\n",
    "First things first, make an introduction. Type in your name and your student number in the cell below marked with \"YOUR ANSWER HERE\"."
   ]
  },
  {
   "cell_type": "markdown",
   "metadata": {
    "deletable": false,
    "nbgrader": {
     "cell_type": "markdown",
     "checksum": "aded3af3f320d39a44b556096022aef5",
     "grade": true,
     "grade_id": "stident_id",
     "locked": false,
     "points": 0.5,
     "schema_version": 3,
     "solution": true,
     "task": false
    }
   },
   "source": [
    "ZARADACH TAIFOUR 844703"
   ]
  },
  {
   "cell_type": "markdown",
   "metadata": {
    "deletable": false,
    "editable": false,
    "nbgrader": {
     "cell_type": "markdown",
     "checksum": "ed9857ff673e04c9c1810f562ddfab77",
     "grade": false,
     "grade_id": "cell-d14104064c3c320b",
     "locked": true,
     "schema_version": 3,
     "solution": false,
     "task": false
    }
   },
   "source": [
    "## TASK 2\n",
    "## DISPLAY A POSTER \n",
    "Let's start by uploading a file with the course poster and displaying it in the notebook. The poster is located in the **\"coursedata\"** directory. By performing this task, you'll make us confident that everyone has the access to the homework data directory."
   ]
  },
  {
   "cell_type": "code",
   "execution_count": null,
   "metadata": {
    "deletable": false,
    "editable": false,
    "nbgrader": {
     "cell_type": "code",
     "checksum": "b1421c6cd94159d7b5da00c1cfded267",
     "grade": false,
     "grade_id": "cell-baea1194b3fbd09f",
     "locked": true,
     "schema_version": 3,
     "solution": false,
     "task": false
    }
   },
   "outputs": [],
   "source": [
    "# import some useful things\n",
    "# you can read up more at https://ipython.readthedocs.io/en/stable/api/generated/IPython.display.html\n",
    "from IPython.display import display, Image\n",
    "\n",
    "# create an image object given the file.\n",
    "poster = Image(filename='/coursedata/course_poster.png')\n",
    "\n",
    "# Display the poster by typing \"display(poster)\" into the cell below."
   ]
  },
  {
   "cell_type": "code",
   "execution_count": null,
   "metadata": {
    "deletable": false,
    "nbgrader": {
     "cell_type": "code",
     "checksum": "0ff5119352accf6eed29f6e32e49ad00",
     "grade": true,
     "grade_id": "poster",
     "locked": false,
     "points": 0.5,
     "schema_version": 3,
     "solution": true,
     "task": false
    }
   },
   "outputs": [],
   "source": [
    "# YOUR CODE HERE\n",
    "raise NotImplementedError()"
   ]
  },
  {
   "cell_type": "markdown",
   "metadata": {
    "deletable": false,
    "editable": false,
    "nbgrader": {
     "cell_type": "markdown",
     "checksum": "daaa44ccd62ed6ed437f12951b5c6d64",
     "grade": false,
     "grade_id": "cell-69ae2cf25699648d",
     "locked": true,
     "schema_version": 3,
     "solution": false,
     "task": false
    }
   },
   "source": [
    "## TASK 3\n",
    "## ENCODE TO PIG LATIN\n",
    "**Pig Latin** aka **Igpay Atinlay** is a \"secret language\" (or a word game) that encodes words in English by\n",
    "* **1** removing the first consonant or consonant sequence to the end of a word (pig -> igp)\n",
    "* **2** adding \"ay\" to the end of the word (igp -> igpay)\n",
    "* **3** just adding \"ay\" to the end of the word if the word starts with a vowel (owl -> owlay)\n",
    "\n",
    "To simplify the task, let's assume that the letters corresponding to English vowels in the beginning of the words are **A**, **E**, **I**, **O**, **U**, and **W** you can consider all other letters as consonants. This assumption doesn't always hold: **H** in \"honest\" produces a vowel."
   ]
  },
  {
   "cell_type": "code",
   "execution_count": null,
   "metadata": {
    "deletable": false,
    "nbgrader": {
     "cell_type": "code",
     "checksum": "3665fd14ef41a3dffcd58f95afb2c807",
     "grade": false,
     "grade_id": "cell-ac45826d04abe6df",
     "locked": false,
     "schema_version": 3,
     "solution": true,
     "task": false
    }
   },
   "outputs": [],
   "source": [
    "def pig_latin(word):\n",
    "    \"\"\"\n",
    "    this function takes a word as a string and outputs its Pig Latin translation\n",
    "    \n",
    "    INPUT:\n",
    "    word - a word as a string \n",
    "    OUTPUT:\n",
    "    pig_word - a word translated to Pig Latin as a string\n",
    "    \"\"\"\n",
    "    # YOUR CODE HERE\n",
    "    raise NotImplementedError()\n",
    "    return pig_word"
   ]
  },
  {
   "cell_type": "code",
   "execution_count": null,
   "metadata": {
    "deletable": false,
    "editable": false,
    "nbgrader": {
     "cell_type": "code",
     "checksum": "fe7d3acd106c412e1863031877bfb693",
     "grade": true,
     "grade_id": "cell-9a7fcdfbd1e8e226",
     "locked": true,
     "points": 0,
     "schema_version": 3,
     "solution": false,
     "task": false
    }
   },
   "outputs": [],
   "source": [
    "from nose.tools import assert_equal\n",
    "\n",
    "assert_equal(pig_latin(\"sort\"), \"ortsay\")\n",
    "assert_equal(pig_latin(\"smile\"), \"ilesmay\")\n",
    "assert_equal(pig_latin(\"snlp\"), \"snlpay\")\n"
   ]
  },
  {
   "cell_type": "markdown",
   "metadata": {
    "deletable": false,
    "editable": false,
    "nbgrader": {
     "cell_type": "markdown",
     "checksum": "7a310d0dfce370eb27e9d19c996d6c20",
     "grade": false,
     "grade_id": "cell-42ac85a354cbac37",
     "locked": true,
     "schema_version": 3,
     "solution": false,
     "task": false
    }
   },
   "source": [
    "## TASK 4\n",
    "## DECODE FROM PIG LATIN\n",
    "Just to make sure that the system can autocheck not the function but just a variable, translate **etchfay** into English "
   ]
  },
  {
   "cell_type": "code",
   "execution_count": null,
   "metadata": {
    "deletable": false,
    "nbgrader": {
     "cell_type": "code",
     "checksum": "dde7b63de54c3fd78b2ce36c7c323a4f",
     "grade": false,
     "grade_id": "cell-ffe0cd0dbc776620",
     "locked": false,
     "schema_version": 3,
     "solution": true,
     "task": false
    }
   },
   "outputs": [],
   "source": [
    "# put the translation as a string of lowercase letters into a variable below\n",
    "translation_to_english = None ## FILL IN THE ANSWER\n",
    "# YOUR CODE HERE\n",
    "raise NotImplementedError()"
   ]
  },
  {
   "cell_type": "code",
   "execution_count": null,
   "metadata": {
    "deletable": false,
    "editable": false,
    "nbgrader": {
     "cell_type": "code",
     "checksum": "32c88b42362b85f12fbc9cf4a25fc3e9",
     "grade": true,
     "grade_id": "cell-4ab1756a6181334f",
     "locked": true,
     "points": 0,
     "schema_version": 3,
     "solution": false,
     "task": false
    }
   },
   "outputs": [],
   "source": [
    "assert_equal(translation_to_english, \"fetch\")"
   ]
  }
 ],
 "metadata": {
  "kernelspec": {
   "display_name": "Python 3",
   "language": "python",
   "name": "python3"
  },
  "language_info": {
   "codemirror_mode": {
    "name": "ipython",
    "version": 3
   },
   "file_extension": ".py",
   "mimetype": "text/x-python",
   "name": "python",
   "nbconvert_exporter": "python",
   "pygments_lexer": "ipython3",
   "version": "3.7.3"
  },
  "varInspector": {
   "cols": {
    "lenName": 16,
    "lenType": 16,
    "lenVar": 40
   },
   "kernels_config": {
    "python": {
     "delete_cmd_postfix": "",
     "delete_cmd_prefix": "del ",
     "library": "var_list.py",
     "varRefreshCmd": "print(var_dic_list())"
    },
    "r": {
     "delete_cmd_postfix": ") ",
     "delete_cmd_prefix": "rm(",
     "library": "var_list.r",
     "varRefreshCmd": "cat(var_dic_list()) "
    }
   },
   "types_to_exclude": [
    "module",
    "function",
    "builtin_function_or_method",
    "instance",
    "_Feature"
   ],
   "window_display": false
  }
 },
 "nbformat": 4,
 "nbformat_minor": 2
}
